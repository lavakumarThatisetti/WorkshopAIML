{
 "cells": [
  {
   "cell_type": "markdown",
   "id": "ae405fcb",
   "metadata": {},
   "source": [
    "### Importance of Data Analysis in Various Industries:\n",
    "\n",
    "**1. Informed Decision-Making:**\n",
    "   - Data analysis allows businesses to make informed decisions based on evidence rather than intuition. Analyzing historical and current data helps identify trends, patterns, and outliers, enabling organizations to develop effective strategies.\n",
    "\n",
    "**2. Improved Operational Efficiency:**\n",
    "   - Industries can optimize their processes by analyzing data to identify bottlenecks, inefficiencies, and areas for improvement. This leads to cost reduction and improved overall operational efficiency.\n",
    "\n",
    "**3. Enhanced Customer Understanding:**\n",
    "   - Data analysis helps businesses understand customer behavior, preferences, and satisfaction levels. This knowledge enables companies to tailor products and services to meet customer needs, ultimately improving customer loyalty.\n",
    "\n",
    "**4. Risk Management:**\n",
    "   - In sectors like finance and insurance, data analysis is crucial for risk assessment and management. Analyzing historical data helps identify potential risks, allowing organizations to take proactive measures to mitigate them.\n",
    "\n",
    "**5. Healthcare and Research Advancements:**\n",
    "   - Data analysis plays a vital role in healthcare for patient diagnosis, treatment optimization, and research. Analyzing medical data can lead to breakthroughs in disease understanding, treatment development, and personalized medicine.\n",
    "\n",
    "**6. Marketing and Sales Optimization:**\n",
    "   - Through data analysis, businesses can target specific market segments, personalize marketing campaigns, and optimize pricing strategies. This results in improved marketing ROI and increased sales."
   ]
  },
  {
   "cell_type": "markdown",
   "id": "5f1b8a64",
   "metadata": {},
   "source": [
    "### Role of Python in Data Analysis:\n",
    "\n",
    "**1. Versatility:**\n",
    "   - Python is a versatile programming language with a rich ecosystem of libraries and tools for data analysis. Its readability and ease of use make it accessible for both beginners and experienced developers.\n",
    "\n",
    "**2. Powerful Libraries:**\n",
    "   - Python's popularity in data analysis is largely attributed to libraries such as Pandas and NumPy. These libraries provide efficient data structures and functions for data manipulation, cleaning, and analysis.\n",
    "\n",
    "**3. Extensive Community Support:**\n",
    "   - Python has a large and active community that contributes to the development of data analysis libraries. This support ensures that the language is continually evolving, with new tools and resources being developed.\n",
    "\n",
    "**4. Integration Capabilities:**\n",
    "   - Python seamlessly integrates with other technologies and platforms, making it suitable for end-to-end data analysis workflows. It can be easily integrated with databases, web frameworks, and big data technologies.\n",
    "\n",
    "**5. Data Visualization:**\n",
    "   - Python offers robust data visualization libraries like Matplotlib and Seaborn, enabling users to create insightful charts and graphs to communicate findings effectively.\n",
    "\n",
    "**6. Machine Learning and AI Integration:**\n",
    "   - Python is a preferred language for machine learning and artificial intelligence. Libraries like scikit-learn and TensorFlow allow seamless integration of data analysis with machine learning, enabling the development of predictive models.\n",
    "\n",
    "In summary, Python's versatility, powerful libraries, extensive community support, integration capabilities, data visualization tools, and compatibility with machine learning make it a leading choice for data analysis in various industries."
   ]
  },
  {
   "cell_type": "markdown",
   "id": "538b0845",
   "metadata": {},
   "source": [
    "### Setting Up the Environment"
   ]
  },
  {
   "cell_type": "markdown",
   "id": "ba0f5b07",
   "metadata": {},
   "source": [
    "Requirments\n",
    "1. Python Installed\n",
    "2. Jupyter Installed \n",
    "or use\n",
    "3. Google Colab\n",
    "\n",
    "Libraries Required\n",
    "1. Pandas\n",
    "2. Numpy\n",
    "3. Matplotlib\n",
    "4. Seaborn\n",
    "5. scikit-learn"
   ]
  },
  {
   "cell_type": "code",
   "execution_count": 1,
   "id": "18daa4dd",
   "metadata": {
    "scrolled": false
   },
   "outputs": [
    {
     "name": "stdout",
     "output_type": "stream",
     "text": [
      "Requirement already satisfied: pandas in c:\\users\\91830\\anaconda3\\lib\\site-packages (1.5.3)\n",
      "Requirement already satisfied: python-dateutil>=2.8.1 in c:\\users\\91830\\anaconda3\\lib\\site-packages (from pandas) (2.8.2)\n",
      "Requirement already satisfied: pytz>=2020.1 in c:\\users\\91830\\anaconda3\\lib\\site-packages (from pandas) (2022.7)\n",
      "Requirement already satisfied: numpy>=1.21.0 in c:\\users\\91830\\anaconda3\\lib\\site-packages (from pandas) (1.23.5)\n",
      "Requirement already satisfied: six>=1.5 in c:\\users\\91830\\anaconda3\\lib\\site-packages (from python-dateutil>=2.8.1->pandas) (1.16.0)\n"
     ]
    },
    {
     "name": "stderr",
     "output_type": "stream",
     "text": [
      "\n",
      "[notice] A new release of pip is available: 23.2.1 -> 23.3.1\n",
      "[notice] To update, run: python.exe -m pip install --upgrade pip\n"
     ]
    },
    {
     "name": "stdout",
     "output_type": "stream",
     "text": [
      "Requirement already satisfied: numpy in c:\\users\\91830\\anaconda3\\lib\\site-packages (1.23.5)\n"
     ]
    },
    {
     "name": "stderr",
     "output_type": "stream",
     "text": [
      "\n",
      "[notice] A new release of pip is available: 23.2.1 -> 23.3.1\n",
      "[notice] To update, run: python.exe -m pip install --upgrade pip\n"
     ]
    },
    {
     "name": "stdout",
     "output_type": "stream",
     "text": [
      "Requirement already satisfied: matplotlib in c:\\users\\91830\\anaconda3\\lib\\site-packages (3.7.0)\n",
      "Requirement already satisfied: contourpy>=1.0.1 in c:\\users\\91830\\anaconda3\\lib\\site-packages (from matplotlib) (1.0.5)\n",
      "Requirement already satisfied: cycler>=0.10 in c:\\users\\91830\\anaconda3\\lib\\site-packages (from matplotlib) (0.11.0)\n",
      "Requirement already satisfied: fonttools>=4.22.0 in c:\\users\\91830\\anaconda3\\lib\\site-packages (from matplotlib) (4.25.0)\n",
      "Requirement already satisfied: kiwisolver>=1.0.1 in c:\\users\\91830\\anaconda3\\lib\\site-packages (from matplotlib) (1.4.4)\n",
      "Requirement already satisfied: numpy>=1.20 in c:\\users\\91830\\anaconda3\\lib\\site-packages (from matplotlib) (1.23.5)\n",
      "Requirement already satisfied: packaging>=20.0 in c:\\users\\91830\\anaconda3\\lib\\site-packages (from matplotlib) (22.0)\n",
      "Requirement already satisfied: pillow>=6.2.0 in c:\\users\\91830\\anaconda3\\lib\\site-packages (from matplotlib) (9.4.0)\n",
      "Requirement already satisfied: pyparsing>=2.3.1 in c:\\users\\91830\\anaconda3\\lib\\site-packages (from matplotlib) (3.0.9)\n",
      "Requirement already satisfied: python-dateutil>=2.7 in c:\\users\\91830\\anaconda3\\lib\\site-packages (from matplotlib) (2.8.2)\n",
      "Requirement already satisfied: six>=1.5 in c:\\users\\91830\\anaconda3\\lib\\site-packages (from python-dateutil>=2.7->matplotlib) (1.16.0)\n"
     ]
    },
    {
     "name": "stderr",
     "output_type": "stream",
     "text": [
      "\n",
      "[notice] A new release of pip is available: 23.2.1 -> 23.3.1\n",
      "[notice] To update, run: python.exe -m pip install --upgrade pip\n",
      "ERROR: unknown command \"intall\" - maybe you meant \"install\"\n",
      "\n"
     ]
    },
    {
     "name": "stdout",
     "output_type": "stream",
     "text": [
      "Requirement already satisfied: scikit-learn in c:\\users\\91830\\anaconda3\\lib\\site-packages (1.2.1)\n",
      "Requirement already satisfied: numpy>=1.17.3 in c:\\users\\91830\\anaconda3\\lib\\site-packages (from scikit-learn) (1.23.5)\n",
      "Requirement already satisfied: scipy>=1.3.2 in c:\\users\\91830\\anaconda3\\lib\\site-packages (from scikit-learn) (1.10.0)\n",
      "Requirement already satisfied: joblib>=1.1.1 in c:\\users\\91830\\anaconda3\\lib\\site-packages (from scikit-learn) (1.1.1)\n",
      "Requirement already satisfied: threadpoolctl>=2.0.0 in c:\\users\\91830\\anaconda3\\lib\\site-packages (from scikit-learn) (2.2.0)\n"
     ]
    },
    {
     "name": "stderr",
     "output_type": "stream",
     "text": [
      "\n",
      "[notice] A new release of pip is available: 23.2.1 -> 23.3.1\n",
      "[notice] To update, run: python.exe -m pip install --upgrade pip\n"
     ]
    }
   ],
   "source": [
    "!pip install pandas\n",
    "!pip install numpy\n",
    "!pip install matplotlib\n",
    "!pip intall seaborn\n",
    "!pip install scikit-learn"
   ]
  },
  {
   "cell_type": "markdown",
   "id": "3f3dd65a",
   "metadata": {},
   "source": [
    "## Code"
   ]
  },
  {
   "cell_type": "code",
   "execution_count": 2,
   "id": "5260c61b",
   "metadata": {},
   "outputs": [],
   "source": [
    "import pandas as pd\n",
    "import numpy as np    \n",
    "import seaborn as sns\n",
    "import matplotlib.pyplot as plt"
   ]
  },
  {
   "cell_type": "code",
   "execution_count": 3,
   "id": "d2e6316f",
   "metadata": {},
   "outputs": [],
   "source": [
    "amazon = pd.read_csv('amazon_dataset/Amazon Sale Report.csv', low_memory=False)"
   ]
  },
  {
   "cell_type": "code",
   "execution_count": 5,
   "id": "2ceabaa0",
   "metadata": {},
   "outputs": [
    {
     "data": {
      "text/html": [
       "<div>\n",
       "<style scoped>\n",
       "    .dataframe tbody tr th:only-of-type {\n",
       "        vertical-align: middle;\n",
       "    }\n",
       "\n",
       "    .dataframe tbody tr th {\n",
       "        vertical-align: top;\n",
       "    }\n",
       "\n",
       "    .dataframe thead th {\n",
       "        text-align: right;\n",
       "    }\n",
       "</style>\n",
       "<table border=\"1\" class=\"dataframe\">\n",
       "  <thead>\n",
       "    <tr style=\"text-align: right;\">\n",
       "      <th></th>\n",
       "      <th>index</th>\n",
       "      <th>Order ID</th>\n",
       "      <th>Date</th>\n",
       "      <th>Status</th>\n",
       "      <th>Fulfilment</th>\n",
       "      <th>Sales Channel</th>\n",
       "      <th>ship-service-level</th>\n",
       "      <th>Style</th>\n",
       "      <th>SKU</th>\n",
       "      <th>Category</th>\n",
       "      <th>...</th>\n",
       "      <th>Qty</th>\n",
       "      <th>currency</th>\n",
       "      <th>Amount</th>\n",
       "      <th>ship-city</th>\n",
       "      <th>ship-state</th>\n",
       "      <th>ship-postal-code</th>\n",
       "      <th>ship-country</th>\n",
       "      <th>promotion-ids</th>\n",
       "      <th>B2B</th>\n",
       "      <th>fulfilled-by</th>\n",
       "    </tr>\n",
       "  </thead>\n",
       "  <tbody>\n",
       "    <tr>\n",
       "      <th>0</th>\n",
       "      <td>0</td>\n",
       "      <td>405-8078784-5731545</td>\n",
       "      <td>4/30/2022</td>\n",
       "      <td>Cancelled</td>\n",
       "      <td>Merchant</td>\n",
       "      <td>Amazon.in</td>\n",
       "      <td>Standard</td>\n",
       "      <td>SET389</td>\n",
       "      <td>SET389-KR-NP-S</td>\n",
       "      <td>Set</td>\n",
       "      <td>...</td>\n",
       "      <td>0</td>\n",
       "      <td>INR</td>\n",
       "      <td>647.62</td>\n",
       "      <td>MUMBAI</td>\n",
       "      <td>MAHARASHTRA</td>\n",
       "      <td>400081.0</td>\n",
       "      <td>IN</td>\n",
       "      <td>NaN</td>\n",
       "      <td>False</td>\n",
       "      <td>Easy Ship</td>\n",
       "    </tr>\n",
       "    <tr>\n",
       "      <th>1</th>\n",
       "      <td>1</td>\n",
       "      <td>171-9198151-1101146</td>\n",
       "      <td>4/30/2022</td>\n",
       "      <td>Shipped - Delivered to Buyer</td>\n",
       "      <td>Merchant</td>\n",
       "      <td>Amazon.in</td>\n",
       "      <td>Standard</td>\n",
       "      <td>JNE3781</td>\n",
       "      <td>JNE3781-KR-XXXL</td>\n",
       "      <td>kurta</td>\n",
       "      <td>...</td>\n",
       "      <td>1</td>\n",
       "      <td>INR</td>\n",
       "      <td>406.00</td>\n",
       "      <td>BENGALURU</td>\n",
       "      <td>KARNATAKA</td>\n",
       "      <td>560085.0</td>\n",
       "      <td>IN</td>\n",
       "      <td>Amazon PLCC Free-Financing Universal Merchant ...</td>\n",
       "      <td>False</td>\n",
       "      <td>Easy Ship</td>\n",
       "    </tr>\n",
       "    <tr>\n",
       "      <th>2</th>\n",
       "      <td>2</td>\n",
       "      <td>404-0687676-7273146</td>\n",
       "      <td>4/30/2022</td>\n",
       "      <td>Shipped</td>\n",
       "      <td>Amazon</td>\n",
       "      <td>Amazon.in</td>\n",
       "      <td>Expedited</td>\n",
       "      <td>JNE3371</td>\n",
       "      <td>JNE3371-KR-XL</td>\n",
       "      <td>kurta</td>\n",
       "      <td>...</td>\n",
       "      <td>1</td>\n",
       "      <td>INR</td>\n",
       "      <td>329.00</td>\n",
       "      <td>NAVI MUMBAI</td>\n",
       "      <td>MAHARASHTRA</td>\n",
       "      <td>410210.0</td>\n",
       "      <td>IN</td>\n",
       "      <td>IN Core Free Shipping 2015/04/08 23-48-5-108</td>\n",
       "      <td>True</td>\n",
       "      <td>NaN</td>\n",
       "    </tr>\n",
       "    <tr>\n",
       "      <th>3</th>\n",
       "      <td>3</td>\n",
       "      <td>403-9615377-8133951</td>\n",
       "      <td>4/30/2022</td>\n",
       "      <td>Cancelled</td>\n",
       "      <td>Merchant</td>\n",
       "      <td>Amazon.in</td>\n",
       "      <td>Standard</td>\n",
       "      <td>J0341</td>\n",
       "      <td>J0341-DR-L</td>\n",
       "      <td>Western Dress</td>\n",
       "      <td>...</td>\n",
       "      <td>0</td>\n",
       "      <td>INR</td>\n",
       "      <td>753.33</td>\n",
       "      <td>PUDUCHERRY</td>\n",
       "      <td>PUDUCHERRY</td>\n",
       "      <td>605008.0</td>\n",
       "      <td>IN</td>\n",
       "      <td>NaN</td>\n",
       "      <td>False</td>\n",
       "      <td>Easy Ship</td>\n",
       "    </tr>\n",
       "    <tr>\n",
       "      <th>4</th>\n",
       "      <td>4</td>\n",
       "      <td>407-1069790-7240320</td>\n",
       "      <td>4/30/2022</td>\n",
       "      <td>Shipped</td>\n",
       "      <td>Amazon</td>\n",
       "      <td>Amazon.in</td>\n",
       "      <td>Expedited</td>\n",
       "      <td>JNE3671</td>\n",
       "      <td>JNE3671-TU-XXXL</td>\n",
       "      <td>Top</td>\n",
       "      <td>...</td>\n",
       "      <td>1</td>\n",
       "      <td>INR</td>\n",
       "      <td>574.00</td>\n",
       "      <td>CHENNAI</td>\n",
       "      <td>TAMIL NADU</td>\n",
       "      <td>600073.0</td>\n",
       "      <td>IN</td>\n",
       "      <td>NaN</td>\n",
       "      <td>False</td>\n",
       "      <td>NaN</td>\n",
       "    </tr>\n",
       "    <tr>\n",
       "      <th>5</th>\n",
       "      <td>5</td>\n",
       "      <td>404-1490984-4578765</td>\n",
       "      <td>4/30/2022</td>\n",
       "      <td>Shipped</td>\n",
       "      <td>Amazon</td>\n",
       "      <td>Amazon.in</td>\n",
       "      <td>Expedited</td>\n",
       "      <td>SET264</td>\n",
       "      <td>SET264-KR-NP-XL</td>\n",
       "      <td>Set</td>\n",
       "      <td>...</td>\n",
       "      <td>1</td>\n",
       "      <td>INR</td>\n",
       "      <td>824.00</td>\n",
       "      <td>GHAZIABAD</td>\n",
       "      <td>UTTAR PRADESH</td>\n",
       "      <td>201102.0</td>\n",
       "      <td>IN</td>\n",
       "      <td>IN Core Free Shipping 2015/04/08 23-48-5-108</td>\n",
       "      <td>False</td>\n",
       "      <td>NaN</td>\n",
       "    </tr>\n",
       "    <tr>\n",
       "      <th>6</th>\n",
       "      <td>6</td>\n",
       "      <td>408-5748499-6859555</td>\n",
       "      <td>4/30/2022</td>\n",
       "      <td>Shipped</td>\n",
       "      <td>Amazon</td>\n",
       "      <td>Amazon.in</td>\n",
       "      <td>Expedited</td>\n",
       "      <td>J0095</td>\n",
       "      <td>J0095-SET-L</td>\n",
       "      <td>Set</td>\n",
       "      <td>...</td>\n",
       "      <td>1</td>\n",
       "      <td>INR</td>\n",
       "      <td>653.00</td>\n",
       "      <td>CHANDIGARH</td>\n",
       "      <td>CHANDIGARH</td>\n",
       "      <td>160036.0</td>\n",
       "      <td>IN</td>\n",
       "      <td>IN Core Free Shipping 2015/04/08 23-48-5-108</td>\n",
       "      <td>False</td>\n",
       "      <td>NaN</td>\n",
       "    </tr>\n",
       "    <tr>\n",
       "      <th>7</th>\n",
       "      <td>7</td>\n",
       "      <td>406-7807733-3785945</td>\n",
       "      <td>4/30/2022</td>\n",
       "      <td>Shipped - Delivered to Buyer</td>\n",
       "      <td>Merchant</td>\n",
       "      <td>Amazon.in</td>\n",
       "      <td>Standard</td>\n",
       "      <td>JNE3405</td>\n",
       "      <td>JNE3405-KR-S</td>\n",
       "      <td>kurta</td>\n",
       "      <td>...</td>\n",
       "      <td>1</td>\n",
       "      <td>INR</td>\n",
       "      <td>399.00</td>\n",
       "      <td>HYDERABAD</td>\n",
       "      <td>TELANGANA</td>\n",
       "      <td>500032.0</td>\n",
       "      <td>IN</td>\n",
       "      <td>Amazon PLCC Free-Financing Universal Merchant ...</td>\n",
       "      <td>False</td>\n",
       "      <td>Easy Ship</td>\n",
       "    </tr>\n",
       "    <tr>\n",
       "      <th>8</th>\n",
       "      <td>8</td>\n",
       "      <td>407-5443024-5233168</td>\n",
       "      <td>4/30/2022</td>\n",
       "      <td>Cancelled</td>\n",
       "      <td>Amazon</td>\n",
       "      <td>Amazon.in</td>\n",
       "      <td>Expedited</td>\n",
       "      <td>SET200</td>\n",
       "      <td>SET200-KR-NP-A-XXXL</td>\n",
       "      <td>Set</td>\n",
       "      <td>...</td>\n",
       "      <td>0</td>\n",
       "      <td>NaN</td>\n",
       "      <td>NaN</td>\n",
       "      <td>HYDERABAD</td>\n",
       "      <td>TELANGANA</td>\n",
       "      <td>500008.0</td>\n",
       "      <td>IN</td>\n",
       "      <td>IN Core Free Shipping 2015/04/08 23-48-5-108</td>\n",
       "      <td>False</td>\n",
       "      <td>NaN</td>\n",
       "    </tr>\n",
       "    <tr>\n",
       "      <th>9</th>\n",
       "      <td>9</td>\n",
       "      <td>402-4393761-0311520</td>\n",
       "      <td>4/30/2022</td>\n",
       "      <td>Shipped</td>\n",
       "      <td>Amazon</td>\n",
       "      <td>Amazon.in</td>\n",
       "      <td>Expedited</td>\n",
       "      <td>JNE3461</td>\n",
       "      <td>JNE3461-KR-XXL</td>\n",
       "      <td>kurta</td>\n",
       "      <td>...</td>\n",
       "      <td>1</td>\n",
       "      <td>INR</td>\n",
       "      <td>363.00</td>\n",
       "      <td>Chennai</td>\n",
       "      <td>TAMIL NADU</td>\n",
       "      <td>600041.0</td>\n",
       "      <td>IN</td>\n",
       "      <td>NaN</td>\n",
       "      <td>False</td>\n",
       "      <td>NaN</td>\n",
       "    </tr>\n",
       "  </tbody>\n",
       "</table>\n",
       "<p>10 rows × 23 columns</p>\n",
       "</div>"
      ],
      "text/plain": [
       "   index             Order ID       Date                        Status  \\\n",
       "0      0  405-8078784-5731545  4/30/2022                     Cancelled   \n",
       "1      1  171-9198151-1101146  4/30/2022  Shipped - Delivered to Buyer   \n",
       "2      2  404-0687676-7273146  4/30/2022                       Shipped   \n",
       "3      3  403-9615377-8133951  4/30/2022                     Cancelled   \n",
       "4      4  407-1069790-7240320  4/30/2022                       Shipped   \n",
       "5      5  404-1490984-4578765  4/30/2022                       Shipped   \n",
       "6      6  408-5748499-6859555  4/30/2022                       Shipped   \n",
       "7      7  406-7807733-3785945  4/30/2022  Shipped - Delivered to Buyer   \n",
       "8      8  407-5443024-5233168  4/30/2022                     Cancelled   \n",
       "9      9  402-4393761-0311520  4/30/2022                       Shipped   \n",
       "\n",
       "  Fulfilment Sales Channel  ship-service-level    Style                  SKU  \\\n",
       "0   Merchant      Amazon.in           Standard   SET389       SET389-KR-NP-S   \n",
       "1   Merchant      Amazon.in           Standard  JNE3781      JNE3781-KR-XXXL   \n",
       "2     Amazon      Amazon.in          Expedited  JNE3371        JNE3371-KR-XL   \n",
       "3   Merchant      Amazon.in           Standard    J0341           J0341-DR-L   \n",
       "4     Amazon      Amazon.in          Expedited  JNE3671      JNE3671-TU-XXXL   \n",
       "5     Amazon      Amazon.in          Expedited   SET264      SET264-KR-NP-XL   \n",
       "6     Amazon      Amazon.in          Expedited    J0095          J0095-SET-L   \n",
       "7   Merchant      Amazon.in           Standard  JNE3405         JNE3405-KR-S   \n",
       "8     Amazon      Amazon.in          Expedited   SET200  SET200-KR-NP-A-XXXL   \n",
       "9     Amazon      Amazon.in          Expedited  JNE3461       JNE3461-KR-XXL   \n",
       "\n",
       "        Category  ... Qty currency  Amount    ship-city     ship-state  \\\n",
       "0            Set  ...   0      INR  647.62       MUMBAI    MAHARASHTRA   \n",
       "1          kurta  ...   1      INR  406.00    BENGALURU      KARNATAKA   \n",
       "2          kurta  ...   1      INR  329.00  NAVI MUMBAI    MAHARASHTRA   \n",
       "3  Western Dress  ...   0      INR  753.33   PUDUCHERRY     PUDUCHERRY   \n",
       "4            Top  ...   1      INR  574.00      CHENNAI     TAMIL NADU   \n",
       "5            Set  ...   1      INR  824.00    GHAZIABAD  UTTAR PRADESH   \n",
       "6            Set  ...   1      INR  653.00   CHANDIGARH     CHANDIGARH   \n",
       "7          kurta  ...   1      INR  399.00    HYDERABAD      TELANGANA   \n",
       "8            Set  ...   0      NaN     NaN    HYDERABAD      TELANGANA   \n",
       "9          kurta  ...   1      INR  363.00      Chennai     TAMIL NADU   \n",
       "\n",
       "   ship-postal-code ship-country  \\\n",
       "0          400081.0           IN   \n",
       "1          560085.0           IN   \n",
       "2          410210.0           IN   \n",
       "3          605008.0           IN   \n",
       "4          600073.0           IN   \n",
       "5          201102.0           IN   \n",
       "6          160036.0           IN   \n",
       "7          500032.0           IN   \n",
       "8          500008.0           IN   \n",
       "9          600041.0           IN   \n",
       "\n",
       "                                       promotion-ids    B2B fulfilled-by  \n",
       "0                                                NaN  False    Easy Ship  \n",
       "1  Amazon PLCC Free-Financing Universal Merchant ...  False    Easy Ship  \n",
       "2       IN Core Free Shipping 2015/04/08 23-48-5-108   True          NaN  \n",
       "3                                                NaN  False    Easy Ship  \n",
       "4                                                NaN  False          NaN  \n",
       "5       IN Core Free Shipping 2015/04/08 23-48-5-108  False          NaN  \n",
       "6       IN Core Free Shipping 2015/04/08 23-48-5-108  False          NaN  \n",
       "7  Amazon PLCC Free-Financing Universal Merchant ...  False    Easy Ship  \n",
       "8       IN Core Free Shipping 2015/04/08 23-48-5-108  False          NaN  \n",
       "9                                                NaN  False          NaN  \n",
       "\n",
       "[10 rows x 23 columns]"
      ]
     },
     "execution_count": 5,
     "metadata": {},
     "output_type": "execute_result"
    }
   ],
   "source": [
    "amazon.head(10)"
   ]
  },
  {
   "cell_type": "code",
   "execution_count": 4,
   "id": "ed96899d",
   "metadata": {},
   "outputs": [
    {
     "name": "stdout",
     "output_type": "stream",
     "text": [
      "<class 'pandas.core.frame.DataFrame'>\n",
      "RangeIndex: 128975 entries, 0 to 128974\n",
      "Data columns (total 23 columns):\n",
      " #   Column              Non-Null Count   Dtype  \n",
      "---  ------              --------------   -----  \n",
      " 0   index               128975 non-null  int64  \n",
      " 1   Order ID            128975 non-null  object \n",
      " 2   Date                128975 non-null  object \n",
      " 3   Status              128975 non-null  object \n",
      " 4   Fulfilment          128975 non-null  object \n",
      " 5   Sales Channel       128975 non-null  object \n",
      " 6   ship-service-level  128975 non-null  object \n",
      " 7   Style               128975 non-null  object \n",
      " 8   SKU                 128975 non-null  object \n",
      " 9   Category            128975 non-null  object \n",
      " 10  Size                128975 non-null  object \n",
      " 11  ASIN                128975 non-null  object \n",
      " 12  Courier Status      122103 non-null  object \n",
      " 13  Qty                 128975 non-null  int64  \n",
      " 14  currency            121180 non-null  object \n",
      " 15  Amount              121180 non-null  float64\n",
      " 16  ship-city           128942 non-null  object \n",
      " 17  ship-state          128942 non-null  object \n",
      " 18  ship-postal-code    128942 non-null  float64\n",
      " 19  ship-country        128942 non-null  object \n",
      " 20  promotion-ids       79822 non-null   object \n",
      " 21  B2B                 128975 non-null  bool   \n",
      " 22  fulfilled-by        39277 non-null   object \n",
      "dtypes: bool(1), float64(2), int64(2), object(18)\n",
      "memory usage: 21.8+ MB\n"
     ]
    }
   ],
   "source": [
    "## Understand Columns\n",
    "amazon.info()"
   ]
  },
  {
   "cell_type": "code",
   "execution_count": 5,
   "id": "4ae29dfd",
   "metadata": {},
   "outputs": [
    {
     "data": {
      "text/plain": [
       "index                 128975\n",
       "Order ID              120378\n",
       "Date                      91\n",
       "Status                    13\n",
       "Fulfilment                 2\n",
       "Sales Channel              2\n",
       "ship-service-level         2\n",
       "Style                   1377\n",
       "SKU                     7195\n",
       "Category                   9\n",
       "Size                      11\n",
       "ASIN                    7190\n",
       "Courier Status             3\n",
       "Qty                       10\n",
       "currency                   1\n",
       "Amount                  1410\n",
       "ship-city               8955\n",
       "ship-state                69\n",
       "ship-postal-code        9459\n",
       "ship-country               1\n",
       "promotion-ids           5787\n",
       "B2B                        2\n",
       "fulfilled-by               1\n",
       "dtype: int64"
      ]
     },
     "execution_count": 5,
     "metadata": {},
     "output_type": "execute_result"
    }
   ],
   "source": [
    "amazon.nunique()"
   ]
  },
  {
   "cell_type": "markdown",
   "id": "a5e2cc91",
   "metadata": {},
   "source": [
    "**Amazon Standard Identification Number** (ASIN) An Amazon Standard Identification Number (ASIN) is a type of Amazon internal catalogue number. Each ASIN is unique and always associated with a particular product or product variation"
   ]
  },
  {
   "cell_type": "code",
   "execution_count": 6,
   "id": "65a6826d",
   "metadata": {},
   "outputs": [
    {
     "data": {
      "text/html": [
       "<div>\n",
       "<style scoped>\n",
       "    .dataframe tbody tr th:only-of-type {\n",
       "        vertical-align: middle;\n",
       "    }\n",
       "\n",
       "    .dataframe tbody tr th {\n",
       "        vertical-align: top;\n",
       "    }\n",
       "\n",
       "    .dataframe thead th {\n",
       "        text-align: right;\n",
       "    }\n",
       "</style>\n",
       "<table border=\"1\" class=\"dataframe\">\n",
       "  <thead>\n",
       "    <tr style=\"text-align: right;\">\n",
       "      <th></th>\n",
       "      <th>index</th>\n",
       "      <th>Qty</th>\n",
       "      <th>Amount</th>\n",
       "      <th>ship-postal-code</th>\n",
       "    </tr>\n",
       "  </thead>\n",
       "  <tbody>\n",
       "    <tr>\n",
       "      <th>count</th>\n",
       "      <td>128975.000000</td>\n",
       "      <td>128975.000000</td>\n",
       "      <td>121180.000000</td>\n",
       "      <td>128942.000000</td>\n",
       "    </tr>\n",
       "    <tr>\n",
       "      <th>mean</th>\n",
       "      <td>64487.000000</td>\n",
       "      <td>0.904431</td>\n",
       "      <td>648.561465</td>\n",
       "      <td>463966.236509</td>\n",
       "    </tr>\n",
       "    <tr>\n",
       "      <th>std</th>\n",
       "      <td>37232.019822</td>\n",
       "      <td>0.313354</td>\n",
       "      <td>281.211687</td>\n",
       "      <td>191476.764941</td>\n",
       "    </tr>\n",
       "    <tr>\n",
       "      <th>min</th>\n",
       "      <td>0.000000</td>\n",
       "      <td>0.000000</td>\n",
       "      <td>0.000000</td>\n",
       "      <td>110001.000000</td>\n",
       "    </tr>\n",
       "    <tr>\n",
       "      <th>25%</th>\n",
       "      <td>32243.500000</td>\n",
       "      <td>1.000000</td>\n",
       "      <td>449.000000</td>\n",
       "      <td>382421.000000</td>\n",
       "    </tr>\n",
       "    <tr>\n",
       "      <th>50%</th>\n",
       "      <td>64487.000000</td>\n",
       "      <td>1.000000</td>\n",
       "      <td>605.000000</td>\n",
       "      <td>500033.000000</td>\n",
       "    </tr>\n",
       "    <tr>\n",
       "      <th>75%</th>\n",
       "      <td>96730.500000</td>\n",
       "      <td>1.000000</td>\n",
       "      <td>788.000000</td>\n",
       "      <td>600024.000000</td>\n",
       "    </tr>\n",
       "    <tr>\n",
       "      <th>max</th>\n",
       "      <td>128974.000000</td>\n",
       "      <td>15.000000</td>\n",
       "      <td>5584.000000</td>\n",
       "      <td>989898.000000</td>\n",
       "    </tr>\n",
       "  </tbody>\n",
       "</table>\n",
       "</div>"
      ],
      "text/plain": [
       "               index            Qty         Amount  ship-postal-code\n",
       "count  128975.000000  128975.000000  121180.000000     128942.000000\n",
       "mean    64487.000000       0.904431     648.561465     463966.236509\n",
       "std     37232.019822       0.313354     281.211687     191476.764941\n",
       "min         0.000000       0.000000       0.000000     110001.000000\n",
       "25%     32243.500000       1.000000     449.000000     382421.000000\n",
       "50%     64487.000000       1.000000     605.000000     500033.000000\n",
       "75%     96730.500000       1.000000     788.000000     600024.000000\n",
       "max    128974.000000      15.000000    5584.000000     989898.000000"
      ]
     },
     "execution_count": 6,
     "metadata": {},
     "output_type": "execute_result"
    }
   ],
   "source": [
    "amazon.describe()"
   ]
  },
  {
   "cell_type": "code",
   "execution_count": 7,
   "id": "4db64f5e",
   "metadata": {},
   "outputs": [
    {
     "data": {
      "text/plain": [
       "index                     0\n",
       "Order ID                  0\n",
       "Date                      0\n",
       "Status                    0\n",
       "Fulfilment                0\n",
       "Sales Channel             0\n",
       "ship-service-level        0\n",
       "Style                     0\n",
       "SKU                       0\n",
       "Category                  0\n",
       "Size                      0\n",
       "ASIN                      0\n",
       "Courier Status         6872\n",
       "Qty                       0\n",
       "currency               7795\n",
       "Amount                 7795\n",
       "ship-city                33\n",
       "ship-state               33\n",
       "ship-postal-code         33\n",
       "ship-country             33\n",
       "promotion-ids         49153\n",
       "B2B                       0\n",
       "fulfilled-by          89698\n",
       "dtype: int64"
      ]
     },
     "execution_count": 7,
     "metadata": {},
     "output_type": "execute_result"
    }
   ],
   "source": [
    "amazon.isnull().sum()"
   ]
  },
  {
   "cell_type": "markdown",
   "id": "9de30a46",
   "metadata": {},
   "source": [
    "## Data Preprocessing"
   ]
  },
  {
   "cell_type": "markdown",
   "id": "b05560d1",
   "metadata": {},
   "source": [
    "### Understand Columns\n",
    "\n",
    "Date Range - April 1, 2022 to June 29, 2022 <br>\n",
    "\n",
    "#### Not Important Columns \n",
    "\n",
    "index - its unqiue value we didnt get any info from this is its better to drop<br>\n",
    "fulfilled-by - only value was amazon courier **\"easy-ship\"** with no other relationship<br>\n",
    "ship-country - The shipping Country is **India**<br>\n",
    "currency - the currency is Indian Rupee (**INR**)<br>\n",
    "Sales Channel - assumed to be sold through **amazon**<br>\n",
    "\n",
    "\n",
    "#### Columns to do data manipulation\n",
    "Order and ASIN - drop any duplicated values based on order # and product # (ASIN)<br>\n",
    "Courier Status - will fill missing with 'Unknown'<br>\n",
    "promotion-ids - will fill missing with 'No Promotion'<br>\n",
    "Amount - will fill missing with 0, since 97% of of all Orders with missing Amount are cancelled<br>\n",
    "ship-city -<br>\n",
    "ship-state-<br>\n",
    "ship-postal-code -<br>"
   ]
  },
  {
   "cell_type": "code",
   "execution_count": 8,
   "id": "93d667e4",
   "metadata": {},
   "outputs": [],
   "source": [
    "## Droping Columns\n",
    "amazon.drop(columns= ['index', 'fulfilled-by', 'ship-country', 'currency', 'Sales Channel '], inplace = True)"
   ]
  },
  {
   "cell_type": "markdown",
   "id": "192f03af",
   "metadata": {},
   "source": [
    "#### Drop Duplicates\n",
    "Here consider order ID and ASIN. Order ID should always be unqiue can have multiple products so if we "
   ]
  },
  {
   "cell_type": "code",
   "execution_count": 9,
   "id": "1bc0db66",
   "metadata": {},
   "outputs": [
    {
     "data": {
      "text/html": [
       "<div>\n",
       "<style scoped>\n",
       "    .dataframe tbody tr th:only-of-type {\n",
       "        vertical-align: middle;\n",
       "    }\n",
       "\n",
       "    .dataframe tbody tr th {\n",
       "        vertical-align: top;\n",
       "    }\n",
       "\n",
       "    .dataframe thead th {\n",
       "        text-align: right;\n",
       "    }\n",
       "</style>\n",
       "<table border=\"1\" class=\"dataframe\">\n",
       "  <thead>\n",
       "    <tr style=\"text-align: right;\">\n",
       "      <th></th>\n",
       "      <th>Order ID</th>\n",
       "      <th>Date</th>\n",
       "      <th>Status</th>\n",
       "      <th>Fulfilment</th>\n",
       "      <th>ship-service-level</th>\n",
       "      <th>Style</th>\n",
       "      <th>SKU</th>\n",
       "      <th>Category</th>\n",
       "      <th>Size</th>\n",
       "      <th>ASIN</th>\n",
       "      <th>Courier Status</th>\n",
       "      <th>Qty</th>\n",
       "      <th>Amount</th>\n",
       "      <th>ship-city</th>\n",
       "      <th>ship-state</th>\n",
       "      <th>ship-postal-code</th>\n",
       "      <th>promotion-ids</th>\n",
       "      <th>B2B</th>\n",
       "    </tr>\n",
       "  </thead>\n",
       "  <tbody>\n",
       "    <tr>\n",
       "      <th>30660</th>\n",
       "      <td>406-0372545-6086735</td>\n",
       "      <td>4/12/2022</td>\n",
       "      <td>Cancelled</td>\n",
       "      <td>Amazon</td>\n",
       "      <td>Expedited</td>\n",
       "      <td>SET197</td>\n",
       "      <td>SET197-KR-NP-L</td>\n",
       "      <td>Set</td>\n",
       "      <td>L</td>\n",
       "      <td>B08B3YPD63</td>\n",
       "      <td>Cancelled</td>\n",
       "      <td>0</td>\n",
       "      <td>NaN</td>\n",
       "      <td>Siliguri</td>\n",
       "      <td>WEST BENGAL</td>\n",
       "      <td>734008.0</td>\n",
       "      <td>NaN</td>\n",
       "      <td>False</td>\n",
       "    </tr>\n",
       "    <tr>\n",
       "      <th>30661</th>\n",
       "      <td>406-0372545-6086735</td>\n",
       "      <td>4/12/2022</td>\n",
       "      <td>Cancelled</td>\n",
       "      <td>Amazon</td>\n",
       "      <td>Expedited</td>\n",
       "      <td>SET197</td>\n",
       "      <td>SET197-KR-NP-L</td>\n",
       "      <td>Set</td>\n",
       "      <td>L</td>\n",
       "      <td>B08B3YPD63</td>\n",
       "      <td>Cancelled</td>\n",
       "      <td>0</td>\n",
       "      <td>NaN</td>\n",
       "      <td>Siliguri</td>\n",
       "      <td>WEST BENGAL</td>\n",
       "      <td>734008.0</td>\n",
       "      <td>NaN</td>\n",
       "      <td>False</td>\n",
       "    </tr>\n",
       "    <tr>\n",
       "      <th>41291</th>\n",
       "      <td>408-0373839-4433120</td>\n",
       "      <td>4/5/2022</td>\n",
       "      <td>Cancelled</td>\n",
       "      <td>Amazon</td>\n",
       "      <td>Expedited</td>\n",
       "      <td>JNE3501</td>\n",
       "      <td>JNE3501-KR-M</td>\n",
       "      <td>kurta</td>\n",
       "      <td>M</td>\n",
       "      <td>B08MYVCDB4</td>\n",
       "      <td>Cancelled</td>\n",
       "      <td>0</td>\n",
       "      <td>NaN</td>\n",
       "      <td>BENGALURU</td>\n",
       "      <td>KARNATAKA</td>\n",
       "      <td>560072.0</td>\n",
       "      <td>NaN</td>\n",
       "      <td>False</td>\n",
       "    </tr>\n",
       "    <tr>\n",
       "      <th>41292</th>\n",
       "      <td>408-0373839-4433120</td>\n",
       "      <td>4/5/2022</td>\n",
       "      <td>Cancelled</td>\n",
       "      <td>Amazon</td>\n",
       "      <td>Expedited</td>\n",
       "      <td>JNE3501</td>\n",
       "      <td>JNE3501-KR-M</td>\n",
       "      <td>kurta</td>\n",
       "      <td>M</td>\n",
       "      <td>B08MYVCDB4</td>\n",
       "      <td>Cancelled</td>\n",
       "      <td>0</td>\n",
       "      <td>NaN</td>\n",
       "      <td>BENGALURU</td>\n",
       "      <td>KARNATAKA</td>\n",
       "      <td>560072.0</td>\n",
       "      <td>NaN</td>\n",
       "      <td>False</td>\n",
       "    </tr>\n",
       "    <tr>\n",
       "      <th>52330</th>\n",
       "      <td>407-8364731-6449117</td>\n",
       "      <td>5/29/2022</td>\n",
       "      <td>Shipped</td>\n",
       "      <td>Amazon</td>\n",
       "      <td>Expedited</td>\n",
       "      <td>JNE3769</td>\n",
       "      <td>JNE3769-KR-L</td>\n",
       "      <td>kurta</td>\n",
       "      <td>L</td>\n",
       "      <td>B09K3T675B</td>\n",
       "      <td>Cancelled</td>\n",
       "      <td>0</td>\n",
       "      <td>NaN</td>\n",
       "      <td>Theni</td>\n",
       "      <td>TAMIL NADU</td>\n",
       "      <td>625579.0</td>\n",
       "      <td>IN Core Free Shipping 2015/04/08 23-48-5-108</td>\n",
       "      <td>False</td>\n",
       "    </tr>\n",
       "    <tr>\n",
       "      <th>52333</th>\n",
       "      <td>407-8364731-6449117</td>\n",
       "      <td>5/29/2022</td>\n",
       "      <td>Shipped</td>\n",
       "      <td>Amazon</td>\n",
       "      <td>Expedited</td>\n",
       "      <td>JNE3769</td>\n",
       "      <td>JNE3769-KR-L</td>\n",
       "      <td>kurta</td>\n",
       "      <td>L</td>\n",
       "      <td>B09K3T675B</td>\n",
       "      <td>Shipped</td>\n",
       "      <td>1</td>\n",
       "      <td>487.0</td>\n",
       "      <td>Theni</td>\n",
       "      <td>TAMIL NADU</td>\n",
       "      <td>625579.0</td>\n",
       "      <td>IN Core Free Shipping 2015/04/08 23-48-5-108</td>\n",
       "      <td>False</td>\n",
       "    </tr>\n",
       "    <tr>\n",
       "      <th>79844</th>\n",
       "      <td>171-9628368-5329958</td>\n",
       "      <td>5/7/2022</td>\n",
       "      <td>Cancelled</td>\n",
       "      <td>Amazon</td>\n",
       "      <td>Expedited</td>\n",
       "      <td>J0329</td>\n",
       "      <td>J0329-KR-L</td>\n",
       "      <td>kurta</td>\n",
       "      <td>L</td>\n",
       "      <td>B09KXRB7JV</td>\n",
       "      <td>Cancelled</td>\n",
       "      <td>0</td>\n",
       "      <td>NaN</td>\n",
       "      <td>ERNAKULAM</td>\n",
       "      <td>KERALA</td>\n",
       "      <td>682017.0</td>\n",
       "      <td>NaN</td>\n",
       "      <td>False</td>\n",
       "    </tr>\n",
       "    <tr>\n",
       "      <th>79845</th>\n",
       "      <td>171-9628368-5329958</td>\n",
       "      <td>5/7/2022</td>\n",
       "      <td>Cancelled</td>\n",
       "      <td>Amazon</td>\n",
       "      <td>Expedited</td>\n",
       "      <td>J0329</td>\n",
       "      <td>J0329-KR-L</td>\n",
       "      <td>kurta</td>\n",
       "      <td>L</td>\n",
       "      <td>B09KXRB7JV</td>\n",
       "      <td>Cancelled</td>\n",
       "      <td>0</td>\n",
       "      <td>NaN</td>\n",
       "      <td>ERNAKULAM</td>\n",
       "      <td>KERALA</td>\n",
       "      <td>682017.0</td>\n",
       "      <td>NaN</td>\n",
       "      <td>False</td>\n",
       "    </tr>\n",
       "    <tr>\n",
       "      <th>85790</th>\n",
       "      <td>171-3249942-2207542</td>\n",
       "      <td>5/3/2022</td>\n",
       "      <td>Shipped</td>\n",
       "      <td>Amazon</td>\n",
       "      <td>Expedited</td>\n",
       "      <td>SET323</td>\n",
       "      <td>SET323-KR-NP-XL</td>\n",
       "      <td>Set</td>\n",
       "      <td>XL</td>\n",
       "      <td>B09NDKKM7P</td>\n",
       "      <td>Shipped</td>\n",
       "      <td>1</td>\n",
       "      <td>939.0</td>\n",
       "      <td>PUNE</td>\n",
       "      <td>MAHARASHTRA</td>\n",
       "      <td>411057.0</td>\n",
       "      <td>IN Core Free Shipping 2015/04/08 23-48-5-108</td>\n",
       "      <td>False</td>\n",
       "    </tr>\n",
       "    <tr>\n",
       "      <th>85791</th>\n",
       "      <td>171-3249942-2207542</td>\n",
       "      <td>5/3/2022</td>\n",
       "      <td>Shipped</td>\n",
       "      <td>Amazon</td>\n",
       "      <td>Expedited</td>\n",
       "      <td>SET323</td>\n",
       "      <td>SET323-KR-NP-XL</td>\n",
       "      <td>Set</td>\n",
       "      <td>XL</td>\n",
       "      <td>B09NDKKM7P</td>\n",
       "      <td>Shipped</td>\n",
       "      <td>1</td>\n",
       "      <td>939.0</td>\n",
       "      <td>PUNE</td>\n",
       "      <td>MAHARASHTRA</td>\n",
       "      <td>411057.0</td>\n",
       "      <td>IN Core Free Shipping 2015/04/08 23-48-5-108</td>\n",
       "      <td>False</td>\n",
       "    </tr>\n",
       "    <tr>\n",
       "      <th>86418</th>\n",
       "      <td>405-8669298-3850736</td>\n",
       "      <td>5/3/2022</td>\n",
       "      <td>Shipped</td>\n",
       "      <td>Amazon</td>\n",
       "      <td>Expedited</td>\n",
       "      <td>MEN5025</td>\n",
       "      <td>MEN5025-KR-XXXL</td>\n",
       "      <td>kurta</td>\n",
       "      <td>3XL</td>\n",
       "      <td>B08YYQS8FH</td>\n",
       "      <td>Shipped</td>\n",
       "      <td>1</td>\n",
       "      <td>533.0</td>\n",
       "      <td>GHAZIABAD</td>\n",
       "      <td>UTTAR PRADESH</td>\n",
       "      <td>201010.0</td>\n",
       "      <td>IN Core Free Shipping 2015/04/08 23-48-5-108</td>\n",
       "      <td>False</td>\n",
       "    </tr>\n",
       "    <tr>\n",
       "      <th>86419</th>\n",
       "      <td>405-8669298-3850736</td>\n",
       "      <td>5/3/2022</td>\n",
       "      <td>Shipped</td>\n",
       "      <td>Amazon</td>\n",
       "      <td>Expedited</td>\n",
       "      <td>MEN5025</td>\n",
       "      <td>MEN5025-KR-XXXL</td>\n",
       "      <td>kurta</td>\n",
       "      <td>3XL</td>\n",
       "      <td>B08YYQS8FH</td>\n",
       "      <td>Shipped</td>\n",
       "      <td>1</td>\n",
       "      <td>533.0</td>\n",
       "      <td>GHAZIABAD</td>\n",
       "      <td>UTTAR PRADESH</td>\n",
       "      <td>201010.0</td>\n",
       "      <td>IN Core Free Shipping 2015/04/08 23-48-5-108</td>\n",
       "      <td>False</td>\n",
       "    </tr>\n",
       "    <tr>\n",
       "      <th>98954</th>\n",
       "      <td>407-4853873-4978725</td>\n",
       "      <td>6/22/2022</td>\n",
       "      <td>Shipped</td>\n",
       "      <td>Amazon</td>\n",
       "      <td>Expedited</td>\n",
       "      <td>J0230</td>\n",
       "      <td>J0230-SKD-M</td>\n",
       "      <td>Set</td>\n",
       "      <td>M</td>\n",
       "      <td>B08XNJG8B1</td>\n",
       "      <td>Shipped</td>\n",
       "      <td>1</td>\n",
       "      <td>1163.0</td>\n",
       "      <td>Zirakpur</td>\n",
       "      <td>Punjab</td>\n",
       "      <td>140603.0</td>\n",
       "      <td>IN Core Free Shipping 2015/04/08 23-48-5-108</td>\n",
       "      <td>False</td>\n",
       "    </tr>\n",
       "    <tr>\n",
       "      <th>98955</th>\n",
       "      <td>407-4853873-4978725</td>\n",
       "      <td>6/22/2022</td>\n",
       "      <td>Shipped</td>\n",
       "      <td>Amazon</td>\n",
       "      <td>Expedited</td>\n",
       "      <td>J0230</td>\n",
       "      <td>J0230-SKD-M</td>\n",
       "      <td>Set</td>\n",
       "      <td>M</td>\n",
       "      <td>B08XNJG8B1</td>\n",
       "      <td>Shipped</td>\n",
       "      <td>1</td>\n",
       "      <td>1163.0</td>\n",
       "      <td>Zirakpur</td>\n",
       "      <td>Punjab</td>\n",
       "      <td>140603.0</td>\n",
       "      <td>IN Core Free Shipping 2015/04/08 23-48-5-108</td>\n",
       "      <td>False</td>\n",
       "    </tr>\n",
       "  </tbody>\n",
       "</table>\n",
       "</div>"
      ],
      "text/plain": [
       "                  Order ID       Date     Status Fulfilment  \\\n",
       "30660  406-0372545-6086735  4/12/2022  Cancelled     Amazon   \n",
       "30661  406-0372545-6086735  4/12/2022  Cancelled     Amazon   \n",
       "41291  408-0373839-4433120   4/5/2022  Cancelled     Amazon   \n",
       "41292  408-0373839-4433120   4/5/2022  Cancelled     Amazon   \n",
       "52330  407-8364731-6449117  5/29/2022    Shipped     Amazon   \n",
       "52333  407-8364731-6449117  5/29/2022    Shipped     Amazon   \n",
       "79844  171-9628368-5329958   5/7/2022  Cancelled     Amazon   \n",
       "79845  171-9628368-5329958   5/7/2022  Cancelled     Amazon   \n",
       "85790  171-3249942-2207542   5/3/2022    Shipped     Amazon   \n",
       "85791  171-3249942-2207542   5/3/2022    Shipped     Amazon   \n",
       "86418  405-8669298-3850736   5/3/2022    Shipped     Amazon   \n",
       "86419  405-8669298-3850736   5/3/2022    Shipped     Amazon   \n",
       "98954  407-4853873-4978725  6/22/2022    Shipped     Amazon   \n",
       "98955  407-4853873-4978725  6/22/2022    Shipped     Amazon   \n",
       "\n",
       "      ship-service-level    Style              SKU Category Size        ASIN  \\\n",
       "30660          Expedited   SET197   SET197-KR-NP-L      Set    L  B08B3YPD63   \n",
       "30661          Expedited   SET197   SET197-KR-NP-L      Set    L  B08B3YPD63   \n",
       "41291          Expedited  JNE3501     JNE3501-KR-M    kurta    M  B08MYVCDB4   \n",
       "41292          Expedited  JNE3501     JNE3501-KR-M    kurta    M  B08MYVCDB4   \n",
       "52330          Expedited  JNE3769     JNE3769-KR-L    kurta    L  B09K3T675B   \n",
       "52333          Expedited  JNE3769     JNE3769-KR-L    kurta    L  B09K3T675B   \n",
       "79844          Expedited    J0329       J0329-KR-L    kurta    L  B09KXRB7JV   \n",
       "79845          Expedited    J0329       J0329-KR-L    kurta    L  B09KXRB7JV   \n",
       "85790          Expedited   SET323  SET323-KR-NP-XL      Set   XL  B09NDKKM7P   \n",
       "85791          Expedited   SET323  SET323-KR-NP-XL      Set   XL  B09NDKKM7P   \n",
       "86418          Expedited  MEN5025  MEN5025-KR-XXXL    kurta  3XL  B08YYQS8FH   \n",
       "86419          Expedited  MEN5025  MEN5025-KR-XXXL    kurta  3XL  B08YYQS8FH   \n",
       "98954          Expedited    J0230      J0230-SKD-M      Set    M  B08XNJG8B1   \n",
       "98955          Expedited    J0230      J0230-SKD-M      Set    M  B08XNJG8B1   \n",
       "\n",
       "      Courier Status  Qty  Amount  ship-city     ship-state  ship-postal-code  \\\n",
       "30660      Cancelled    0     NaN   Siliguri    WEST BENGAL          734008.0   \n",
       "30661      Cancelled    0     NaN   Siliguri    WEST BENGAL          734008.0   \n",
       "41291      Cancelled    0     NaN  BENGALURU      KARNATAKA          560072.0   \n",
       "41292      Cancelled    0     NaN  BENGALURU      KARNATAKA          560072.0   \n",
       "52330      Cancelled    0     NaN      Theni     TAMIL NADU          625579.0   \n",
       "52333        Shipped    1   487.0      Theni     TAMIL NADU          625579.0   \n",
       "79844      Cancelled    0     NaN  ERNAKULAM         KERALA          682017.0   \n",
       "79845      Cancelled    0     NaN  ERNAKULAM         KERALA          682017.0   \n",
       "85790        Shipped    1   939.0       PUNE    MAHARASHTRA          411057.0   \n",
       "85791        Shipped    1   939.0       PUNE    MAHARASHTRA          411057.0   \n",
       "86418        Shipped    1   533.0  GHAZIABAD  UTTAR PRADESH          201010.0   \n",
       "86419        Shipped    1   533.0  GHAZIABAD  UTTAR PRADESH          201010.0   \n",
       "98954        Shipped    1  1163.0   Zirakpur         Punjab          140603.0   \n",
       "98955        Shipped    1  1163.0   Zirakpur         Punjab          140603.0   \n",
       "\n",
       "                                      promotion-ids    B2B  \n",
       "30660                                           NaN  False  \n",
       "30661                                           NaN  False  \n",
       "41291                                           NaN  False  \n",
       "41292                                           NaN  False  \n",
       "52330  IN Core Free Shipping 2015/04/08 23-48-5-108  False  \n",
       "52333  IN Core Free Shipping 2015/04/08 23-48-5-108  False  \n",
       "79844                                           NaN  False  \n",
       "79845                                           NaN  False  \n",
       "85790  IN Core Free Shipping 2015/04/08 23-48-5-108  False  \n",
       "85791  IN Core Free Shipping 2015/04/08 23-48-5-108  False  \n",
       "86418  IN Core Free Shipping 2015/04/08 23-48-5-108  False  \n",
       "86419  IN Core Free Shipping 2015/04/08 23-48-5-108  False  \n",
       "98954  IN Core Free Shipping 2015/04/08 23-48-5-108  False  \n",
       "98955  IN Core Free Shipping 2015/04/08 23-48-5-108  False  "
      ]
     },
     "execution_count": 9,
     "metadata": {},
     "output_type": "execute_result"
    }
   ],
   "source": [
    "amazon[amazon.duplicated(['Order ID','ASIN'], keep=False)]"
   ]
  },
  {
   "cell_type": "code",
   "execution_count": 10,
   "id": "ee2425dc",
   "metadata": {},
   "outputs": [
    {
     "data": {
      "text/plain": [
       "7"
      ]
     },
     "execution_count": 10,
     "metadata": {},
     "output_type": "execute_result"
    }
   ],
   "source": [
    "len(amazon)-len(amazon.drop_duplicates(['Order ID','ASIN']))"
   ]
  },
  {
   "cell_type": "code",
   "execution_count": 11,
   "id": "eab51971",
   "metadata": {},
   "outputs": [],
   "source": [
    "amazon = amazon.drop_duplicates(subset=['Order ID','ASIN'], keep='first')"
   ]
  },
  {
   "cell_type": "markdown",
   "id": "9ecd01c8",
   "metadata": {},
   "source": [
    "#### Handling Courier Status"
   ]
  },
  {
   "cell_type": "code",
   "execution_count": 12,
   "id": "dbd209ea",
   "metadata": {},
   "outputs": [
    {
     "data": {
      "text/plain": [
       "array([nan, 'Shipped', 'Cancelled', 'Unshipped'], dtype=object)"
      ]
     },
     "execution_count": 12,
     "metadata": {},
     "output_type": "execute_result"
    }
   ],
   "source": [
    "amazon['Courier Status'].unique()"
   ]
  },
  {
   "cell_type": "code",
   "execution_count": 13,
   "id": "d8176146",
   "metadata": {},
   "outputs": [
    {
     "data": {
      "text/plain": [
       "array(['Cancelled', 'Shipped - Delivered to Buyer',\n",
       "       'Shipped - Returned to Seller'], dtype=object)"
      ]
     },
     "execution_count": 13,
     "metadata": {},
     "output_type": "execute_result"
    }
   ],
   "source": [
    "amazon[amazon['Courier Status'].isnull()][\"Status\"].unique()"
   ]
  },
  {
   "cell_type": "markdown",
   "id": "06349eee",
   "metadata": {},
   "source": [
    "Now Try do effective Data Manipulation to this <br>\n",
    "Here we can do two Strategies<br>\n",
    "1. Simply Replace Null with extra column saying \"unknown\"<br>\n",
    "    amazon['Courier Status'].fillna('unknown',inplace=True)<br>\n",
    "2. Fill the value by using other columns data here it is \"status\" column. <br>\n",
    "    2.1. Consider Status Column values effectively <br>\n",
    "    2.2. Understand the value and actual meaning and then try to perform extra opertion<br>"
   ]
  },
  {
   "cell_type": "code",
   "execution_count": 14,
   "id": "d9f9abac",
   "metadata": {},
   "outputs": [
    {
     "data": {
      "text/plain": [
       "array(['Cancelled', 'Shipped', 'Unshipped'], dtype=object)"
      ]
     },
     "execution_count": 14,
     "metadata": {},
     "output_type": "execute_result"
    }
   ],
   "source": [
    "amazon['Courier Status'] = amazon.apply(lambda row: row['Status'].split('-')[0].strip()\n",
    "                                if pd.isnull(row['Courier Status']) else row['Courier Status'],\n",
    "                                axis=1)\n",
    "amazon['Courier Status'].unique()"
   ]
  },
  {
   "cell_type": "code",
   "execution_count": 15,
   "id": "920af516",
   "metadata": {},
   "outputs": [
    {
     "data": {
      "text/plain": [
       "array(['Cancelled', 'Shipped', 'Unshipped', 'Returned'], dtype=object)"
      ]
     },
     "execution_count": 15,
     "metadata": {},
     "output_type": "execute_result"
    }
   ],
   "source": [
    "# Ternary Operator\n",
    "amazon['Courier Status'] = amazon.apply(lambda row: 'Returned'\n",
    "                                if 'Returned to Seller' in row['Status']\n",
    "                                else row['Status'].split('-')[0].strip()\n",
    "                                if pd.isnull(row['Courier Status'])\n",
    "                                else row['Courier Status'],\n",
    "                                axis=1)\n",
    "amazon['Courier Status'].unique()"
   ]
  },
  {
   "cell_type": "markdown",
   "id": "caa10a9c",
   "metadata": {},
   "source": [
    "#### Handling Promotion-ids "
   ]
  },
  {
   "cell_type": "code",
   "execution_count": 16,
   "id": "fb529c77",
   "metadata": {},
   "outputs": [
    {
     "data": {
      "text/plain": [
       "array([nan,\n",
       "       'Amazon PLCC Free-Financing Universal Merchant AAT-WNKTBO3K27EJC,Amazon PLCC Free-Financing Universal Merchant AAT-QX3UCCJESKPA2,Amazon PLCC Free-Financing Universal Merchant AAT-5QQ7BIYYQEDN2,Amazon PLCC Free-Financing Universal Merchant AAT-DSJ2QRXXWXVMQ,Amazon PLCC Free-Financing Universal Merchant AAT-CXJHMC2YJUK76,Amazon PLCC Free-Financing Universal Merchant AAT-CC4FAVTYR4X7C,Amazon PLCC Free-Financing Universal Merchant AAT-XXRCW6NZEPZI4,Amazon PLCC Free-Financing Universal Merchant AAT-CXNSLNBROFDW4,Amazon PLCC Free-Financing Universal Merchant AAT-R7GXNZWISTRFA,Amazon PLCC Free-Financing Universal Merchant AAT-WSJLDN3X7KEMO,Amazon PLCC Free-Financing Universal Merchant AAT-VL6FGQVGQVXUS,Amazon PLCC Free-Financing Universal Merchant AAT-EOKPWFWYW7Y6I,Amazon PLCC Free-Financing Universal Merchant AAT-ZYL5UPUNW6T62,Amazon PLCC Free-Financing Universal Merchant AAT-XVPICCHRWDCAI,Amazon PLCC Free-Financing Universal Merchant AAT-ETXQ3XXWMRXBG,Amazon PLCC Free-Financing Universal Merchant AAT-7X3XCTYG64VBE,Amazon PLCC Free-Financing Universal Merchant AAT-7CHGD3WTS3MHM,Amazon PLCC Free-Financing Universal Merchant AAT-26ZDKNME27X42,Amazon PLCC Free-Financing Universal Merchant AAT-4ZF5KN6E4LJK4,Amazon PLCC Free-Financing Universal Merchant AAT-7RCXIKUAX7DDY,Amazon PLCC Free-Financing Universal Merchant AAT-BRSZZ45H6MHAO,Amazon PLCC Free-Financing Universal Merchant AAT-MKLXOOZWQL7GO,Amazon PLCC Free-Financing Universal Merchant AAT-CB7UNXEXGIJTC,Amazon PLCC Free-Financing Universal Merchant #MP-gzasho-1593152694811,Amazon PLCC Free-Financing Universal Merchant AAT-WLBA4GZ52EAH4',\n",
       "       'IN Core Free Shipping 2015/04/08 23-48-5-108', ...,\n",
       "       'Amazon PLCC Free-Financing Universal Merchant AAT-WNKTBO3K27EJC,Amazon PLCC Free-Financing Universal Merchant AAT-QX3UCCJESKPA2,Amazon PLCC Free-Financing Universal Merchant AAT-5QQ7BIYYQEDN2,Amazon PLCC Free-Financing Universal Merchant AAT-DSJ2QRXXWXVMQ,Amazon PLCC Free-Financing Universal Merchant AAT-CXJHMC2YJUK76,Amazon PLCC Free-Financing Universal Merchant AAT-SL3Y2YRMAUNFC,Amazon PLCC Free-Financing Universal Merchant AAT-CC4FAVTYR4X7C,Amazon PLCC Free-Financing Universal Merchant AAT-EWAPBB6BDRGM6,Amazon PLCC Free-Financing Universal Merchant AAT-EOKPWFWYW7Y6I,Amazon PLCC Free-Financing Universal Merchant AAT-5ZEB2OGNZ32MC,Amazon PLCC Free-Financing Universal Merchant AAT-NT3ZJJGQ3JK3Q,Amazon PLCC Free-Financing Universal Merchant AAT-TNYBHEAO7HOHO,Amazon PLCC Free-Financing Universal Merchant AAT-BRSZZ45H6MHAO,Amazon PLCC Free-Financing Universal Merchant AAT-MKLXOOZWQL7GO,Amazon PLCC Free-Financing Universal Merchant AAT-CB7UNXEXGIJTC,Amazon PLCC Free-Financing Universal Merchant #MP-gzasho-1593152694811,Amazon PLCC Free-Financing Universal Merchant AAT-WLBA4GZ52EAH4,Amazon PLCC Free-Financing Universal Merchant AAT-QMFZ3M7T5NPDS,Amazon PLCC Free-Financing Universal Merchant #MP-pmilan-1601980554292',\n",
       "       'Amazon PLCC Free-Financing Universal Merchant AAT-WNKTBO3K27EJC,Amazon PLCC Free-Financing Universal Merchant AAT-QX3UCCJESKPA2,Amazon PLCC Free-Financing Universal Merchant AAT-5QQ7BIYYQEDN2,Amazon PLCC Free-Financing Universal Merchant AAT-DSJ2QRXXWXVMQ,Amazon PLCC Free-Financing Universal Merchant AAT-CXJHMC2YJUK76,Amazon PLCC Free-Financing Universal Merchant AAT-SL3Y2YRMAUNFC,Amazon PLCC Free-Financing Universal Merchant AAT-CC4FAVTYR4X7C,Amazon PLCC Free-Financing Universal Merchant AAT-EWAPBB6BDRGM6,Amazon PLCC Free-Financing Universal Merchant AAT-R7GXNZWISTRFA,Amazon PLCC Free-Financing Universal Merchant AAT-EOKPWFWYW7Y6I,Amazon PLCC Free-Financing Universal Merchant AAT-5ZEB2OGNZ32MC,Amazon PLCC Free-Financing Universal Merchant AAT-NT3ZJJGQ3JK3Q,Amazon PLCC Free-Financing Universal Merchant AAT-5SHH3G55USK5C,Amazon PLCC Free-Financing Universal Merchant AAT-BRSZZ45H6MHAO,Amazon PLCC Free-Financing Universal Merchant AAT-MKLXOOZWQL7GO,Amazon PLCC Free-Financing Universal Merchant AAT-CB7UNXEXGIJTC,Amazon PLCC Free-Financing Universal Merchant #MP-gzasho-1593152694811,Amazon PLCC Free-Financing Universal Merchant AAT-WLBA4GZ52EAH4',\n",
       "       'Amazon PLCC Free-Financing Universal Merchant AAT-WNKTBO3K27EJC,Amazon PLCC Free-Financing Universal Merchant AAT-QX3UCCJESKPA2,Amazon PLCC Free-Financing Universal Merchant AAT-5QQ7BIYYQEDN2,Amazon PLCC Free-Financing Universal Merchant AAT-DSJ2QRXXWXVMQ,Amazon PLCC Free-Financing Universal Merchant AAT-CXJHMC2YJUK76,Amazon PLCC Free-Financing Universal Merchant AAT-CC4FAVTYR4X7C,Amazon PLCC Free-Financing Universal Merchant AAT-EWAPBB6BDRGM6,Amazon PLCC Free-Financing Universal Merchant AAT-R7GXNZWISTRFA,Amazon PLCC Free-Financing Universal Merchant AAT-EOKPWFWYW7Y6I,Amazon PLCC Free-Financing Universal Merchant AAT-NT3ZJJGQ3JK3Q,Amazon PLCC Free-Financing Universal Merchant AAT-5SHH3G55USK5C,Amazon PLCC Free-Financing Universal Merchant AAT-TNYBHEAO7HOHO,Amazon PLCC Free-Financing Universal Merchant AAT-BRSZZ45H6MHAO,Amazon PLCC Free-Financing Universal Merchant AAT-MKLXOOZWQL7GO,Amazon PLCC Free-Financing Universal Merchant AAT-CB7UNXEXGIJTC,Amazon PLCC Free-Financing Universal Merchant #MP-gzasho-1593152694811,Amazon PLCC Free-Financing Universal Merchant AAT-WLBA4GZ52EAH4,Amazon PLCC Free-Financing Universal Merchant AAT-QMFZ3M7T5NPDS,Amazon PLCC Free-Financing Universal Merchant #MP-pmilan-1601980554292'],\n",
       "      dtype=object)"
      ]
     },
     "execution_count": 16,
     "metadata": {},
     "output_type": "execute_result"
    }
   ],
   "source": [
    "amazon['promotion-ids'].unique()"
   ]
  },
  {
   "cell_type": "code",
   "execution_count": 17,
   "id": "45ef2a36",
   "metadata": {},
   "outputs": [],
   "source": [
    "### So what is the best way to handle this to add extra column stating \"NO Promotion\"\n",
    "amazon['promotion-ids'].fillna('NO Promotion',inplace=True)"
   ]
  },
  {
   "cell_type": "markdown",
   "id": "72d72b38",
   "metadata": {},
   "source": [
    "#### Handle Amount"
   ]
  },
  {
   "cell_type": "code",
   "execution_count": 18,
   "id": "7ce78983",
   "metadata": {},
   "outputs": [
    {
     "data": {
      "text/plain": [
       "7792"
      ]
     },
     "execution_count": 18,
     "metadata": {},
     "output_type": "execute_result"
    }
   ],
   "source": [
    "len(amazon[amazon['Amount'].isnull()])"
   ]
  },
  {
   "cell_type": "code",
   "execution_count": 19,
   "id": "8672dccb",
   "metadata": {},
   "outputs": [
    {
     "data": {
      "text/html": [
       "<div>\n",
       "<style scoped>\n",
       "    .dataframe tbody tr th:only-of-type {\n",
       "        vertical-align: middle;\n",
       "    }\n",
       "\n",
       "    .dataframe tbody tr th {\n",
       "        vertical-align: top;\n",
       "    }\n",
       "\n",
       "    .dataframe thead th {\n",
       "        text-align: right;\n",
       "    }\n",
       "</style>\n",
       "<table border=\"1\" class=\"dataframe\">\n",
       "  <thead>\n",
       "    <tr style=\"text-align: right;\">\n",
       "      <th></th>\n",
       "      <th>Order ID</th>\n",
       "      <th>Date</th>\n",
       "      <th>Status</th>\n",
       "      <th>Fulfilment</th>\n",
       "      <th>ship-service-level</th>\n",
       "      <th>Style</th>\n",
       "      <th>SKU</th>\n",
       "      <th>Category</th>\n",
       "      <th>Size</th>\n",
       "      <th>ASIN</th>\n",
       "      <th>Courier Status</th>\n",
       "      <th>Qty</th>\n",
       "      <th>Amount</th>\n",
       "      <th>ship-city</th>\n",
       "      <th>ship-state</th>\n",
       "      <th>ship-postal-code</th>\n",
       "      <th>promotion-ids</th>\n",
       "      <th>B2B</th>\n",
       "    </tr>\n",
       "  </thead>\n",
       "  <tbody>\n",
       "    <tr>\n",
       "      <th>8</th>\n",
       "      <td>407-5443024-5233168</td>\n",
       "      <td>4/30/2022</td>\n",
       "      <td>Cancelled</td>\n",
       "      <td>Amazon</td>\n",
       "      <td>Expedited</td>\n",
       "      <td>SET200</td>\n",
       "      <td>SET200-KR-NP-A-XXXL</td>\n",
       "      <td>Set</td>\n",
       "      <td>3XL</td>\n",
       "      <td>B08L91ZZXN</td>\n",
       "      <td>Cancelled</td>\n",
       "      <td>0</td>\n",
       "      <td>NaN</td>\n",
       "      <td>HYDERABAD</td>\n",
       "      <td>TELANGANA</td>\n",
       "      <td>500008.0</td>\n",
       "      <td>IN Core Free Shipping 2015/04/08 23-48-5-108</td>\n",
       "      <td>False</td>\n",
       "    </tr>\n",
       "    <tr>\n",
       "      <th>29</th>\n",
       "      <td>404-5933402-8801952</td>\n",
       "      <td>4/30/2022</td>\n",
       "      <td>Cancelled</td>\n",
       "      <td>Merchant</td>\n",
       "      <td>Standard</td>\n",
       "      <td>JNE2132</td>\n",
       "      <td>JNE2132-KR-398-XXXL</td>\n",
       "      <td>kurta</td>\n",
       "      <td>3XL</td>\n",
       "      <td>B07JG3CND8</td>\n",
       "      <td>Cancelled</td>\n",
       "      <td>0</td>\n",
       "      <td>NaN</td>\n",
       "      <td>GUWAHATI</td>\n",
       "      <td>ASSAM</td>\n",
       "      <td>781003.0</td>\n",
       "      <td>NO Promotion</td>\n",
       "      <td>False</td>\n",
       "    </tr>\n",
       "    <tr>\n",
       "      <th>65</th>\n",
       "      <td>171-4137548-0481151</td>\n",
       "      <td>4/30/2022</td>\n",
       "      <td>Cancelled</td>\n",
       "      <td>Amazon</td>\n",
       "      <td>Expedited</td>\n",
       "      <td>JNE3373</td>\n",
       "      <td>JNE3373-KR-XXL</td>\n",
       "      <td>kurta</td>\n",
       "      <td>XXL</td>\n",
       "      <td>B082W8RWN1</td>\n",
       "      <td>Cancelled</td>\n",
       "      <td>0</td>\n",
       "      <td>NaN</td>\n",
       "      <td>Dahod</td>\n",
       "      <td>Gujarat</td>\n",
       "      <td>389151.0</td>\n",
       "      <td>NO Promotion</td>\n",
       "      <td>False</td>\n",
       "    </tr>\n",
       "    <tr>\n",
       "      <th>84</th>\n",
       "      <td>403-9950518-0349133</td>\n",
       "      <td>4/30/2022</td>\n",
       "      <td>Cancelled</td>\n",
       "      <td>Amazon</td>\n",
       "      <td>Expedited</td>\n",
       "      <td>JNE3510</td>\n",
       "      <td>JNE3510-KR-M</td>\n",
       "      <td>kurta</td>\n",
       "      <td>M</td>\n",
       "      <td>B08WPR5MCB</td>\n",
       "      <td>Cancelled</td>\n",
       "      <td>0</td>\n",
       "      <td>NaN</td>\n",
       "      <td>HYDERABAD</td>\n",
       "      <td>TELANGANA</td>\n",
       "      <td>500072.0</td>\n",
       "      <td>NO Promotion</td>\n",
       "      <td>False</td>\n",
       "    </tr>\n",
       "    <tr>\n",
       "      <th>95</th>\n",
       "      <td>405-9112089-3379536</td>\n",
       "      <td>4/30/2022</td>\n",
       "      <td>Cancelled</td>\n",
       "      <td>Amazon</td>\n",
       "      <td>Expedited</td>\n",
       "      <td>JNE3405</td>\n",
       "      <td>JNE3405-KR-L</td>\n",
       "      <td>kurta</td>\n",
       "      <td>L</td>\n",
       "      <td>B081WSCKPQ</td>\n",
       "      <td>Cancelled</td>\n",
       "      <td>0</td>\n",
       "      <td>NaN</td>\n",
       "      <td>PUNE</td>\n",
       "      <td>MAHARASHTRA</td>\n",
       "      <td>411046.0</td>\n",
       "      <td>NO Promotion</td>\n",
       "      <td>False</td>\n",
       "    </tr>\n",
       "  </tbody>\n",
       "</table>\n",
       "</div>"
      ],
      "text/plain": [
       "               Order ID       Date     Status Fulfilment ship-service-level  \\\n",
       "8   407-5443024-5233168  4/30/2022  Cancelled     Amazon          Expedited   \n",
       "29  404-5933402-8801952  4/30/2022  Cancelled   Merchant           Standard   \n",
       "65  171-4137548-0481151  4/30/2022  Cancelled     Amazon          Expedited   \n",
       "84  403-9950518-0349133  4/30/2022  Cancelled     Amazon          Expedited   \n",
       "95  405-9112089-3379536  4/30/2022  Cancelled     Amazon          Expedited   \n",
       "\n",
       "      Style                  SKU Category Size        ASIN Courier Status  \\\n",
       "8    SET200  SET200-KR-NP-A-XXXL      Set  3XL  B08L91ZZXN      Cancelled   \n",
       "29  JNE2132  JNE2132-KR-398-XXXL    kurta  3XL  B07JG3CND8      Cancelled   \n",
       "65  JNE3373       JNE3373-KR-XXL    kurta  XXL  B082W8RWN1      Cancelled   \n",
       "84  JNE3510         JNE3510-KR-M    kurta    M  B08WPR5MCB      Cancelled   \n",
       "95  JNE3405         JNE3405-KR-L    kurta    L  B081WSCKPQ      Cancelled   \n",
       "\n",
       "    Qty  Amount  ship-city   ship-state  ship-postal-code  \\\n",
       "8     0     NaN  HYDERABAD    TELANGANA          500008.0   \n",
       "29    0     NaN   GUWAHATI        ASSAM          781003.0   \n",
       "65    0     NaN      Dahod      Gujarat          389151.0   \n",
       "84    0     NaN  HYDERABAD    TELANGANA          500072.0   \n",
       "95    0     NaN       PUNE  MAHARASHTRA          411046.0   \n",
       "\n",
       "                                   promotion-ids    B2B  \n",
       "8   IN Core Free Shipping 2015/04/08 23-48-5-108  False  \n",
       "29                                  NO Promotion  False  \n",
       "65                                  NO Promotion  False  \n",
       "84                                  NO Promotion  False  \n",
       "95                                  NO Promotion  False  "
      ]
     },
     "execution_count": 19,
     "metadata": {},
     "output_type": "execute_result"
    }
   ],
   "source": [
    "amazon[amazon['Amount'].isnull()].head()"
   ]
  },
  {
   "cell_type": "code",
   "execution_count": 20,
   "id": "67ad4d35",
   "metadata": {},
   "outputs": [
    {
     "data": {
      "text/plain": [
       "array(['Cancelled', 'Shipped', 'Shipped - Delivered to Buyer', 'Pending',\n",
       "       'Shipped - Returned to Seller', 'Shipping'], dtype=object)"
      ]
     },
     "execution_count": 20,
     "metadata": {},
     "output_type": "execute_result"
    }
   ],
   "source": [
    "amazon[amazon['Amount'].isnull()][\"Status\"].unique()"
   ]
  },
  {
   "cell_type": "code",
   "execution_count": 21,
   "id": "d158f201",
   "metadata": {},
   "outputs": [
    {
     "data": {
      "text/plain": [
       "Cancelled                       97.06%\n",
       "Shipped                          2.67%\n",
       "Shipped - Delivered to Buyer     0.10%\n",
       "Shipping                         0.10%\n",
       "Shipped - Returned to Seller     0.04%\n",
       "Pending                          0.03%\n",
       "Name: Status, dtype: object"
      ]
     },
     "execution_count": 21,
     "metadata": {},
     "output_type": "execute_result"
    }
   ],
   "source": [
    "## Lets see the % of status\n",
    "amazon[amazon['Amount'].isnull()]['Status'].value_counts(normalize=True).apply(lambda x: format(x, '.2%'))"
   ]
  },
  {
   "cell_type": "markdown",
   "id": "e523e4f7",
   "metadata": {},
   "source": [
    "# #########EXcerszie in workshop"
   ]
  },
  {
   "cell_type": "markdown",
   "id": "a03da7c7",
   "metadata": {},
   "source": [
    "### So what is the best strategy ?\n",
    "1. Drop ?\n",
    "2. OR filling with something ?"
   ]
  },
  {
   "cell_type": "markdown",
   "id": "b0ef7854",
   "metadata": {},
   "source": [
    "##### How to Fill with Something ?\n",
    "1. Mean or Median Imputation\n",
    "    Fill NaN values with the mean or median of the \"Amount\" column. This is a simple method and is often used when the data is approximately normally distributed.<br>\n",
    "    <code> df['Amount'].fillna(df['Amount'].mean(), inplace=True) </code><br>\n",
    "    <code> df['Amount'].fillna(df['Amount'].median(), inplace=True) </code>\n",
    "2. Forward Fill or Backward Fill\n",
    "    Use the previous or next non-NaN value to fill in the missing values. This is suitable when there is some sort of logical ordering in your dataset <br>\n",
    "    <code>df['Amount'].fillna(method='ffill', inplace=True)  # Forward fill</code><br>\n",
    "    <code>df['Amount'].fillna(method='bfill', inplace=True)  # Forward fill</code>\n",
    "3. Imputation using a Regression Model\n",
    "    If you have other features that can predict the \"Amount\" column, you can use a regression model to predict the missing values based on the other features.<br>\n",
    "    <code>from sklearn.linear_model import LinearRegression\n",
    "    X = df[['Feature1', 'Feature2', ...]]\n",
    "    y = df['Amount']\n",
    "    model = LinearRegression()\n",
    "    model.fit(X, y)\n",
    "    df['Amount'].fillna(pd.Series(model.predict(df[X.columns]), index=df.index), inplace=True)</code>\n",
    "4. Imputation using Interpolation:\n",
    "    Use interpolation methods to estimate missing values based on the values of neighboring data points.<br>\n",
    "    <code>df['Amount'].interpolate(method='linear', inplace=True)</code>\n",
    "5. We can make use of other columns to fill in meaningfull values\n",
    "    "
   ]
  },
  {
   "cell_type": "markdown",
   "id": "d88e4e52",
   "metadata": {},
   "source": [
    "#### Lets see how to make use of other columns "
   ]
  },
  {
   "cell_type": "code",
   "execution_count": 22,
   "id": "79d822c4",
   "metadata": {},
   "outputs": [
    {
     "data": {
      "text/plain": [
       "array([ 0, 15,  2,  9,  1, 13,  4,  3], dtype=int64)"
      ]
     },
     "execution_count": 22,
     "metadata": {},
     "output_type": "execute_result"
    }
   ],
   "source": [
    "## What about Quanitity\n",
    "amazon[amazon['Amount'].isnull()][\"Qty\"].unique()"
   ]
  },
  {
   "cell_type": "code",
   "execution_count": 23,
   "id": "75ba906d",
   "metadata": {},
   "outputs": [
    {
     "data": {
      "text/plain": [
       "7792"
      ]
     },
     "execution_count": 23,
     "metadata": {},
     "output_type": "execute_result"
    }
   ],
   "source": [
    "len(amazon[amazon['Amount'].isnull()])"
   ]
  },
  {
   "cell_type": "code",
   "execution_count": 24,
   "id": "f0af9990",
   "metadata": {},
   "outputs": [],
   "source": [
    "# Fill Quantity Zero  with Amount 0\n",
    "amazon.loc[amazon['Qty'] == 0, 'Amount'] = amazon.loc[amazon['Qty'] == 0, 'Amount'].fillna(0)"
   ]
  },
  {
   "cell_type": "code",
   "execution_count": 25,
   "id": "99edb8a1",
   "metadata": {},
   "outputs": [
    {
     "data": {
      "text/plain": [
       "124"
      ]
     },
     "execution_count": 25,
     "metadata": {},
     "output_type": "execute_result"
    }
   ],
   "source": [
    "len(amazon[amazon['Amount'].isnull()])"
   ]
  },
  {
   "cell_type": "code",
   "execution_count": 26,
   "id": "fc1d1f33",
   "metadata": {},
   "outputs": [
    {
     "data": {
      "text/plain": [
       "array(['Blouse', 'Set', 'kurta', 'Western Dress', 'Bottom', 'Top'],\n",
       "      dtype=object)"
      ]
     },
     "execution_count": 26,
     "metadata": {},
     "output_type": "execute_result"
    }
   ],
   "source": [
    "## Lets Try with Category\n",
    "amazon[amazon['Amount'].isnull()][\"Category\"].unique()"
   ]
  },
  {
   "cell_type": "markdown",
   "id": "f5e90a65",
   "metadata": {},
   "source": [
    "###### May be assume we have base prices for Category \n",
    "category_base_prices = {'Set':1000, 'kurta':1500, 'Top':500, 'Western Dress':1000, 'Blouse':500, 'Bottom':200,\n",
    "       'Ethnic Dress':2500, 'Saree':2000}\n",
    "Now can you try to fill ? with this info ?"
   ]
  },
  {
   "cell_type": "code",
   "execution_count": 27,
   "id": "b852abdf",
   "metadata": {},
   "outputs": [],
   "source": [
    "category_base_prices = {'Set':1000, 'kurta':1500, 'Top':500, 'Western Dress':1000, 'Blouse':500, 'Bottom':200, 'Ethnic Dress':2500, 'Saree':2000}"
   ]
  },
  {
   "cell_type": "code",
   "execution_count": 28,
   "id": "bfd10223",
   "metadata": {},
   "outputs": [],
   "source": [
    "amazon['Amount'] = amazon.apply(\n",
    "    lambda row: row['Qty'] * category_base_prices.get(row['Category'], 0) if pd.isnull(row['Amount']) else row['Amount'],\n",
    "    axis=1\n",
    ")"
   ]
  },
  {
   "cell_type": "code",
   "execution_count": 29,
   "id": "214d6a1e",
   "metadata": {},
   "outputs": [
    {
     "data": {
      "text/plain": [
       "0"
      ]
     },
     "execution_count": 29,
     "metadata": {},
     "output_type": "execute_result"
    }
   ],
   "source": [
    "len(amazon[amazon['Amount'].isnull()])"
   ]
  },
  {
   "cell_type": "markdown",
   "id": "8752ae85",
   "metadata": {},
   "source": [
    "#### Fill Null values for ship city, state and postal code "
   ]
  },
  {
   "cell_type": "code",
   "execution_count": 30,
   "id": "a1b5f770",
   "metadata": {},
   "outputs": [],
   "source": [
    "### Here we cannot infer data from any columns and we cant do anything only thing we can do is to fill with \"unknown\" column\n",
    "amazon['ship-city'].fillna('unknown', inplace = True)\n",
    "amazon['ship-state'].fillna('unknown', inplace = True)\n",
    "amazon['ship-postal-code'].fillna('unknown', inplace = True)"
   ]
  },
  {
   "cell_type": "code",
   "execution_count": 31,
   "id": "448a7353",
   "metadata": {},
   "outputs": [
    {
     "data": {
      "text/plain": [
       "Order ID              0\n",
       "Date                  0\n",
       "Status                0\n",
       "Fulfilment            0\n",
       "ship-service-level    0\n",
       "Style                 0\n",
       "SKU                   0\n",
       "Category              0\n",
       "Size                  0\n",
       "ASIN                  0\n",
       "Courier Status        0\n",
       "Qty                   0\n",
       "Amount                0\n",
       "ship-city             0\n",
       "ship-state            0\n",
       "ship-postal-code      0\n",
       "promotion-ids         0\n",
       "B2B                   0\n",
       "dtype: int64"
      ]
     },
     "execution_count": 31,
     "metadata": {},
     "output_type": "execute_result"
    }
   ],
   "source": [
    "amazon.isnull().sum()"
   ]
  },
  {
   "cell_type": "markdown",
   "id": "a88d2328",
   "metadata": {},
   "source": [
    "### Replace Confusing data"
   ]
  },
  {
   "cell_type": "code",
   "execution_count": 32,
   "id": "3100057c",
   "metadata": {},
   "outputs": [
    {
     "data": {
      "text/plain": [
       "0         False\n",
       "1         False\n",
       "2          True\n",
       "3         False\n",
       "4         False\n",
       "          ...  \n",
       "128970    False\n",
       "128971    False\n",
       "128972    False\n",
       "128973    False\n",
       "128974    False\n",
       "Name: B2B, Length: 128968, dtype: bool"
      ]
     },
     "execution_count": 32,
     "metadata": {},
     "output_type": "execute_result"
    }
   ],
   "source": [
    "# For example B2B\n",
    "amazon['B2B']"
   ]
  },
  {
   "cell_type": "code",
   "execution_count": 33,
   "id": "df878f3e",
   "metadata": {},
   "outputs": [],
   "source": [
    "# here B2B is saying is it bussiness to bussiness order or not which means order from Customer or From Some Bussiness Org.\n",
    "amazon['B2B'].replace(to_replace=[True,False],value=['business','customer'], inplace=True)"
   ]
  },
  {
   "cell_type": "markdown",
   "id": "712d3584",
   "metadata": {},
   "source": [
    "## Rename Some Confusing Columns"
   ]
  },
  {
   "cell_type": "code",
   "execution_count": 105,
   "id": "8b97217f",
   "metadata": {},
   "outputs": [],
   "source": [
    "mapper = {'Order ID':'order_ID', 'Date':'date', 'Status':'ship_status','Fulfilment':'fullfilment',\n",
    "          'ship-service-level':'service_level', 'Style':'style', 'SKU':'sku', 'Category':'product_category', \n",
    "          'Size':'size', 'ASIN':'asin', 'Courier Status':'courier_ship_status', 'Qty':'order_quantity', \n",
    "          'Amount':'order_amount', 'ship-city':'city', 'ship-state':'state', 'ship-postal-code':'zip', \n",
    "          'promotion-ids':'promotion','B2B':'customer_type'}"
   ]
  },
  {
   "cell_type": "code",
   "execution_count": 106,
   "id": "92272812",
   "metadata": {},
   "outputs": [],
   "source": [
    "amazon.rename(columns=mapper, inplace =True)"
   ]
  },
  {
   "cell_type": "code",
   "execution_count": 107,
   "id": "020b16a6",
   "metadata": {},
   "outputs": [
    {
     "data": {
      "text/plain": [
       "order_ID               0\n",
       "date                   0\n",
       "ship_status            0\n",
       "fullfilment            0\n",
       "service_level          0\n",
       "style                  0\n",
       "sku                    0\n",
       "product_category       0\n",
       "size                   0\n",
       "asin                   0\n",
       "courier_ship_status    0\n",
       "order_quantity         0\n",
       "order_amount           0\n",
       "city                   0\n",
       "state                  0\n",
       "zip                    0\n",
       "promotion              0\n",
       "customer_type          0\n",
       "dtype: int64"
      ]
     },
     "execution_count": 107,
     "metadata": {},
     "output_type": "execute_result"
    }
   ],
   "source": [
    "amazon.isnull().sum()"
   ]
  },
  {
   "cell_type": "markdown",
   "id": "baae961d",
   "metadata": {},
   "source": [
    "# Data Analysis"
   ]
  },
  {
   "cell_type": "code",
   "execution_count": 108,
   "id": "bd07c849",
   "metadata": {},
   "outputs": [],
   "source": [
    "#Lets convert String date to datetime  - it will help to understand data month wise, day wise, weekends, weekday etc\n",
    "amazon['date'] = pd.to_datetime(amazon['date'])"
   ]
  },
  {
   "cell_type": "code",
   "execution_count": 116,
   "id": "3a7e501c",
   "metadata": {},
   "outputs": [
    {
     "data": {
      "text/plain": [
       "<PeriodArray>\n",
       "['2022-04', '2022-03', '2022-05', '2022-06']\n",
       "Length: 4, dtype: period[M]"
      ]
     },
     "execution_count": 116,
     "metadata": {},
     "output_type": "execute_result"
    }
   ],
   "source": [
    "amazon['month'] = amazon['date'].dt.to_period('M')\n",
    "amazon['month'].unique()"
   ]
  },
  {
   "cell_type": "code",
   "execution_count": 118,
   "id": "c8c55290",
   "metadata": {},
   "outputs": [
    {
     "data": {
      "text/html": [
       "<div>\n",
       "<style scoped>\n",
       "    .dataframe tbody tr th:only-of-type {\n",
       "        vertical-align: middle;\n",
       "    }\n",
       "\n",
       "    .dataframe tbody tr th {\n",
       "        vertical-align: top;\n",
       "    }\n",
       "\n",
       "    .dataframe thead th {\n",
       "        text-align: right;\n",
       "    }\n",
       "</style>\n",
       "<table border=\"1\" class=\"dataframe\">\n",
       "  <thead>\n",
       "    <tr style=\"text-align: right;\">\n",
       "      <th></th>\n",
       "      <th>month</th>\n",
       "      <th>date</th>\n",
       "    </tr>\n",
       "  </thead>\n",
       "  <tbody>\n",
       "    <tr>\n",
       "      <th>0</th>\n",
       "      <td>2022-03</td>\n",
       "      <td>1</td>\n",
       "    </tr>\n",
       "    <tr>\n",
       "      <th>1</th>\n",
       "      <td>2022-04</td>\n",
       "      <td>30</td>\n",
       "    </tr>\n",
       "    <tr>\n",
       "      <th>2</th>\n",
       "      <td>2022-05</td>\n",
       "      <td>31</td>\n",
       "    </tr>\n",
       "    <tr>\n",
       "      <th>3</th>\n",
       "      <td>2022-06</td>\n",
       "      <td>29</td>\n",
       "    </tr>\n",
       "  </tbody>\n",
       "</table>\n",
       "</div>"
      ],
      "text/plain": [
       "     month  date\n",
       "0  2022-03     1\n",
       "1  2022-04    30\n",
       "2  2022-05    31\n",
       "3  2022-06    29"
      ]
     },
     "execution_count": 118,
     "metadata": {},
     "output_type": "execute_result"
    }
   ],
   "source": [
    "result = amazon.groupby('month')['date'].nunique().reset_index()\n",
    "result"
   ]
  },
  {
   "cell_type": "markdown",
   "id": "76cce06a",
   "metadata": {},
   "source": [
    "##### If you see above for March we have only 1 day data we can safely drop from our analytics"
   ]
  },
  {
   "cell_type": "code",
   "execution_count": 119,
   "id": "973fd6ce",
   "metadata": {},
   "outputs": [
    {
     "data": {
      "text/plain": [
       "1"
      ]
     },
     "execution_count": 119,
     "metadata": {},
     "output_type": "execute_result"
    }
   ],
   "source": [
    "# Filter to only include dates in March\n",
    "march_dates = amazon['date'][amazon['date'].dt.month == 3]\n",
    "\n",
    "# Get the number of unique days in March\n",
    "march_dates.dt.day.nunique()"
   ]
  },
  {
   "cell_type": "code",
   "execution_count": 120,
   "id": "817f6cde",
   "metadata": {},
   "outputs": [],
   "source": [
    "amazon = amazon[(amazon['date'].dt.month != 3)]"
   ]
  },
  {
   "cell_type": "code",
   "execution_count": 123,
   "id": "9e080b3f",
   "metadata": {},
   "outputs": [],
   "source": [
    "## Lets have Names for the Months\n",
    "amazon['month'] = amazon['date'].dt.strftime('%B')"
   ]
  },
  {
   "cell_type": "markdown",
   "id": "9b26564f",
   "metadata": {},
   "source": [
    "### Lets see Month Wise Revenue"
   ]
  },
  {
   "cell_type": "code",
   "execution_count": 124,
   "id": "a9a47db1",
   "metadata": {
    "scrolled": true
   },
   "outputs": [
    {
     "data": {
      "text/plain": [
       "month\n",
       "April    28947908.32\n",
       "June     23459146.38\n",
       "May      26273017.75\n",
       "Name: order_amount, dtype: float64"
      ]
     },
     "execution_count": 124,
     "metadata": {},
     "output_type": "execute_result"
    }
   ],
   "source": [
    "revenue_by_month = amazon.groupby('month')['order_amount'].sum()\n",
    "revenue_by_month"
   ]
  },
  {
   "cell_type": "code",
   "execution_count": 126,
   "id": "981d8b22",
   "metadata": {},
   "outputs": [
    {
     "name": "stdout",
     "output_type": "stream",
     "text": [
      "Total revenue for April 2022: 28,947,908.32\n",
      "Total revenue for May 2022: 26,273,017.75, which is a -9.24% decrease from April.\n",
      "Total revenue for June 2022: 23,459,146.38, which is a -10.71% decrease from May.\n",
      "Total revenue for Q2 2022 decreased by -18.96%\n",
      "\n",
      "\n"
     ]
    }
   ],
   "source": [
    "percent_decrease_apr_to_may = (revenue_by_month['April'] - revenue_by_month['May']) / revenue_by_month['April'] * 100\n",
    "percent_decrease_may_to_jun = (revenue_by_month['May'] - revenue_by_month['June']) / revenue_by_month['May'] * 100\n",
    "total_decrease = (revenue_by_month['April'] - revenue_by_month['June']) / revenue_by_month['April'] * 100\n",
    "print(f\"Total revenue for April 2022: {revenue_by_month['April']:,.2f}\")\n",
    "print(f\"Total revenue for May 2022: {revenue_by_month['May']:,.2f}, which is a -{percent_decrease_apr_to_may:.2f}% decrease from April.\")\n",
    "print(f\"Total revenue for June 2022: {revenue_by_month['June']:,.2f}, which is a -{percent_decrease_may_to_jun:.2f}% decrease from May.\")\n",
    "print(f\"Total revenue for Q2 2022 decreased by -{total_decrease:.2f}%\")\n",
    "print(\"\\n\")"
   ]
  },
  {
   "cell_type": "markdown",
   "id": "7236e7f0",
   "metadata": {},
   "source": [
    "### Revenue By Category"
   ]
  },
  {
   "cell_type": "code",
   "execution_count": 127,
   "id": "74074a5c",
   "metadata": {},
   "outputs": [
    {
     "name": "stdout",
     "output_type": "stream",
     "text": [
      "Total revenue by product category:\n",
      "product_category\n",
      "Set              $39,212,138.03\n",
      "kurta            $21,376,770.13\n",
      "Western Dress    $11,212,419.41\n",
      "Top               $5,345,281.30\n",
      "Ethnic Dress        $790,118.66\n",
      "Blouse              $467,628.18\n",
      "Bottom              $150,867.98\n",
      "Saree               $123,933.76\n",
      "Dupatta                 $915.00\n",
      "Name: order_amount, dtype: object\n",
      "\n",
      "\n"
     ]
    }
   ],
   "source": [
    "revenue_by_category = amazon.groupby('product_category')['order_amount'].sum().sort_values(ascending=False)\n",
    "print(\"Total revenue by product category:\")\n",
    "print(revenue_by_category.apply(lambda x: \"${:,.2f}\".format(x)))\n",
    "print(\"\\n\")"
   ]
  },
  {
   "cell_type": "code",
   "execution_count": 129,
   "id": "ef50d116",
   "metadata": {},
   "outputs": [
    {
     "name": "stdout",
     "output_type": "stream",
     "text": [
      "Percentage of revenue by product category:\n",
      "product_category\n",
      "Set              49.837%\n",
      "kurta            27.169%\n",
      "Western Dress    14.251%\n",
      "Top               6.794%\n",
      "Ethnic Dress      1.004%\n",
      "Blouse            0.594%\n",
      "Bottom            0.192%\n",
      "Saree             0.158%\n",
      "Dupatta           0.001%\n",
      "Name: order_amount, dtype: object\n",
      "\n",
      "\n"
     ]
    }
   ],
   "source": [
    "revenue_by_category = amazon.groupby('product_category')['order_amount'].sum()\n",
    "percent_revenue_by_category = ((revenue_by_category / revenue_by_category.sum()) * 100).sort_values(ascending=False)\n",
    "percent_revenue_by_category = percent_revenue_by_category.apply(lambda x: \"{:.3f}%\".format(x))\n",
    "print(\"Percentage of revenue by product category:\")\n",
    "print(percent_revenue_by_category)\n",
    "print(\"\\n\")"
   ]
  },
  {
   "cell_type": "code",
   "execution_count": 132,
   "id": "bf99ac96",
   "metadata": {},
   "outputs": [
    {
     "name": "stdout",
     "output_type": "stream",
     "text": [
      "Top categories by average price:\n",
      "product_category\n",
      "Set              781.024938\n",
      "Saree            755.693659\n",
      "Western Dress    723.802170\n",
      "Ethnic Dress     682.313178\n",
      "Blouse           505.543978\n",
      "Top              503.654132\n",
      "kurta            429.278272\n",
      "Bottom           342.881773\n",
      "Dupatta          305.000000\n",
      "Name: order_amount, dtype: float64\n",
      "\n",
      "\n"
     ]
    }
   ],
   "source": [
    "avg_price_by_category = amazon.groupby('product_category')['order_amount'].mean()\n",
    "avg_price_by_category = avg_price_by_category.sort_values(ascending=False)\n",
    "print(\"Top categories by average price:\")\n",
    "print(avg_price_by_category)\n",
    "print(\"\\n\")"
   ]
  },
  {
   "cell_type": "markdown",
   "id": "7a4bffd2",
   "metadata": {},
   "source": [
    "### Percentage of Cancelled Orders and Returned Orders "
   ]
  },
  {
   "cell_type": "code",
   "execution_count": 134,
   "id": "d15c09ab",
   "metadata": {},
   "outputs": [
    {
     "name": "stdout",
     "output_type": "stream",
     "text": [
      "Total cancelled orders: 18316, which is 14.22% of all orders.\n",
      "Total returned orders: 2109, which is 1.64% of all orders.\n",
      "This represents 17.53% of all orders.\n",
      "\n",
      "\n"
     ]
    }
   ],
   "source": [
    "cancelled_orders = amazon[amazon['ship_status'].isin(['Cancelled', 'Shipped - Lost in Transit'])]\n",
    "returned_orders = amazon[amazon['ship_status'].isin(['Shipped - Returned to Seller', 'Shipped - Returning to Seller', 'Shipped - Rejected by Buyer', 'Shipped - Damaged'])]\n",
    "total_cancelled = len(cancelled_orders)\n",
    "total_returned = len(returned_orders)\n",
    "total_cancelled_returned = total_cancelled + total_returned\n",
    "percent_cancelled = total_cancelled / len(amazon) * 100\n",
    "percent_returned = total_returned / len(amazon) * 100\n",
    "percent_cancelled_returned = total_cancelled_returned / amazon['order_quantity'].sum() * 100\n",
    "print(f\"Total cancelled orders: {total_cancelled}, which is {percent_cancelled:.2f}% of all orders.\")\n",
    "print(f\"Total returned orders: {total_returned}, which is {percent_returned:.2f}% of all orders.\")\n",
    "print(f\"This represents {percent_cancelled_returned:.2f}% of all orders.\")\n",
    "print(\"\\n\")"
   ]
  },
  {
   "cell_type": "code",
   "execution_count": 135,
   "id": "5d52f477",
   "metadata": {},
   "outputs": [
    {
     "name": "stdout",
     "output_type": "stream",
     "text": [
      "            average_order_amount  average_order_quantity\n",
      "date                                                    \n",
      "2022-04-30            589.990998                0.900968\n",
      "2022-05-31            625.012317                0.904177\n",
      "2022-06-30            622.324554                0.909248\n",
      "\n",
      "\n"
     ]
    }
   ],
   "source": [
    "monthly_order_data = amazon.groupby(pd.Grouper(key='date', freq='M')).agg({'order_amount': 'mean', 'order_quantity': 'mean'})\n",
    "monthly_order_data = monthly_order_data.rename(columns={'order_amount': 'average_order_amount', 'order_quantity': 'average_order_quantity'})\n",
    "print(monthly_order_data)\n",
    "print(\"\\n\")"
   ]
  },
  {
   "cell_type": "code",
   "execution_count": 177,
   "id": "d09f1b3f",
   "metadata": {},
   "outputs": [
    {
     "name": "stdout",
     "output_type": "stream",
     "text": [
      "Most popular product category in each state:\n",
      "                  state product_category  order_quantity\n",
      "1    ANDAMAN & NICOBAR               Set             108\n",
      "4    ANDAMAN & NICOBAR             kurta              83\n",
      "3    ANDAMAN & NICOBAR     Western Dress              24\n",
      "2    ANDAMAN & NICOBAR               Top              10\n",
      "0    ANDAMAN & NICOBAR            Bottom               1\n",
      "..                  ...              ...             ...\n",
      "322            rajsthan            kurta               1\n",
      "326             unknown            kurta              14\n",
      "323             unknown              Set              11\n",
      "324             unknown              Top               2\n",
      "325             unknown    Western Dress               1\n",
      "\n",
      "[327 rows x 3 columns]\n",
      "\n",
      "\n"
     ]
    }
   ],
   "source": [
    "popular_category_by_state = amazon.groupby(['state', 'product_category'])['order_quantity'].sum().reset_index()\n",
    "popular_category_by_state = popular_category_by_state.sort_values(['state', 'order_quantity'], ascending=[True, False])\n",
    "#popular_category_by_state = popular_category_by_state.drop_duplicates(subset=['state'])\n",
    "print(\"Most popular product category in each state:\")\n",
    "print(popular_category_by_state)\n",
    "print(\"\\n\")"
   ]
  },
  {
   "cell_type": "code",
   "execution_count": 178,
   "id": "ae131157",
   "metadata": {},
   "outputs": [
    {
     "name": "stdout",
     "output_type": "stream",
     "text": [
      "{'Bihar', 'RJ', 'JAMMU & KASHMIR', 'MIZORAM', 'Punjab', 'ARUNACHAL PRADESH', 'HARYANA', 'Orissa', 'goa', 'orissa', 'PUDUCHERRY', 'GOA', 'TAMIL NADU', 'rajasthan', 'Meghalaya', 'Goa', 'DADRA AND NAGAR', 'ANDHRA PRADESH', 'Puducherry', 'Rajsthan', 'Chandigarh', 'MAHARASHTRA', 'Gujarat', 'TELANGANA', 'UTTAR PRADESH', 'APO', 'KERALA', 'UTTARAKHAND', 'AR', 'ANDAMAN & NICOBAR ', 'ASSAM', 'bihar', 'JHARKHAND', 'rajsthan', 'SIKKIM', 'MANIPUR', 'Odisha', 'Delhi', 'MADHYA PRADESH', 'Pondicherry', 'Rajasthan', 'delhi', 'New Delhi', 'BIHAR', 'NL', 'Arunachal Pradesh', 'Punjab/Mohali/Zirakpur', 'RAJASTHAN', 'Rajshthan', 'TRIPURA', 'punjab', 'KARNATAKA', 'Mizoram', 'CHANDIGARH', 'MEGHALAYA', 'Sikkim', 'unknown', 'LAKSHADWEEP', 'PUNJAB', 'Manipur', 'Arunachal pradesh', 'WEST BENGAL', 'HIMACHAL PRADESH', 'NAGALAND', 'Nagaland', 'DELHI', 'LADAKH', 'CHHATTISGARH', 'PB', 'ODISHA'}\n"
     ]
    },
    {
     "data": {
      "text/plain": [
       "70"
      ]
     },
     "execution_count": 178,
     "metadata": {},
     "output_type": "execute_result"
    }
   ],
   "source": [
    "print(set(list(popular_category_by_state[\"state\"])))\n",
    "len(set(list(popular_category_by_state[\"state\"])))"
   ]
  },
  {
   "cell_type": "markdown",
   "id": "9a6ab815",
   "metadata": {},
   "source": [
    "### QUIZ"
   ]
  },
  {
   "cell_type": "markdown",
   "id": "58d9cde2",
   "metadata": {},
   "source": [
    "#### So many States but we have only 28 what should we do ? \n",
    "\n",
    "<br>\n",
    "<br>\n",
    "<br>\n",
    "<br>\n",
    "<br>\n",
    "What you observed ? <b>Capital Letters , Small Letter, Abbrevations of States</b> \n",
    "How to handle these ?"
   ]
  },
  {
   "cell_type": "code",
   "execution_count": 179,
   "id": "f380b3fe",
   "metadata": {},
   "outputs": [
    {
     "name": "stdout",
     "output_type": "stream",
     "text": [
      "{'Chhattisgarh', 'Bihar', 'Karnataka', 'Haryana', 'Lakshadweep', 'Maharashtra', 'Punjab', 'Jharkhand', 'Orissa', 'Dadra And Nagar', 'Kerala', 'Nl', 'Meghalaya', 'Goa', 'Puducherry', 'Rajsthan', 'Chandigarh', 'Gujarat', 'Jammu & Kashmir', 'Ladakh', 'Assam', 'Telangana', 'Andaman & Nicobar ', 'West Bengal', 'Rj', 'Himachal Pradesh', 'Delhi', 'Odisha', 'Apo', 'Pondicherry', 'Rajasthan', 'Uttarakhand', 'New Delhi', 'Punjab/Mohali/Zirakpur', 'Rajshthan', 'Arunachal Pradesh', 'Uttar Pradesh', 'Mizoram', 'Ar', 'Sikkim', 'Unknown', 'Tamil Nadu', 'Manipur', 'Nagaland', 'Madhya Pradesh', 'Tripura', 'Pb', 'Andhra Pradesh'}\n"
     ]
    },
    {
     "data": {
      "text/plain": [
       "48"
      ]
     },
     "execution_count": 179,
     "metadata": {},
     "output_type": "execute_result"
    }
   ],
   "source": [
    "# Capatilize everythings\n",
    "popular_category_by_state['state'] = popular_category_by_state['state'].str.title()\n",
    "print(set(list(popular_category_by_state[\"state\"])))\n",
    "len(set(list(popular_category_by_state[\"state\"])))"
   ]
  },
  {
   "cell_type": "code",
   "execution_count": 180,
   "id": "415e17d9",
   "metadata": {},
   "outputs": [
    {
     "name": "stdout",
     "output_type": "stream",
     "text": [
      "{'Chhattisgarh', 'Bihar', 'Karnataka', 'Haryana', 'Lakshadweep', 'Maharashtra', 'Punjab', 'Jharkhand', 'Kerala', 'Meghalaya', 'Goa', 'Puducherry', 'Chandigarh', 'Gujarat', 'Assam', 'Telangana', 'West Bengal', 'Himachal Pradesh', 'Delhi', 'Odisha', 'Rajasthan', 'Uttarakhand', 'Uttar Pradesh', 'Arunachal Pradesh', 'Mizoram', 'Sikkim', 'Tamil Nadu', 'Manipur', 'Nagaland', 'Madhya Pradesh', 'Tripura', 'Andhra Pradesh'}\n"
     ]
    },
    {
     "data": {
      "text/plain": [
       "32"
      ]
     },
     "execution_count": 180,
     "metadata": {},
     "output_type": "execute_result"
    }
   ],
   "source": [
    "# Handle Abbrevations -> we can do manual operations or we cam drop if you are not sure of non states\n",
    "# How to drop either maintain custom list or drop letters which are less than 3 characters\n",
    "# df = df[df['Column'].apply(lambda x: len(str(x)) >= 3)]\n",
    "indian_states = ['Andhra Pradesh', 'Arunachal Pradesh', 'Assam', 'Bihar', 'Chhattisgarh', 'Goa',\n",
    "                 'Gujarat', 'Haryana', 'Himachal Pradesh', 'Jharkhand', 'Karnataka', 'Kerala', 'Madhya Pradesh',\n",
    "                 'Maharashtra', 'Manipur', 'Meghalaya', 'Mizoram', 'Nagaland', 'Odisha', 'Punjab', 'Rajasthan',\n",
    "                 'Sikkim', 'Tamil Nadu', 'Telangana', 'Tripura', 'Uttar Pradesh', 'Uttarakhand', 'West Bengal',\n",
    "                 'Andaman and Nicobar Islands', 'Chandigarh', 'Dadra and Nagar Haveli and Daman and Diu', 'Lakshadweep',\n",
    "                 'Delhi', 'Puducherry']\n",
    "state_mapping = {\n",
    "    'Punjab/mohali/zirakpur': 'Punjab',\n",
    "    # Add more mappings as needed\n",
    "}\n",
    "popular_category_by_state['state'] = popular_category_by_state['state'].replace(state_mapping)\n",
    "popular_category_by_state = popular_category_by_state[popular_category_by_state['state'].str.title().isin(indian_states)]\n",
    "print(set(list(popular_category_by_state[\"state\"])))\n",
    "len(set(list(popular_category_by_state[\"state\"])))"
   ]
  },
  {
   "cell_type": "code",
   "execution_count": 181,
   "id": "4fc2b7df",
   "metadata": {},
   "outputs": [
    {
     "name": "stdout",
     "output_type": "stream",
     "text": [
      "              state product_category  order_quantity\n",
      "12   Andhra Pradesh            kurta            2298\n",
      "9    Andhra Pradesh              Set            1636\n",
      "11   Andhra Pradesh    Western Dress             629\n",
      "10   Andhra Pradesh              Top             168\n",
      "7    Andhra Pradesh     Ethnic Dress              36\n",
      "..              ...              ...             ...\n",
      "316          Punjab    Western Dress               1\n",
      "320       Rajasthan              Top               2\n",
      "321       Rajasthan    Western Dress               2\n",
      "318       Rajasthan     Ethnic Dress               1\n",
      "319       Rajasthan              Set               1\n",
      "\n",
      "[284 rows x 3 columns]\n"
     ]
    }
   ],
   "source": [
    "print(popular_category_by_state)"
   ]
  },
  {
   "cell_type": "code",
   "execution_count": 182,
   "id": "a2af5b2c",
   "metadata": {},
   "outputs": [
    {
     "data": {
      "text/html": [
       "<div>\n",
       "<style scoped>\n",
       "    .dataframe tbody tr th:only-of-type {\n",
       "        vertical-align: middle;\n",
       "    }\n",
       "\n",
       "    .dataframe tbody tr th {\n",
       "        vertical-align: top;\n",
       "    }\n",
       "\n",
       "    .dataframe thead th {\n",
       "        text-align: right;\n",
       "    }\n",
       "</style>\n",
       "<table border=\"1\" class=\"dataframe\">\n",
       "  <thead>\n",
       "    <tr style=\"text-align: right;\">\n",
       "      <th></th>\n",
       "      <th>state</th>\n",
       "      <th>product_category</th>\n",
       "      <th>order_quantity</th>\n",
       "    </tr>\n",
       "  </thead>\n",
       "  <tbody>\n",
       "  </tbody>\n",
       "</table>\n",
       "</div>"
      ],
      "text/plain": [
       "Empty DataFrame\n",
       "Columns: [state, product_category, order_quantity]\n",
       "Index: []"
      ]
     },
     "execution_count": 182,
     "metadata": {},
     "output_type": "execute_result"
    }
   ],
   "source": [
    "popular_category_by_state[popular_category_by_state[\"state\"]==\"Andhra pradesh\"]"
   ]
  },
  {
   "cell_type": "code",
   "execution_count": 183,
   "id": "8e7b1d58",
   "metadata": {},
   "outputs": [
    {
     "data": {
      "text/html": [
       "<div>\n",
       "<style scoped>\n",
       "    .dataframe tbody tr th:only-of-type {\n",
       "        vertical-align: middle;\n",
       "    }\n",
       "\n",
       "    .dataframe tbody tr th {\n",
       "        vertical-align: top;\n",
       "    }\n",
       "\n",
       "    .dataframe thead th {\n",
       "        text-align: right;\n",
       "    }\n",
       "</style>\n",
       "<table border=\"1\" class=\"dataframe\">\n",
       "  <thead>\n",
       "    <tr style=\"text-align: right;\">\n",
       "      <th></th>\n",
       "      <th>state</th>\n",
       "      <th>product_category</th>\n",
       "      <th>order_quantity</th>\n",
       "    </tr>\n",
       "  </thead>\n",
       "  <tbody>\n",
       "    <tr>\n",
       "      <th>0</th>\n",
       "      <td>Andhra Pradesh</td>\n",
       "      <td>kurta</td>\n",
       "      <td>2298</td>\n",
       "    </tr>\n",
       "    <tr>\n",
       "      <th>1</th>\n",
       "      <td>Arunachal Pradesh</td>\n",
       "      <td>Set</td>\n",
       "      <td>55</td>\n",
       "    </tr>\n",
       "    <tr>\n",
       "      <th>2</th>\n",
       "      <td>Assam</td>\n",
       "      <td>Set</td>\n",
       "      <td>657</td>\n",
       "    </tr>\n",
       "    <tr>\n",
       "      <th>3</th>\n",
       "      <td>Bihar</td>\n",
       "      <td>Set</td>\n",
       "      <td>1003</td>\n",
       "    </tr>\n",
       "    <tr>\n",
       "      <th>4</th>\n",
       "      <td>Chandigarh</td>\n",
       "      <td>Set</td>\n",
       "      <td>134</td>\n",
       "    </tr>\n",
       "    <tr>\n",
       "      <th>5</th>\n",
       "      <td>Chhattisgarh</td>\n",
       "      <td>Set</td>\n",
       "      <td>385</td>\n",
       "    </tr>\n",
       "    <tr>\n",
       "      <th>6</th>\n",
       "      <td>Delhi</td>\n",
       "      <td>Set</td>\n",
       "      <td>2768</td>\n",
       "    </tr>\n",
       "    <tr>\n",
       "      <th>7</th>\n",
       "      <td>Goa</td>\n",
       "      <td>kurta</td>\n",
       "      <td>457</td>\n",
       "    </tr>\n",
       "    <tr>\n",
       "      <th>8</th>\n",
       "      <td>Gujarat</td>\n",
       "      <td>Set</td>\n",
       "      <td>1574</td>\n",
       "    </tr>\n",
       "    <tr>\n",
       "      <th>9</th>\n",
       "      <td>Haryana</td>\n",
       "      <td>Set</td>\n",
       "      <td>1859</td>\n",
       "    </tr>\n",
       "    <tr>\n",
       "      <th>10</th>\n",
       "      <td>Himachal Pradesh</td>\n",
       "      <td>Set</td>\n",
       "      <td>376</td>\n",
       "    </tr>\n",
       "    <tr>\n",
       "      <th>11</th>\n",
       "      <td>Jharkhand</td>\n",
       "      <td>Set</td>\n",
       "      <td>641</td>\n",
       "    </tr>\n",
       "    <tr>\n",
       "      <th>12</th>\n",
       "      <td>Karnataka</td>\n",
       "      <td>kurta</td>\n",
       "      <td>6209</td>\n",
       "    </tr>\n",
       "    <tr>\n",
       "      <th>13</th>\n",
       "      <td>Kerala</td>\n",
       "      <td>kurta</td>\n",
       "      <td>2633</td>\n",
       "    </tr>\n",
       "    <tr>\n",
       "      <th>14</th>\n",
       "      <td>Lakshadweep</td>\n",
       "      <td>Set</td>\n",
       "      <td>2</td>\n",
       "    </tr>\n",
       "    <tr>\n",
       "      <th>15</th>\n",
       "      <td>Madhya Pradesh</td>\n",
       "      <td>Set</td>\n",
       "      <td>1026</td>\n",
       "    </tr>\n",
       "    <tr>\n",
       "      <th>16</th>\n",
       "      <td>Maharashtra</td>\n",
       "      <td>kurta</td>\n",
       "      <td>7620</td>\n",
       "    </tr>\n",
       "    <tr>\n",
       "      <th>17</th>\n",
       "      <td>Manipur</td>\n",
       "      <td>Set</td>\n",
       "      <td>153</td>\n",
       "    </tr>\n",
       "    <tr>\n",
       "      <th>18</th>\n",
       "      <td>Meghalaya</td>\n",
       "      <td>Set</td>\n",
       "      <td>72</td>\n",
       "    </tr>\n",
       "    <tr>\n",
       "      <th>19</th>\n",
       "      <td>Mizoram</td>\n",
       "      <td>Set</td>\n",
       "      <td>26</td>\n",
       "    </tr>\n",
       "    <tr>\n",
       "      <th>20</th>\n",
       "      <td>Nagaland</td>\n",
       "      <td>Set</td>\n",
       "      <td>124</td>\n",
       "    </tr>\n",
       "    <tr>\n",
       "      <th>21</th>\n",
       "      <td>Odisha</td>\n",
       "      <td>Set</td>\n",
       "      <td>831</td>\n",
       "    </tr>\n",
       "    <tr>\n",
       "      <th>22</th>\n",
       "      <td>Puducherry</td>\n",
       "      <td>kurta</td>\n",
       "      <td>168</td>\n",
       "    </tr>\n",
       "    <tr>\n",
       "      <th>23</th>\n",
       "      <td>Punjab</td>\n",
       "      <td>Set</td>\n",
       "      <td>775</td>\n",
       "    </tr>\n",
       "    <tr>\n",
       "      <th>24</th>\n",
       "      <td>Rajasthan</td>\n",
       "      <td>Set</td>\n",
       "      <td>1152</td>\n",
       "    </tr>\n",
       "    <tr>\n",
       "      <th>25</th>\n",
       "      <td>Sikkim</td>\n",
       "      <td>Set</td>\n",
       "      <td>113</td>\n",
       "    </tr>\n",
       "    <tr>\n",
       "      <th>26</th>\n",
       "      <td>Tamil Nadu</td>\n",
       "      <td>kurta</td>\n",
       "      <td>5265</td>\n",
       "    </tr>\n",
       "    <tr>\n",
       "      <th>27</th>\n",
       "      <td>Telangana</td>\n",
       "      <td>kurta</td>\n",
       "      <td>4342</td>\n",
       "    </tr>\n",
       "    <tr>\n",
       "      <th>28</th>\n",
       "      <td>Tripura</td>\n",
       "      <td>kurta</td>\n",
       "      <td>53</td>\n",
       "    </tr>\n",
       "    <tr>\n",
       "      <th>29</th>\n",
       "      <td>Uttar Pradesh</td>\n",
       "      <td>Set</td>\n",
       "      <td>4557</td>\n",
       "    </tr>\n",
       "    <tr>\n",
       "      <th>30</th>\n",
       "      <td>Uttarakhand</td>\n",
       "      <td>Set</td>\n",
       "      <td>650</td>\n",
       "    </tr>\n",
       "    <tr>\n",
       "      <th>31</th>\n",
       "      <td>West Bengal</td>\n",
       "      <td>kurta</td>\n",
       "      <td>2271</td>\n",
       "    </tr>\n",
       "  </tbody>\n",
       "</table>\n",
       "</div>"
      ],
      "text/plain": [
       "                state product_category  order_quantity\n",
       "0      Andhra Pradesh            kurta            2298\n",
       "1   Arunachal Pradesh              Set              55\n",
       "2               Assam              Set             657\n",
       "3               Bihar              Set            1003\n",
       "4          Chandigarh              Set             134\n",
       "5        Chhattisgarh              Set             385\n",
       "6               Delhi              Set            2768\n",
       "7                 Goa            kurta             457\n",
       "8             Gujarat              Set            1574\n",
       "9             Haryana              Set            1859\n",
       "10   Himachal Pradesh              Set             376\n",
       "11          Jharkhand              Set             641\n",
       "12          Karnataka            kurta            6209\n",
       "13             Kerala            kurta            2633\n",
       "14        Lakshadweep              Set               2\n",
       "15     Madhya Pradesh              Set            1026\n",
       "16        Maharashtra            kurta            7620\n",
       "17            Manipur              Set             153\n",
       "18          Meghalaya              Set              72\n",
       "19            Mizoram              Set              26\n",
       "20           Nagaland              Set             124\n",
       "21             Odisha              Set             831\n",
       "22         Puducherry            kurta             168\n",
       "23             Punjab              Set             775\n",
       "24          Rajasthan              Set            1152\n",
       "25             Sikkim              Set             113\n",
       "26         Tamil Nadu            kurta            5265\n",
       "27          Telangana            kurta            4342\n",
       "28            Tripura            kurta              53\n",
       "29      Uttar Pradesh              Set            4557\n",
       "30        Uttarakhand              Set             650\n",
       "31        West Bengal            kurta            2271"
      ]
     },
     "execution_count": 183,
     "metadata": {},
     "output_type": "execute_result"
    }
   ],
   "source": [
    "## display Top Product from Each state\n",
    "# Find the index of the row with the maximum quantity for each state\n",
    "top_product_indices = popular_category_by_state.groupby('state')['order_quantity'].idxmax()\n",
    "\n",
    "# Display the top product in each state\n",
    "top_products = popular_category_by_state.loc[top_product_indices, ['state', 'product_category', 'order_quantity']].reset_index(drop=True)\n",
    "top_products"
   ]
  },
  {
   "cell_type": "markdown",
   "id": "7fbe60c2",
   "metadata": {},
   "source": [
    "## Magic"
   ]
  },
  {
   "cell_type": "code",
   "execution_count": 156,
   "id": "0653c667",
   "metadata": {},
   "outputs": [
    {
     "name": "stdout",
     "output_type": "stream",
     "text": [
      "Collecting geopandas\n",
      "  Obtaining dependency information for geopandas from https://files.pythonhosted.org/packages/3e/cf/ede993ed7070c5487e6db550aad490178c06eaa48ad26ff5e5263f995fba/geopandas-0.14.1-py3-none-any.whl.metadata\n",
      "  Downloading geopandas-0.14.1-py3-none-any.whl.metadata (1.5 kB)\n",
      "Requirement already satisfied: matplotlib in c:\\users\\91830\\anaconda3\\lib\\site-packages (3.7.0)\n",
      "Collecting fiona>=1.8.21 (from geopandas)\n",
      "  Obtaining dependency information for fiona>=1.8.21 from https://files.pythonhosted.org/packages/34/e1/e7131129e51382a6bfb261c87f45700782c120d7e4fb679f54a1a9e8eafd/fiona-1.9.5-cp310-cp310-win_amd64.whl.metadata\n",
      "  Downloading fiona-1.9.5-cp310-cp310-win_amd64.whl.metadata (51 kB)\n",
      "     ---------------------------------------- 0.0/51.1 kB ? eta -:--:--\n",
      "     -------- ------------------------------- 10.2/51.1 kB ? eta -:--:--\n",
      "     --------------- ---------------------- 20.5/51.1 kB 131.3 kB/s eta 0:00:01\n",
      "     ------------------------------ ------- 41.0/51.1 kB 281.8 kB/s eta 0:00:01\n",
      "     -------------------------------------- 51.1/51.1 kB 289.9 kB/s eta 0:00:00\n",
      "Requirement already satisfied: packaging in c:\\users\\91830\\anaconda3\\lib\\site-packages (from geopandas) (22.0)\n",
      "Requirement already satisfied: pandas>=1.4.0 in c:\\users\\91830\\anaconda3\\lib\\site-packages (from geopandas) (1.5.3)\n",
      "Collecting pyproj>=3.3.0 (from geopandas)\n",
      "  Obtaining dependency information for pyproj>=3.3.0 from https://files.pythonhosted.org/packages/89/8f/27350c8fba71a37cd0d316f100fbd96bf139cc2b5ff1ab0dcbc7ac64010a/pyproj-3.6.1-cp310-cp310-win_amd64.whl.metadata\n",
      "  Downloading pyproj-3.6.1-cp310-cp310-win_amd64.whl.metadata (31 kB)\n",
      "Collecting shapely>=1.8.0 (from geopandas)\n",
      "  Obtaining dependency information for shapely>=1.8.0 from https://files.pythonhosted.org/packages/28/32/c404f6d5566025b9d94eef0cc21039b0a4c10a392bad2f81edf778b3c2bc/shapely-2.0.2-cp310-cp310-win_amd64.whl.metadata\n",
      "  Downloading shapely-2.0.2-cp310-cp310-win_amd64.whl.metadata (7.2 kB)\n",
      "Requirement already satisfied: contourpy>=1.0.1 in c:\\users\\91830\\anaconda3\\lib\\site-packages (from matplotlib) (1.0.5)\n",
      "Requirement already satisfied: cycler>=0.10 in c:\\users\\91830\\anaconda3\\lib\\site-packages (from matplotlib) (0.11.0)\n",
      "Requirement already satisfied: fonttools>=4.22.0 in c:\\users\\91830\\anaconda3\\lib\\site-packages (from matplotlib) (4.25.0)\n",
      "Requirement already satisfied: kiwisolver>=1.0.1 in c:\\users\\91830\\anaconda3\\lib\\site-packages (from matplotlib) (1.4.4)\n",
      "Requirement already satisfied: numpy>=1.20 in c:\\users\\91830\\anaconda3\\lib\\site-packages (from matplotlib) (1.23.5)\n",
      "Requirement already satisfied: pillow>=6.2.0 in c:\\users\\91830\\anaconda3\\lib\\site-packages (from matplotlib) (9.4.0)\n",
      "Requirement already satisfied: pyparsing>=2.3.1 in c:\\users\\91830\\anaconda3\\lib\\site-packages (from matplotlib) (3.0.9)\n",
      "Requirement already satisfied: python-dateutil>=2.7 in c:\\users\\91830\\anaconda3\\lib\\site-packages (from matplotlib) (2.8.2)\n",
      "Requirement already satisfied: attrs>=19.2.0 in c:\\users\\91830\\anaconda3\\lib\\site-packages (from fiona>=1.8.21->geopandas) (22.1.0)\n",
      "Requirement already satisfied: certifi in c:\\users\\91830\\anaconda3\\lib\\site-packages (from fiona>=1.8.21->geopandas) (2023.7.22)\n",
      "Requirement already satisfied: click~=8.0 in c:\\users\\91830\\anaconda3\\lib\\site-packages (from fiona>=1.8.21->geopandas) (8.0.4)\n",
      "Collecting click-plugins>=1.0 (from fiona>=1.8.21->geopandas)\n",
      "  Downloading click_plugins-1.1.1-py2.py3-none-any.whl (7.5 kB)\n",
      "Collecting cligj>=0.5 (from fiona>=1.8.21->geopandas)\n",
      "  Downloading cligj-0.7.2-py3-none-any.whl (7.1 kB)\n",
      "Requirement already satisfied: six in c:\\users\\91830\\anaconda3\\lib\\site-packages (from fiona>=1.8.21->geopandas) (1.16.0)\n",
      "Requirement already satisfied: setuptools in c:\\users\\91830\\anaconda3\\lib\\site-packages (from fiona>=1.8.21->geopandas) (65.6.3)\n",
      "Requirement already satisfied: pytz>=2020.1 in c:\\users\\91830\\anaconda3\\lib\\site-packages (from pandas>=1.4.0->geopandas) (2022.7)\n",
      "Requirement already satisfied: colorama in c:\\users\\91830\\anaconda3\\lib\\site-packages (from click~=8.0->fiona>=1.8.21->geopandas) (0.4.6)\n",
      "Downloading geopandas-0.14.1-py3-none-any.whl (1.1 MB)\n",
      "   ---------------------------------------- 0.0/1.1 MB ? eta -:--:--\n",
      "   - -------------------------------------- 0.0/1.1 MB 1.9 MB/s eta 0:00:01\n",
      "   - -------------------------------------- 0.0/1.1 MB 1.9 MB/s eta 0:00:01\n",
      "   -- ------------------------------------- 0.1/1.1 MB 363.1 kB/s eta 0:00:03\n",
      "   --- ------------------------------------ 0.1/1.1 MB 525.1 kB/s eta 0:00:02\n",
      "   ----- ---------------------------------- 0.2/1.1 MB 653.6 kB/s eta 0:00:02\n",
      "   ------ --------------------------------- 0.2/1.1 MB 697.2 kB/s eta 0:00:02\n",
      "   ------ --------------------------------- 0.2/1.1 MB 697.2 kB/s eta 0:00:02\n",
      "   ------- -------------------------------- 0.2/1.1 MB 540.4 kB/s eta 0:00:02\n",
      "   ------- -------------------------------- 0.2/1.1 MB 540.4 kB/s eta 0:00:02\n",
      "   -------- ------------------------------- 0.2/1.1 MB 491.0 kB/s eta 0:00:02\n",
      "   ---------- ----------------------------- 0.3/1.1 MB 532.5 kB/s eta 0:00:02\n",
      "   ---------- ----------------------------- 0.3/1.1 MB 532.5 kB/s eta 0:00:02\n",
      "   ---------- ----------------------------- 0.3/1.1 MB 532.5 kB/s eta 0:00:02\n",
      "   ---------- ----------------------------- 0.3/1.1 MB 532.5 kB/s eta 0:00:02\n",
      "   ---------- ----------------------------- 0.3/1.1 MB 532.5 kB/s eta 0:00:02\n",
      "   ---------- ----------------------------- 0.3/1.1 MB 532.5 kB/s eta 0:00:02\n",
      "   ---------- ----------------------------- 0.3/1.1 MB 532.5 kB/s eta 0:00:02\n",
      "   ---------- ----------------------------- 0.3/1.1 MB 532.5 kB/s eta 0:00:02\n",
      "   ---------- ----------------------------- 0.3/1.1 MB 532.5 kB/s eta 0:00:02\n",
      "   ---------- ----------------------------- 0.3/1.1 MB 532.5 kB/s eta 0:00:02\n",
      "   ---------- ----------------------------- 0.3/1.1 MB 532.5 kB/s eta 0:00:02\n",
      "   ---------- ----------------------------- 0.3/1.1 MB 532.5 kB/s eta 0:00:02\n",
      "   ---------- ----------------------------- 0.3/1.1 MB 532.5 kB/s eta 0:00:02\n",
      "   ---------- ----------------------------- 0.3/1.1 MB 532.5 kB/s eta 0:00:02\n",
      "   ---------- ----------------------------- 0.3/1.1 MB 532.5 kB/s eta 0:00:02\n",
      "   ---------- ----------------------------- 0.3/1.1 MB 532.5 kB/s eta 0:00:02\n",
      "   ---------- ----------------------------- 0.3/1.1 MB 532.5 kB/s eta 0:00:02\n",
      "   ---------- ----------------------------- 0.3/1.1 MB 532.5 kB/s eta 0:00:02\n",
      "   ---------- ----------------------------- 0.3/1.1 MB 532.5 kB/s eta 0:00:02\n",
      "   ---------- ----------------------------- 0.3/1.1 MB 532.5 kB/s eta 0:00:02\n",
      "   ---------- ----------------------------- 0.3/1.1 MB 532.5 kB/s eta 0:00:02\n",
      "   ---------- ----------------------------- 0.3/1.1 MB 188.2 kB/s eta 0:00:05\n",
      "   ---------- ----------------------------- 0.3/1.1 MB 188.2 kB/s eta 0:00:05\n",
      "   ---------- ----------------------------- 0.3/1.1 MB 188.2 kB/s eta 0:00:05\n",
      "   ---------- ----------------------------- 0.3/1.1 MB 188.2 kB/s eta 0:00:05\n",
      "   ---------- ----------------------------- 0.3/1.1 MB 188.2 kB/s eta 0:00:05\n",
      "   ---------- ----------------------------- 0.3/1.1 MB 188.2 kB/s eta 0:00:05\n",
      "   ---------- ----------------------------- 0.3/1.1 MB 188.2 kB/s eta 0:00:05\n",
      "   ---------- ----------------------------- 0.3/1.1 MB 188.2 kB/s eta 0:00:05\n",
      "   ---------- ----------------------------- 0.3/1.1 MB 188.2 kB/s eta 0:00:05\n",
      "   ----------- ---------------------------- 0.3/1.1 MB 157.0 kB/s eta 0:00:06\n",
      "   ----------- ---------------------------- 0.3/1.1 MB 157.0 kB/s eta 0:00:06\n",
      "   ----------- ---------------------------- 0.3/1.1 MB 157.0 kB/s eta 0:00:06\n",
      "   ----------- ---------------------------- 0.3/1.1 MB 157.5 kB/s eta 0:00:05\n",
      "   ----------- ---------------------------- 0.3/1.1 MB 157.5 kB/s eta 0:00:05\n",
      "   ----------- ---------------------------- 0.3/1.1 MB 157.5 kB/s eta 0:00:05\n",
      "   ----------- ---------------------------- 0.3/1.1 MB 157.5 kB/s eta 0:00:05\n",
      "   ------------ --------------------------- 0.3/1.1 MB 148.7 kB/s eta 0:00:06\n",
      "   ------------ --------------------------- 0.4/1.1 MB 152.6 kB/s eta 0:00:05\n",
      "   ------------ --------------------------- 0.4/1.1 MB 152.6 kB/s eta 0:00:05\n",
      "   ------------- -------------------------- 0.4/1.1 MB 151.9 kB/s eta 0:00:05\n",
      "   ------------- -------------------------- 0.4/1.1 MB 151.9 kB/s eta 0:00:05\n",
      "   ------------- -------------------------- 0.4/1.1 MB 151.9 kB/s eta 0:00:05\n",
      "   ------------- -------------------------- 0.4/1.1 MB 151.9 kB/s eta 0:00:05\n",
      "   ------------- -------------------------- 0.4/1.1 MB 151.9 kB/s eta 0:00:05\n",
      "   ------------- -------------------------- 0.4/1.1 MB 151.9 kB/s eta 0:00:05\n",
      "   ------------- -------------------------- 0.4/1.1 MB 151.9 kB/s eta 0:00:05\n",
      "   ------------- -------------------------- 0.4/1.1 MB 151.9 kB/s eta 0:00:05\n",
      "   ------------- -------------------------- 0.4/1.1 MB 151.9 kB/s eta 0:00:05\n",
      "   ------------- -------------------------- 0.4/1.1 MB 151.9 kB/s eta 0:00:05\n",
      "   ------------- -------------------------- 0.4/1.1 MB 151.9 kB/s eta 0:00:05\n",
      "   ------------- -------------------------- 0.4/1.1 MB 151.9 kB/s eta 0:00:05\n",
      "   ------------- -------------------------- 0.4/1.1 MB 151.9 kB/s eta 0:00:05\n",
      "   ------------- -------------------------- 0.4/1.1 MB 151.9 kB/s eta 0:00:05\n",
      "   ------------- -------------------------- 0.4/1.1 MB 151.9 kB/s eta 0:00:05\n",
      "   ------------- -------------------------- 0.4/1.1 MB 151.9 kB/s eta 0:00:05\n",
      "   ------------- -------------------------- 0.4/1.1 MB 151.9 kB/s eta 0:00:05\n",
      "   ------------- -------------------------- 0.4/1.1 MB 151.9 kB/s eta 0:00:05\n",
      "   ------------- -------------------------- 0.4/1.1 MB 151.9 kB/s eta 0:00:05\n",
      "   ------------- -------------------------- 0.4/1.1 MB 151.9 kB/s eta 0:00:05\n",
      "   ------------- -------------------------- 0.4/1.1 MB 151.9 kB/s eta 0:00:05\n",
      "   ------------- -------------------------- 0.4/1.1 MB 151.9 kB/s eta 0:00:05\n",
      "   ------------- -------------------------- 0.4/1.1 MB 151.9 kB/s eta 0:00:05\n",
      "   ------------- -------------------------- 0.4/1.1 MB 151.9 kB/s eta 0:00:05\n",
      "   ------------- -------------------------- 0.4/1.1 MB 151.9 kB/s eta 0:00:05\n",
      "   ------------- -------------------------- 0.4/1.1 MB 151.9 kB/s eta 0:00:05\n",
      "   ------------- -------------------------- 0.4/1.1 MB 151.9 kB/s eta 0:00:05\n",
      "   ------------- -------------------------- 0.4/1.1 MB 151.9 kB/s eta 0:00:05\n",
      "   ------------- -------------------------- 0.4/1.1 MB 151.9 kB/s eta 0:00:05\n",
      "   ------------- -------------------------- 0.4/1.1 MB 151.9 kB/s eta 0:00:05\n",
      "   ------------- -------------------------- 0.4/1.1 MB 151.9 kB/s eta 0:00:05\n",
      "   ------------- -------------------------- 0.4/1.1 MB 151.9 kB/s eta 0:00:05\n",
      "   -------------- ------------------------- 0.4/1.1 MB 103.1 kB/s eta 0:00:07\n",
      "   -------------- ------------------------- 0.4/1.1 MB 103.1 kB/s eta 0:00:07\n",
      "   --------------- ------------------------ 0.4/1.1 MB 108.4 kB/s eta 0:00:07\n",
      "   --------------- ------------------------ 0.4/1.1 MB 108.4 kB/s eta 0:00:07\n",
      "   --------------- ------------------------ 0.4/1.1 MB 108.4 kB/s eta 0:00:07\n",
      "   ---------------- ----------------------- 0.5/1.1 MB 107.1 kB/s eta 0:00:07\n",
      "   ----------------- ---------------------- 0.5/1.1 MB 111.7 kB/s eta 0:00:06\n",
      "   ----------------- ---------------------- 0.5/1.1 MB 114.5 kB/s eta 0:00:06\n",
      "   ------------------ --------------------- 0.5/1.1 MB 120.5 kB/s eta 0:00:05\n",
      "   ------------------- -------------------- 0.5/1.1 MB 122.4 kB/s eta 0:00:05\n",
      "   ---------------------- ----------------- 0.6/1.1 MB 142.0 kB/s eta 0:00:04\n",
      "   -------------------------- ------------- 0.7/1.1 MB 163.2 kB/s eta 0:00:03\n",
      "   ---------------------------- ----------- 0.8/1.1 MB 173.1 kB/s eta 0:00:02\n",
      "   ------------------------------ --------- 0.8/1.1 MB 188.6 kB/s eta 0:00:02\n",
      "   ---------------------------------- ----- 1.0/1.1 MB 207.9 kB/s eta 0:00:01\n",
      "   ------------------------------------- -- 1.0/1.1 MB 226.7 kB/s eta 0:00:01\n",
      "   ---------------------------------------- 1.1/1.1 MB 237.4 kB/s eta 0:00:00\n",
      "Downloading fiona-1.9.5-cp310-cp310-win_amd64.whl (22.9 MB)\n",
      "   ---------------------------------------- 0.0/22.9 MB ? eta -:--:--\n",
      "   ---------------------------------------- 0.1/22.9 MB 1.7 MB/s eta 0:00:14\n",
      "   ---------------------------------------- 0.1/22.9 MB 1.7 MB/s eta 0:00:14\n",
      "   ---------------------------------------- 0.2/22.9 MB 1.1 MB/s eta 0:00:20\n",
      "   ---------------------------------------- 0.2/22.9 MB 1.2 MB/s eta 0:00:20\n",
      "   ---------------------------------------- 0.2/22.9 MB 1.2 MB/s eta 0:00:20\n",
      "   ---------------------------------------- 0.2/22.9 MB 1.2 MB/s eta 0:00:20\n",
      "   ---------------------------------------- 0.2/22.9 MB 620.6 kB/s eta 0:00:37\n",
      "   ---------------------------------------- 0.2/22.9 MB 573.4 kB/s eta 0:00:40\n",
      "   ---------------------------------------- 0.3/22.9 MB 630.9 kB/s eta 0:00:36\n",
      "    --------------------------------------- 0.4/22.9 MB 742.3 kB/s eta 0:00:31\n",
      "    --------------------------------------- 0.4/22.9 MB 860.2 kB/s eta 0:00:27\n",
      "    --------------------------------------- 0.5/22.9 MB 909.4 kB/s eta 0:00:25\n",
      "    --------------------------------------- 0.6/22.9 MB 908.0 kB/s eta 0:00:25\n",
      "   - -------------------------------------- 0.6/22.9 MB 921.0 kB/s eta 0:00:25\n",
      "   - -------------------------------------- 0.7/22.9 MB 917.7 kB/s eta 0:00:25\n",
      "   - -------------------------------------- 0.7/22.9 MB 962.6 kB/s eta 0:00:24\n",
      "   - -------------------------------------- 0.8/22.9 MB 1.0 MB/s eta 0:00:23\n",
      "   - -------------------------------------- 0.9/22.9 MB 1.0 MB/s eta 0:00:22\n",
      "   - -------------------------------------- 1.0/22.9 MB 1.1 MB/s eta 0:00:21\n",
      "   - -------------------------------------- 1.0/22.9 MB 1.0 MB/s eta 0:00:21\n",
      "   - -------------------------------------- 1.1/22.9 MB 1.1 MB/s eta 0:00:20\n",
      "   -- ------------------------------------- 1.2/22.9 MB 1.1 MB/s eta 0:00:20\n",
      "   -- ------------------------------------- 1.2/22.9 MB 1.1 MB/s eta 0:00:20\n",
      "   -- ------------------------------------- 1.3/22.9 MB 1.2 MB/s eta 0:00:19\n",
      "   -- ------------------------------------- 1.4/22.9 MB 1.2 MB/s eta 0:00:19\n",
      "   -- ------------------------------------- 1.4/22.9 MB 1.2 MB/s eta 0:00:19\n",
      "   -- ------------------------------------- 1.5/22.9 MB 1.2 MB/s eta 0:00:18\n",
      "   -- ------------------------------------- 1.6/22.9 MB 1.2 MB/s eta 0:00:18\n",
      "   -- ------------------------------------- 1.7/22.9 MB 1.2 MB/s eta 0:00:18\n",
      "   -- ------------------------------------- 1.7/22.9 MB 1.2 MB/s eta 0:00:18\n",
      "   --- ------------------------------------ 1.8/22.9 MB 1.2 MB/s eta 0:00:18\n",
      "   --- ------------------------------------ 1.8/22.9 MB 1.2 MB/s eta 0:00:18\n",
      "   --- ------------------------------------ 1.9/22.9 MB 1.3 MB/s eta 0:00:17\n",
      "   --- ------------------------------------ 2.0/22.9 MB 1.3 MB/s eta 0:00:17\n",
      "   --- ------------------------------------ 2.1/22.9 MB 1.3 MB/s eta 0:00:17\n",
      "   --- ------------------------------------ 2.1/22.9 MB 1.2 MB/s eta 0:00:17\n",
      "   --- ------------------------------------ 2.1/22.9 MB 1.2 MB/s eta 0:00:17\n",
      "   --- ------------------------------------ 2.1/22.9 MB 1.2 MB/s eta 0:00:18\n",
      "   --- ------------------------------------ 2.2/22.9 MB 1.2 MB/s eta 0:00:18\n",
      "   --- ------------------------------------ 2.2/22.9 MB 1.2 MB/s eta 0:00:18\n",
      "   --- ------------------------------------ 2.3/22.9 MB 1.2 MB/s eta 0:00:18\n",
      "   ---- ----------------------------------- 2.3/22.9 MB 1.2 MB/s eta 0:00:18\n",
      "   ---- ----------------------------------- 2.4/22.9 MB 1.2 MB/s eta 0:00:18\n",
      "   ---- ----------------------------------- 2.4/22.9 MB 1.2 MB/s eta 0:00:18\n",
      "   ---- ----------------------------------- 2.5/22.9 MB 1.2 MB/s eta 0:00:18\n",
      "   ---- ----------------------------------- 2.5/22.9 MB 1.2 MB/s eta 0:00:18\n",
      "   ---- ----------------------------------- 2.6/22.9 MB 1.2 MB/s eta 0:00:17\n",
      "   ---- ----------------------------------- 2.7/22.9 MB 1.2 MB/s eta 0:00:17\n",
      "   ---- ----------------------------------- 2.8/22.9 MB 1.2 MB/s eta 0:00:17\n",
      "   ---- ----------------------------------- 2.8/22.9 MB 1.2 MB/s eta 0:00:17\n",
      "   ----- ---------------------------------- 2.9/22.9 MB 1.2 MB/s eta 0:00:17\n",
      "   ----- ---------------------------------- 2.9/22.9 MB 1.2 MB/s eta 0:00:17\n",
      "   ----- ---------------------------------- 3.0/22.9 MB 1.2 MB/s eta 0:00:17\n",
      "   ----- ---------------------------------- 3.1/22.9 MB 1.2 MB/s eta 0:00:17\n",
      "   ----- ---------------------------------- 3.1/22.9 MB 1.2 MB/s eta 0:00:17\n",
      "   ----- ---------------------------------- 3.2/22.9 MB 1.2 MB/s eta 0:00:17\n",
      "   ----- ---------------------------------- 3.2/22.9 MB 1.2 MB/s eta 0:00:17\n",
      "   ----- ---------------------------------- 3.2/22.9 MB 1.2 MB/s eta 0:00:17\n",
      "   ----- ---------------------------------- 3.2/22.9 MB 1.2 MB/s eta 0:00:17\n",
      "   ----- ---------------------------------- 3.3/22.9 MB 1.2 MB/s eta 0:00:17\n",
      "   ----- ---------------------------------- 3.4/22.9 MB 1.2 MB/s eta 0:00:17\n",
      "   ----- ---------------------------------- 3.4/22.9 MB 1.2 MB/s eta 0:00:17\n",
      "   ------ --------------------------------- 3.5/22.9 MB 1.2 MB/s eta 0:00:17\n",
      "   ------ --------------------------------- 3.6/22.9 MB 1.2 MB/s eta 0:00:16\n",
      "   ------ --------------------------------- 3.7/22.9 MB 1.2 MB/s eta 0:00:16\n",
      "   ------ --------------------------------- 3.8/22.9 MB 1.2 MB/s eta 0:00:16\n",
      "   ------ --------------------------------- 3.8/22.9 MB 1.2 MB/s eta 0:00:16\n",
      "   ------ --------------------------------- 3.8/22.9 MB 1.2 MB/s eta 0:00:16\n",
      "   ------ --------------------------------- 3.9/22.9 MB 1.2 MB/s eta 0:00:16\n",
      "   ------ --------------------------------- 3.9/22.9 MB 1.2 MB/s eta 0:00:16\n",
      "   ------ --------------------------------- 4.0/22.9 MB 1.2 MB/s eta 0:00:16\n",
      "   ------- -------------------------------- 4.1/22.9 MB 1.2 MB/s eta 0:00:16\n",
      "   ------- -------------------------------- 4.1/22.9 MB 1.2 MB/s eta 0:00:16\n",
      "   ------- -------------------------------- 4.1/22.9 MB 1.2 MB/s eta 0:00:16\n",
      "   ------- -------------------------------- 4.1/22.9 MB 1.2 MB/s eta 0:00:17\n",
      "   ------- -------------------------------- 4.1/22.9 MB 1.2 MB/s eta 0:00:17\n",
      "   ------- -------------------------------- 4.2/22.9 MB 1.2 MB/s eta 0:00:17\n",
      "   ------- -------------------------------- 4.2/22.9 MB 1.2 MB/s eta 0:00:17\n",
      "   ------- -------------------------------- 4.2/22.9 MB 1.2 MB/s eta 0:00:17\n",
      "   ------- -------------------------------- 4.2/22.9 MB 1.2 MB/s eta 0:00:17\n",
      "   ------- -------------------------------- 4.2/22.9 MB 1.1 MB/s eta 0:00:17\n",
      "   ------- -------------------------------- 4.3/22.9 MB 1.1 MB/s eta 0:00:17\n",
      "   ------- -------------------------------- 4.3/22.9 MB 1.1 MB/s eta 0:00:17\n",
      "   ------- -------------------------------- 4.4/22.9 MB 1.1 MB/s eta 0:00:17\n",
      "   ------- -------------------------------- 4.4/22.9 MB 1.1 MB/s eta 0:00:17\n",
      "   ------- -------------------------------- 4.5/22.9 MB 1.1 MB/s eta 0:00:17\n",
      "   ------- -------------------------------- 4.5/22.9 MB 1.1 MB/s eta 0:00:17\n",
      "   ------- -------------------------------- 4.6/22.9 MB 1.1 MB/s eta 0:00:17\n",
      "   -------- ------------------------------- 4.6/22.9 MB 1.1 MB/s eta 0:00:17\n",
      "   -------- ------------------------------- 4.7/22.9 MB 1.1 MB/s eta 0:00:17\n",
      "   -------- ------------------------------- 4.7/22.9 MB 1.1 MB/s eta 0:00:17\n",
      "   -------- ------------------------------- 4.7/22.9 MB 1.1 MB/s eta 0:00:17\n",
      "   -------- ------------------------------- 4.7/22.9 MB 1.1 MB/s eta 0:00:17\n",
      "   -------- ------------------------------- 4.7/22.9 MB 1.1 MB/s eta 0:00:17\n",
      "   -------- ------------------------------- 4.7/22.9 MB 1.1 MB/s eta 0:00:17\n",
      "   -------- ------------------------------- 4.8/22.9 MB 1.1 MB/s eta 0:00:17\n",
      "   -------- ------------------------------- 4.8/22.9 MB 1.1 MB/s eta 0:00:17\n",
      "   -------- ------------------------------- 4.9/22.9 MB 1.1 MB/s eta 0:00:17\n",
      "   -------- ------------------------------- 4.9/22.9 MB 1.1 MB/s eta 0:00:17\n",
      "   -------- ------------------------------- 4.9/22.9 MB 1.1 MB/s eta 0:00:17\n",
      "   -------- ------------------------------- 5.0/22.9 MB 1.1 MB/s eta 0:00:17\n",
      "   -------- ------------------------------- 5.0/22.9 MB 1.1 MB/s eta 0:00:17\n",
      "   -------- ------------------------------- 5.0/22.9 MB 1.1 MB/s eta 0:00:17\n",
      "   -------- ------------------------------- 5.0/22.9 MB 1.1 MB/s eta 0:00:17\n",
      "   -------- ------------------------------- 5.1/22.9 MB 1.0 MB/s eta 0:00:18\n",
      "   -------- ------------------------------- 5.1/22.9 MB 1.0 MB/s eta 0:00:18\n",
      "   --------- ------------------------------ 5.2/22.9 MB 1.0 MB/s eta 0:00:18\n",
      "   --------- ------------------------------ 5.2/22.9 MB 1.0 MB/s eta 0:00:17\n",
      "   --------- ------------------------------ 5.2/22.9 MB 1.0 MB/s eta 0:00:18\n",
      "   --------- ------------------------------ 5.3/22.9 MB 1.0 MB/s eta 0:00:18\n",
      "   --------- ------------------------------ 5.4/22.9 MB 1.0 MB/s eta 0:00:17\n",
      "   --------- ------------------------------ 5.4/22.9 MB 1.0 MB/s eta 0:00:17\n",
      "   --------- ------------------------------ 5.4/22.9 MB 1.0 MB/s eta 0:00:17\n",
      "   --------- ------------------------------ 5.4/22.9 MB 1.0 MB/s eta 0:00:18\n",
      "   --------- ------------------------------ 5.5/22.9 MB 1.0 MB/s eta 0:00:18\n",
      "   --------- ------------------------------ 5.5/22.9 MB 1.0 MB/s eta 0:00:18\n",
      "   --------- ------------------------------ 5.5/22.9 MB 1.0 MB/s eta 0:00:18\n",
      "   --------- ------------------------------ 5.5/22.9 MB 1.0 MB/s eta 0:00:18\n",
      "   --------- ------------------------------ 5.6/22.9 MB 1.0 MB/s eta 0:00:18\n",
      "   --------- ------------------------------ 5.6/22.9 MB 1.0 MB/s eta 0:00:18\n",
      "   --------- ------------------------------ 5.7/22.9 MB 1.0 MB/s eta 0:00:18\n",
      "   --------- ------------------------------ 5.7/22.9 MB 1.0 MB/s eta 0:00:18\n",
      "   ---------- ----------------------------- 5.7/22.9 MB 1.0 MB/s eta 0:00:18\n",
      "   ---------- ----------------------------- 5.8/22.9 MB 1.0 MB/s eta 0:00:18\n",
      "   ---------- ----------------------------- 5.8/22.9 MB 998.0 kB/s eta 0:00:18\n",
      "   ---------- ----------------------------- 5.9/22.9 MB 1.0 MB/s eta 0:00:18\n",
      "   ---------- ----------------------------- 6.0/22.9 MB 1.0 MB/s eta 0:00:17\n",
      "   ---------- ----------------------------- 6.0/22.9 MB 1.0 MB/s eta 0:00:17\n",
      "   ---------- ----------------------------- 6.1/22.9 MB 1.0 MB/s eta 0:00:17\n",
      "   ---------- ----------------------------- 6.2/22.9 MB 1.0 MB/s eta 0:00:17\n",
      "   ----------- ---------------------------- 6.3/22.9 MB 1.0 MB/s eta 0:00:16\n",
      "   ----------- ---------------------------- 6.4/22.9 MB 1.0 MB/s eta 0:00:16\n",
      "   ----------- ---------------------------- 6.5/22.9 MB 1.0 MB/s eta 0:00:16\n",
      "   ----------- ---------------------------- 6.5/22.9 MB 1.0 MB/s eta 0:00:16\n",
      "   ----------- ---------------------------- 6.6/22.9 MB 1.1 MB/s eta 0:00:16\n",
      "   ----------- ---------------------------- 6.7/22.9 MB 1.1 MB/s eta 0:00:16\n",
      "   ----------- ---------------------------- 6.8/22.9 MB 1.1 MB/s eta 0:00:16\n",
      "   ------------ --------------------------- 6.9/22.9 MB 1.1 MB/s eta 0:00:15\n",
      "   ------------ --------------------------- 7.0/22.9 MB 1.1 MB/s eta 0:00:15\n",
      "   ------------ --------------------------- 7.1/22.9 MB 1.1 MB/s eta 0:00:15\n",
      "   ------------ --------------------------- 7.2/22.9 MB 1.1 MB/s eta 0:00:15\n",
      "   ------------ --------------------------- 7.3/22.9 MB 1.1 MB/s eta 0:00:15\n",
      "   ------------ --------------------------- 7.4/22.9 MB 1.1 MB/s eta 0:00:14\n",
      "   ------------- -------------------------- 7.5/22.9 MB 1.1 MB/s eta 0:00:14\n",
      "   ------------- -------------------------- 7.5/22.9 MB 1.1 MB/s eta 0:00:14\n",
      "   ------------- -------------------------- 7.6/22.9 MB 1.1 MB/s eta 0:00:14\n",
      "   ------------- -------------------------- 7.7/22.9 MB 1.1 MB/s eta 0:00:14\n",
      "   ------------- -------------------------- 7.8/22.9 MB 1.1 MB/s eta 0:00:14\n",
      "   ------------- -------------------------- 7.9/22.9 MB 1.1 MB/s eta 0:00:14\n",
      "   ------------- -------------------------- 7.9/22.9 MB 1.1 MB/s eta 0:00:14\n",
      "   ------------- -------------------------- 8.0/22.9 MB 1.1 MB/s eta 0:00:14\n",
      "   -------------- ------------------------- 8.1/22.9 MB 1.1 MB/s eta 0:00:13\n",
      "   -------------- ------------------------- 8.2/22.9 MB 1.1 MB/s eta 0:00:13\n",
      "   -------------- ------------------------- 8.3/22.9 MB 1.2 MB/s eta 0:00:13\n",
      "   -------------- ------------------------- 8.4/22.9 MB 1.2 MB/s eta 0:00:13\n",
      "   -------------- ------------------------- 8.5/22.9 MB 1.2 MB/s eta 0:00:13\n",
      "   --------------- ------------------------ 8.6/22.9 MB 1.2 MB/s eta 0:00:13\n",
      "   --------------- ------------------------ 8.7/22.9 MB 1.2 MB/s eta 0:00:12\n",
      "   --------------- ------------------------ 8.8/22.9 MB 1.2 MB/s eta 0:00:12\n",
      "   --------------- ------------------------ 8.9/22.9 MB 1.2 MB/s eta 0:00:12\n",
      "   --------------- ------------------------ 9.0/22.9 MB 1.2 MB/s eta 0:00:12\n",
      "   --------------- ------------------------ 9.1/22.9 MB 1.2 MB/s eta 0:00:12\n",
      "   ---------------- ----------------------- 9.2/22.9 MB 1.2 MB/s eta 0:00:12\n",
      "   ---------------- ----------------------- 9.3/22.9 MB 1.2 MB/s eta 0:00:12\n",
      "   ---------------- ----------------------- 9.4/22.9 MB 1.2 MB/s eta 0:00:12\n",
      "   ---------------- ----------------------- 9.4/22.9 MB 1.2 MB/s eta 0:00:12\n",
      "   ---------------- ----------------------- 9.5/22.9 MB 1.2 MB/s eta 0:00:11\n",
      "   ---------------- ----------------------- 9.6/22.9 MB 1.2 MB/s eta 0:00:11\n",
      "   ---------------- ----------------------- 9.6/22.9 MB 1.2 MB/s eta 0:00:11\n",
      "   ---------------- ----------------------- 9.7/22.9 MB 1.2 MB/s eta 0:00:11\n",
      "   ----------------- ---------------------- 9.8/22.9 MB 1.2 MB/s eta 0:00:11\n",
      "   ----------------- ---------------------- 9.9/22.9 MB 1.2 MB/s eta 0:00:11\n",
      "   ----------------- ---------------------- 9.9/22.9 MB 1.2 MB/s eta 0:00:11\n",
      "   ----------------- ---------------------- 10.0/22.9 MB 1.2 MB/s eta 0:00:11\n",
      "   ----------------- ---------------------- 10.1/22.9 MB 1.2 MB/s eta 0:00:11\n",
      "   ----------------- ---------------------- 10.1/22.9 MB 1.2 MB/s eta 0:00:11\n",
      "   ----------------- ---------------------- 10.2/22.9 MB 1.2 MB/s eta 0:00:11\n",
      "   ----------------- ---------------------- 10.3/22.9 MB 1.2 MB/s eta 0:00:11\n",
      "   ------------------ --------------------- 10.3/22.9 MB 1.2 MB/s eta 0:00:11\n",
      "   ------------------ --------------------- 10.4/22.9 MB 1.3 MB/s eta 0:00:10\n",
      "   ------------------ --------------------- 10.5/22.9 MB 1.3 MB/s eta 0:00:10\n",
      "   ------------------ --------------------- 10.6/22.9 MB 1.3 MB/s eta 0:00:10\n",
      "   ------------------ --------------------- 10.7/22.9 MB 1.3 MB/s eta 0:00:10\n",
      "   ------------------ --------------------- 10.8/22.9 MB 1.3 MB/s eta 0:00:10\n",
      "   ------------------ --------------------- 10.9/22.9 MB 1.3 MB/s eta 0:00:10\n",
      "   ------------------- -------------------- 11.0/22.9 MB 1.3 MB/s eta 0:00:10\n",
      "   ------------------- -------------------- 11.0/22.9 MB 1.3 MB/s eta 0:00:10\n",
      "   ------------------- -------------------- 11.1/22.9 MB 1.3 MB/s eta 0:00:10\n",
      "   ------------------- -------------------- 11.2/22.9 MB 1.3 MB/s eta 0:00:10\n",
      "   ------------------- -------------------- 11.2/22.9 MB 1.3 MB/s eta 0:00:10\n",
      "   ------------------- -------------------- 11.3/22.9 MB 1.3 MB/s eta 0:00:09\n",
      "   ------------------- -------------------- 11.4/22.9 MB 1.3 MB/s eta 0:00:09\n",
      "   -------------------- ------------------- 11.5/22.9 MB 1.3 MB/s eta 0:00:09\n",
      "   -------------------- ------------------- 11.5/22.9 MB 1.3 MB/s eta 0:00:09\n",
      "   -------------------- ------------------- 11.6/22.9 MB 1.3 MB/s eta 0:00:09\n",
      "   -------------------- ------------------- 11.7/22.9 MB 1.3 MB/s eta 0:00:09\n",
      "   -------------------- ------------------- 11.7/22.9 MB 1.3 MB/s eta 0:00:09\n",
      "   -------------------- ------------------- 11.8/22.9 MB 1.3 MB/s eta 0:00:09\n",
      "   -------------------- ------------------- 11.9/22.9 MB 1.3 MB/s eta 0:00:09\n",
      "   -------------------- ------------------- 11.9/22.9 MB 1.3 MB/s eta 0:00:09\n",
      "   --------------------- ------------------ 12.0/22.9 MB 1.3 MB/s eta 0:00:09\n",
      "   --------------------- ------------------ 12.1/22.9 MB 1.3 MB/s eta 0:00:09\n",
      "   --------------------- ------------------ 12.2/22.9 MB 1.3 MB/s eta 0:00:09\n",
      "   --------------------- ------------------ 12.3/22.9 MB 1.3 MB/s eta 0:00:09\n",
      "   --------------------- ------------------ 12.4/22.9 MB 1.3 MB/s eta 0:00:08\n",
      "   --------------------- ------------------ 12.5/22.9 MB 1.3 MB/s eta 0:00:08\n",
      "   ---------------------- ----------------- 12.7/22.9 MB 1.3 MB/s eta 0:00:08\n",
      "   ---------------------- ----------------- 12.8/22.9 MB 1.4 MB/s eta 0:00:08\n",
      "   ---------------------- ----------------- 12.9/22.9 MB 1.4 MB/s eta 0:00:08\n",
      "   ---------------------- ----------------- 13.0/22.9 MB 1.4 MB/s eta 0:00:08\n",
      "   ---------------------- ----------------- 13.0/22.9 MB 1.4 MB/s eta 0:00:08\n",
      "   ---------------------- ----------------- 13.1/22.9 MB 1.4 MB/s eta 0:00:08\n",
      "   ---------------------- ----------------- 13.1/22.9 MB 1.4 MB/s eta 0:00:08\n",
      "   ---------------------- ----------------- 13.1/22.9 MB 1.4 MB/s eta 0:00:08\n",
      "   ----------------------- ---------------- 13.2/22.9 MB 1.4 MB/s eta 0:00:08\n",
      "   ----------------------- ---------------- 13.3/22.9 MB 1.4 MB/s eta 0:00:08\n",
      "   ----------------------- ---------------- 13.5/22.9 MB 1.4 MB/s eta 0:00:07\n",
      "   ----------------------- ---------------- 13.6/22.9 MB 1.4 MB/s eta 0:00:07\n",
      "   ----------------------- ---------------- 13.7/22.9 MB 1.4 MB/s eta 0:00:07\n",
      "   ------------------------ --------------- 13.8/22.9 MB 1.4 MB/s eta 0:00:07\n",
      "   ------------------------ --------------- 13.8/22.9 MB 1.4 MB/s eta 0:00:07\n",
      "   ------------------------ --------------- 13.8/22.9 MB 1.4 MB/s eta 0:00:07\n",
      "   ------------------------ --------------- 13.9/22.9 MB 1.4 MB/s eta 0:00:07\n",
      "   ------------------------ --------------- 14.0/22.9 MB 1.4 MB/s eta 0:00:07\n",
      "   ------------------------ --------------- 14.1/22.9 MB 1.4 MB/s eta 0:00:07\n",
      "   ------------------------ --------------- 14.2/22.9 MB 1.4 MB/s eta 0:00:07\n",
      "   ------------------------- -------------- 14.3/22.9 MB 1.5 MB/s eta 0:00:06\n",
      "   ------------------------- -------------- 14.5/22.9 MB 1.5 MB/s eta 0:00:06\n",
      "   ------------------------- -------------- 14.6/22.9 MB 1.5 MB/s eta 0:00:06\n",
      "   ------------------------- -------------- 14.7/22.9 MB 1.5 MB/s eta 0:00:06\n",
      "   ------------------------- -------------- 14.8/22.9 MB 1.5 MB/s eta 0:00:06\n",
      "   -------------------------- ------------- 14.9/22.9 MB 1.5 MB/s eta 0:00:06\n",
      "   -------------------------- ------------- 15.0/22.9 MB 1.6 MB/s eta 0:00:05\n",
      "   -------------------------- ------------- 15.1/22.9 MB 1.6 MB/s eta 0:00:05\n",
      "   -------------------------- ------------- 15.3/22.9 MB 1.7 MB/s eta 0:00:05\n",
      "   -------------------------- ------------- 15.4/22.9 MB 1.7 MB/s eta 0:00:05\n",
      "   -------------------------- ------------- 15.5/22.9 MB 1.7 MB/s eta 0:00:05\n",
      "   --------------------------- ------------ 15.5/22.9 MB 1.7 MB/s eta 0:00:05\n",
      "   --------------------------- ------------ 15.6/22.9 MB 1.7 MB/s eta 0:00:05\n",
      "   --------------------------- ------------ 15.7/22.9 MB 1.7 MB/s eta 0:00:05\n",
      "   --------------------------- ------------ 15.8/22.9 MB 1.8 MB/s eta 0:00:04\n",
      "   --------------------------- ------------ 15.9/22.9 MB 1.8 MB/s eta 0:00:04\n",
      "   --------------------------- ------------ 15.9/22.9 MB 1.8 MB/s eta 0:00:04\n",
      "   --------------------------- ------------ 15.9/22.9 MB 1.8 MB/s eta 0:00:04\n",
      "   --------------------------- ------------ 15.9/22.9 MB 1.8 MB/s eta 0:00:04\n",
      "   --------------------------- ------------ 16.0/22.9 MB 1.8 MB/s eta 0:00:04\n",
      "   ---------------------------- ----------- 16.1/22.9 MB 1.8 MB/s eta 0:00:04\n",
      "   ---------------------------- ----------- 16.2/22.9 MB 1.8 MB/s eta 0:00:04\n",
      "   ---------------------------- ----------- 16.3/22.9 MB 1.8 MB/s eta 0:00:04\n",
      "   ---------------------------- ----------- 16.4/22.9 MB 1.8 MB/s eta 0:00:04\n",
      "   ---------------------------- ----------- 16.5/22.9 MB 1.8 MB/s eta 0:00:04\n",
      "   ---------------------------- ----------- 16.6/22.9 MB 1.8 MB/s eta 0:00:04\n",
      "   ----------------------------- ---------- 16.7/22.9 MB 1.8 MB/s eta 0:00:04\n",
      "   ----------------------------- ---------- 16.8/22.9 MB 1.8 MB/s eta 0:00:04\n",
      "   ----------------------------- ---------- 16.9/22.9 MB 1.8 MB/s eta 0:00:04\n",
      "   ----------------------------- ---------- 17.0/22.9 MB 1.8 MB/s eta 0:00:04\n",
      "   ----------------------------- ---------- 17.2/22.9 MB 1.8 MB/s eta 0:00:04\n",
      "   ------------------------------ --------- 17.2/22.9 MB 1.9 MB/s eta 0:00:04\n",
      "   ------------------------------ --------- 17.2/22.9 MB 1.8 MB/s eta 0:00:04\n",
      "   ------------------------------ --------- 17.2/22.9 MB 1.8 MB/s eta 0:00:04\n",
      "   ------------------------------ --------- 17.4/22.9 MB 1.8 MB/s eta 0:00:04\n",
      "   ------------------------------ --------- 17.5/22.9 MB 1.8 MB/s eta 0:00:03\n",
      "   ------------------------------ --------- 17.6/22.9 MB 1.8 MB/s eta 0:00:03\n",
      "   ------------------------------ --------- 17.7/22.9 MB 1.8 MB/s eta 0:00:03\n",
      "   ------------------------------- -------- 17.8/22.9 MB 1.8 MB/s eta 0:00:03\n",
      "   ------------------------------- -------- 17.8/22.9 MB 1.8 MB/s eta 0:00:03\n",
      "   ------------------------------- -------- 17.8/22.9 MB 1.8 MB/s eta 0:00:03\n",
      "   ------------------------------- -------- 17.8/22.9 MB 1.8 MB/s eta 0:00:03\n",
      "   ------------------------------- -------- 17.8/22.9 MB 1.8 MB/s eta 0:00:03\n",
      "   ------------------------------- -------- 17.9/22.9 MB 1.8 MB/s eta 0:00:03\n",
      "   ------------------------------- -------- 18.0/22.9 MB 1.8 MB/s eta 0:00:03\n",
      "   ------------------------------- -------- 18.1/22.9 MB 1.8 MB/s eta 0:00:03\n",
      "   ------------------------------- -------- 18.1/22.9 MB 1.8 MB/s eta 0:00:03\n",
      "   ------------------------------- -------- 18.2/22.9 MB 1.8 MB/s eta 0:00:03\n",
      "   ------------------------------- -------- 18.3/22.9 MB 1.8 MB/s eta 0:00:03\n",
      "   -------------------------------- ------- 18.4/22.9 MB 1.8 MB/s eta 0:00:03\n",
      "   -------------------------------- ------- 18.4/22.9 MB 1.8 MB/s eta 0:00:03\n",
      "   -------------------------------- ------- 18.5/22.9 MB 1.8 MB/s eta 0:00:03\n",
      "   -------------------------------- ------- 18.6/22.9 MB 1.8 MB/s eta 0:00:03\n",
      "   -------------------------------- ------- 18.7/22.9 MB 1.8 MB/s eta 0:00:03\n",
      "   -------------------------------- ------- 18.8/22.9 MB 1.8 MB/s eta 0:00:03\n",
      "   --------------------------------- ------ 18.9/22.9 MB 1.8 MB/s eta 0:00:03\n",
      "   --------------------------------- ------ 19.0/22.9 MB 1.8 MB/s eta 0:00:03\n",
      "   --------------------------------- ------ 19.0/22.9 MB 1.8 MB/s eta 0:00:03\n",
      "   --------------------------------- ------ 19.1/22.9 MB 1.8 MB/s eta 0:00:03\n",
      "   --------------------------------- ------ 19.1/22.9 MB 1.7 MB/s eta 0:00:03\n",
      "   --------------------------------- ------ 19.2/22.9 MB 1.7 MB/s eta 0:00:03\n",
      "   --------------------------------- ------ 19.3/22.9 MB 1.7 MB/s eta 0:00:03\n",
      "   --------------------------------- ------ 19.4/22.9 MB 1.7 MB/s eta 0:00:03\n",
      "   --------------------------------- ------ 19.5/22.9 MB 1.7 MB/s eta 0:00:02\n",
      "   ---------------------------------- ----- 19.6/22.9 MB 1.7 MB/s eta 0:00:02\n",
      "   ---------------------------------- ----- 19.6/22.9 MB 1.7 MB/s eta 0:00:02\n",
      "   ---------------------------------- ----- 19.7/22.9 MB 1.7 MB/s eta 0:00:02\n",
      "   ---------------------------------- ----- 19.8/22.9 MB 1.7 MB/s eta 0:00:02\n",
      "   ---------------------------------- ----- 19.9/22.9 MB 1.7 MB/s eta 0:00:02\n",
      "   ---------------------------------- ----- 20.0/22.9 MB 1.8 MB/s eta 0:00:02\n",
      "   ---------------------------------- ----- 20.0/22.9 MB 1.7 MB/s eta 0:00:02\n",
      "   ----------------------------------- ---- 20.1/22.9 MB 1.7 MB/s eta 0:00:02\n",
      "   ----------------------------------- ---- 20.1/22.9 MB 1.7 MB/s eta 0:00:02\n",
      "   ----------------------------------- ---- 20.2/22.9 MB 1.7 MB/s eta 0:00:02\n",
      "   ----------------------------------- ---- 20.2/22.9 MB 1.7 MB/s eta 0:00:02\n",
      "   ----------------------------------- ---- 20.3/22.9 MB 1.7 MB/s eta 0:00:02\n",
      "   ----------------------------------- ---- 20.3/22.9 MB 1.7 MB/s eta 0:00:02\n",
      "   ----------------------------------- ---- 20.3/22.9 MB 1.7 MB/s eta 0:00:02\n",
      "   ----------------------------------- ---- 20.4/22.9 MB 1.7 MB/s eta 0:00:02\n",
      "   ----------------------------------- ---- 20.4/22.9 MB 1.7 MB/s eta 0:00:02\n",
      "   ----------------------------------- ---- 20.5/22.9 MB 1.7 MB/s eta 0:00:02\n",
      "   ----------------------------------- ---- 20.6/22.9 MB 1.7 MB/s eta 0:00:02\n",
      "   ------------------------------------ --- 20.7/22.9 MB 1.7 MB/s eta 0:00:02\n",
      "   ------------------------------------ --- 20.7/22.9 MB 1.7 MB/s eta 0:00:02\n",
      "   ------------------------------------ --- 20.8/22.9 MB 1.7 MB/s eta 0:00:02\n",
      "   ------------------------------------ --- 20.9/22.9 MB 1.7 MB/s eta 0:00:02\n",
      "   ------------------------------------ --- 21.0/22.9 MB 1.7 MB/s eta 0:00:02\n",
      "   ------------------------------------ --- 21.0/22.9 MB 1.7 MB/s eta 0:00:02\n",
      "   ------------------------------------ --- 21.1/22.9 MB 1.7 MB/s eta 0:00:02\n",
      "   ------------------------------------ --- 21.1/22.9 MB 1.7 MB/s eta 0:00:02\n",
      "   ------------------------------------- -- 21.2/22.9 MB 1.7 MB/s eta 0:00:02\n",
      "   ------------------------------------- -- 21.3/22.9 MB 1.7 MB/s eta 0:00:01\n",
      "   ------------------------------------- -- 21.4/22.9 MB 1.7 MB/s eta 0:00:01\n",
      "   ------------------------------------- -- 21.4/22.9 MB 1.7 MB/s eta 0:00:01\n",
      "   ------------------------------------- -- 21.5/22.9 MB 1.7 MB/s eta 0:00:01\n",
      "   ------------------------------------- -- 21.6/22.9 MB 1.7 MB/s eta 0:00:01\n",
      "   ------------------------------------- -- 21.6/22.9 MB 1.7 MB/s eta 0:00:01\n",
      "   ------------------------------------- -- 21.7/22.9 MB 1.7 MB/s eta 0:00:01\n",
      "   -------------------------------------- - 21.8/22.9 MB 1.7 MB/s eta 0:00:01\n",
      "   -------------------------------------- - 21.9/22.9 MB 1.7 MB/s eta 0:00:01\n",
      "   -------------------------------------- - 21.9/22.9 MB 1.7 MB/s eta 0:00:01\n",
      "   -------------------------------------- - 22.0/22.9 MB 1.7 MB/s eta 0:00:01\n",
      "   -------------------------------------- - 22.0/22.9 MB 1.7 MB/s eta 0:00:01\n",
      "   -------------------------------------- - 22.1/22.9 MB 1.7 MB/s eta 0:00:01\n",
      "   -------------------------------------- - 22.1/22.9 MB 1.7 MB/s eta 0:00:01\n",
      "   -------------------------------------- - 22.2/22.9 MB 1.7 MB/s eta 0:00:01\n",
      "   -------------------------------------- - 22.3/22.9 MB 1.7 MB/s eta 0:00:01\n",
      "   ---------------------------------------  22.4/22.9 MB 1.7 MB/s eta 0:00:01\n",
      "   ---------------------------------------  22.5/22.9 MB 1.7 MB/s eta 0:00:01\n",
      "   ---------------------------------------  22.6/22.9 MB 1.7 MB/s eta 0:00:01\n",
      "   ---------------------------------------  22.7/22.9 MB 1.7 MB/s eta 0:00:01\n",
      "   ---------------------------------------  22.8/22.9 MB 1.7 MB/s eta 0:00:01\n",
      "   ---------------------------------------  22.8/22.9 MB 1.7 MB/s eta 0:00:01\n",
      "   ---------------------------------------  22.8/22.9 MB 1.6 MB/s eta 0:00:01\n",
      "   ---------------------------------------  22.9/22.9 MB 1.6 MB/s eta 0:00:01\n",
      "   ---------------------------------------  22.9/22.9 MB 1.6 MB/s eta 0:00:01\n",
      "   ---------------------------------------  22.9/22.9 MB 1.6 MB/s eta 0:00:01\n",
      "   ---------------------------------------- 22.9/22.9 MB 1.6 MB/s eta 0:00:00\n",
      "Downloading pyproj-3.6.1-cp310-cp310-win_amd64.whl (6.1 MB)\n",
      "   ---------------------------------------- 0.0/6.1 MB ? eta -:--:--\n",
      "   ---------------------------------------- 0.1/6.1 MB 1.7 MB/s eta 0:00:04\n",
      "    --------------------------------------- 0.1/6.1 MB 1.3 MB/s eta 0:00:05\n",
      "   - -------------------------------------- 0.2/6.1 MB 1.1 MB/s eta 0:00:06\n",
      "   - -------------------------------------- 0.2/6.1 MB 1.1 MB/s eta 0:00:06\n",
      "   - -------------------------------------- 0.2/6.1 MB 751.6 kB/s eta 0:00:08\n",
      "   - -------------------------------------- 0.2/6.1 MB 734.2 kB/s eta 0:00:09\n",
      "   - -------------------------------------- 0.3/6.1 MB 830.3 kB/s eta 0:00:08\n",
      "   -- ------------------------------------- 0.3/6.1 MB 912.8 kB/s eta 0:00:07\n",
      "   -- ------------------------------------- 0.4/6.1 MB 958.4 kB/s eta 0:00:06\n",
      "   --- ------------------------------------ 0.5/6.1 MB 1.0 MB/s eta 0:00:06\n",
      "   --- ------------------------------------ 0.5/6.1 MB 1.0 MB/s eta 0:00:06\n",
      "   --- ------------------------------------ 0.6/6.1 MB 1.1 MB/s eta 0:00:05\n",
      "   ---- ----------------------------------- 0.6/6.1 MB 1.0 MB/s eta 0:00:06\n",
      "   ---- ----------------------------------- 0.7/6.1 MB 1.1 MB/s eta 0:00:06\n",
      "   ----- ---------------------------------- 0.8/6.1 MB 1.1 MB/s eta 0:00:05\n",
      "   ----- ---------------------------------- 0.8/6.1 MB 1.1 MB/s eta 0:00:05\n",
      "   ----- ---------------------------------- 0.8/6.1 MB 1.1 MB/s eta 0:00:05\n",
      "   ------ --------------------------------- 0.9/6.1 MB 1.1 MB/s eta 0:00:05\n",
      "   ------ --------------------------------- 1.0/6.1 MB 1.2 MB/s eta 0:00:05\n",
      "   ------ --------------------------------- 1.0/6.1 MB 1.1 MB/s eta 0:00:05\n",
      "   ------- -------------------------------- 1.1/6.1 MB 1.2 MB/s eta 0:00:05\n",
      "   -------- ------------------------------- 1.2/6.1 MB 1.2 MB/s eta 0:00:05\n",
      "   -------- ------------------------------- 1.3/6.1 MB 1.2 MB/s eta 0:00:04\n",
      "   --------- ------------------------------ 1.4/6.1 MB 1.3 MB/s eta 0:00:04\n",
      "   --------- ------------------------------ 1.5/6.1 MB 1.3 MB/s eta 0:00:04\n",
      "   ---------- ----------------------------- 1.5/6.1 MB 1.3 MB/s eta 0:00:04\n",
      "   ---------- ----------------------------- 1.6/6.1 MB 1.3 MB/s eta 0:00:04\n",
      "   ----------- ---------------------------- 1.7/6.1 MB 1.3 MB/s eta 0:00:04\n",
      "   ----------- ---------------------------- 1.8/6.1 MB 1.3 MB/s eta 0:00:04\n",
      "   ----------- ---------------------------- 1.8/6.1 MB 1.3 MB/s eta 0:00:04\n",
      "   ------------ --------------------------- 1.9/6.1 MB 1.3 MB/s eta 0:00:04\n",
      "   ------------ --------------------------- 2.0/6.1 MB 1.3 MB/s eta 0:00:04\n",
      "   ------------- -------------------------- 2.1/6.1 MB 1.4 MB/s eta 0:00:03\n",
      "   ------------- -------------------------- 2.1/6.1 MB 1.3 MB/s eta 0:00:04\n",
      "   -------------- ------------------------- 2.2/6.1 MB 1.3 MB/s eta 0:00:03\n",
      "   -------------- ------------------------- 2.2/6.1 MB 1.3 MB/s eta 0:00:03\n",
      "   -------------- ------------------------- 2.3/6.1 MB 1.3 MB/s eta 0:00:03\n",
      "   --------------- ------------------------ 2.3/6.1 MB 1.3 MB/s eta 0:00:03\n",
      "   --------------- ------------------------ 2.3/6.1 MB 1.3 MB/s eta 0:00:03\n",
      "   --------------- ------------------------ 2.3/6.1 MB 1.3 MB/s eta 0:00:03\n",
      "   --------------- ------------------------ 2.4/6.1 MB 1.3 MB/s eta 0:00:03\n",
      "   ---------------- ----------------------- 2.5/6.1 MB 1.3 MB/s eta 0:00:03\n",
      "   ---------------- ----------------------- 2.6/6.1 MB 1.3 MB/s eta 0:00:03\n",
      "   ----------------- ---------------------- 2.6/6.1 MB 1.3 MB/s eta 0:00:03\n",
      "   ----------------- ---------------------- 2.7/6.1 MB 1.3 MB/s eta 0:00:03\n",
      "   ------------------ --------------------- 2.8/6.1 MB 1.3 MB/s eta 0:00:03\n",
      "   ------------------ --------------------- 2.8/6.1 MB 1.3 MB/s eta 0:00:03\n",
      "   ------------------ --------------------- 2.8/6.1 MB 1.3 MB/s eta 0:00:03\n",
      "   ------------------- -------------------- 2.9/6.1 MB 1.3 MB/s eta 0:00:03\n",
      "   ------------------- -------------------- 2.9/6.1 MB 1.3 MB/s eta 0:00:03\n",
      "   ------------------- -------------------- 3.0/6.1 MB 1.3 MB/s eta 0:00:03\n",
      "   -------------------- ------------------- 3.1/6.1 MB 1.3 MB/s eta 0:00:03\n",
      "   -------------------- ------------------- 3.2/6.1 MB 1.3 MB/s eta 0:00:03\n",
      "   -------------------- ------------------- 3.2/6.1 MB 1.3 MB/s eta 0:00:03\n",
      "   --------------------- ------------------ 3.3/6.1 MB 1.3 MB/s eta 0:00:03\n",
      "   --------------------- ------------------ 3.3/6.1 MB 1.3 MB/s eta 0:00:03\n",
      "   --------------------- ------------------ 3.3/6.1 MB 1.3 MB/s eta 0:00:03\n",
      "   ---------------------- ----------------- 3.4/6.1 MB 1.2 MB/s eta 0:00:03\n",
      "   ---------------------- ----------------- 3.4/6.1 MB 1.2 MB/s eta 0:00:03\n",
      "   ---------------------- ----------------- 3.4/6.1 MB 1.2 MB/s eta 0:00:03\n",
      "   ---------------------- ----------------- 3.4/6.1 MB 1.2 MB/s eta 0:00:03\n",
      "   ---------------------- ----------------- 3.5/6.1 MB 1.2 MB/s eta 0:00:03\n",
      "   ---------------------- ----------------- 3.5/6.1 MB 1.2 MB/s eta 0:00:03\n",
      "   ---------------------- ----------------- 3.5/6.1 MB 1.2 MB/s eta 0:00:03\n",
      "   ---------------------- ----------------- 3.5/6.1 MB 1.2 MB/s eta 0:00:03\n",
      "   ----------------------- ---------------- 3.5/6.1 MB 1.1 MB/s eta 0:00:03\n",
      "   ----------------------- ---------------- 3.6/6.1 MB 1.1 MB/s eta 0:00:03\n",
      "   ----------------------- ---------------- 3.6/6.1 MB 1.1 MB/s eta 0:00:03\n",
      "   ------------------------ --------------- 3.7/6.1 MB 1.1 MB/s eta 0:00:03\n",
      "   ------------------------ --------------- 3.7/6.1 MB 1.1 MB/s eta 0:00:03\n",
      "   ------------------------- -------------- 3.8/6.1 MB 1.2 MB/s eta 0:00:02\n",
      "   ------------------------- -------------- 3.9/6.1 MB 1.2 MB/s eta 0:00:02\n",
      "   -------------------------- ------------- 4.0/6.1 MB 1.2 MB/s eta 0:00:02\n",
      "   -------------------------- ------------- 4.1/6.1 MB 1.2 MB/s eta 0:00:02\n",
      "   --------------------------- ------------ 4.2/6.1 MB 1.2 MB/s eta 0:00:02\n",
      "   --------------------------- ------------ 4.2/6.1 MB 1.2 MB/s eta 0:00:02\n",
      "   --------------------------- ------------ 4.2/6.1 MB 1.2 MB/s eta 0:00:02\n",
      "   ---------------------------- ----------- 4.3/6.1 MB 1.2 MB/s eta 0:00:02\n",
      "   ---------------------------- ----------- 4.4/6.1 MB 1.2 MB/s eta 0:00:02\n",
      "   ----------------------------- ---------- 4.5/6.1 MB 1.2 MB/s eta 0:00:02\n",
      "   ----------------------------- ---------- 4.6/6.1 MB 1.2 MB/s eta 0:00:02\n",
      "   ------------------------------ --------- 4.6/6.1 MB 1.2 MB/s eta 0:00:02\n",
      "   ------------------------------ --------- 4.6/6.1 MB 1.2 MB/s eta 0:00:02\n",
      "   ------------------------------ --------- 4.6/6.1 MB 1.2 MB/s eta 0:00:02\n",
      "   ------------------------------ --------- 4.6/6.1 MB 1.2 MB/s eta 0:00:02\n",
      "   ------------------------------ --------- 4.6/6.1 MB 1.2 MB/s eta 0:00:02\n",
      "   ------------------------------ --------- 4.7/6.1 MB 1.2 MB/s eta 0:00:02\n",
      "   ------------------------------- -------- 4.7/6.1 MB 1.2 MB/s eta 0:00:02\n",
      "   ------------------------------- -------- 4.8/6.1 MB 1.1 MB/s eta 0:00:02\n",
      "   ------------------------------- -------- 4.9/6.1 MB 1.2 MB/s eta 0:00:02\n",
      "   -------------------------------- ------- 4.9/6.1 MB 1.2 MB/s eta 0:00:02\n",
      "   -------------------------------- ------- 5.0/6.1 MB 1.2 MB/s eta 0:00:01\n",
      "   --------------------------------- ------ 5.1/6.1 MB 1.2 MB/s eta 0:00:01\n",
      "   --------------------------------- ------ 5.2/6.1 MB 1.2 MB/s eta 0:00:01\n",
      "   ---------------------------------- ----- 5.2/6.1 MB 1.2 MB/s eta 0:00:01\n",
      "   ---------------------------------- ----- 5.3/6.1 MB 1.2 MB/s eta 0:00:01\n",
      "   ----------------------------------- ---- 5.4/6.1 MB 1.2 MB/s eta 0:00:01\n",
      "   ----------------------------------- ---- 5.4/6.1 MB 1.2 MB/s eta 0:00:01\n",
      "   ----------------------------------- ---- 5.5/6.1 MB 1.2 MB/s eta 0:00:01\n",
      "   ------------------------------------ --- 5.5/6.1 MB 1.2 MB/s eta 0:00:01\n",
      "   ------------------------------------ --- 5.6/6.1 MB 1.2 MB/s eta 0:00:01\n",
      "   ------------------------------------ --- 5.6/6.1 MB 1.2 MB/s eta 0:00:01\n",
      "   ------------------------------------- -- 5.6/6.1 MB 1.2 MB/s eta 0:00:01\n",
      "   ------------------------------------- -- 5.7/6.1 MB 1.2 MB/s eta 0:00:01\n",
      "   ------------------------------------- -- 5.7/6.1 MB 1.2 MB/s eta 0:00:01\n",
      "   -------------------------------------- - 5.8/6.1 MB 1.2 MB/s eta 0:00:01\n",
      "   -------------------------------------- - 5.9/6.1 MB 1.2 MB/s eta 0:00:01\n",
      "   -------------------------------------- - 5.9/6.1 MB 1.2 MB/s eta 0:00:01\n",
      "   ---------------------------------------  6.0/6.1 MB 1.2 MB/s eta 0:00:01\n",
      "   ---------------------------------------  6.0/6.1 MB 1.2 MB/s eta 0:00:01\n",
      "   ---------------------------------------  6.1/6.1 MB 1.2 MB/s eta 0:00:01\n",
      "   ---------------------------------------- 6.1/6.1 MB 1.2 MB/s eta 0:00:00\n",
      "Downloading shapely-2.0.2-cp310-cp310-win_amd64.whl (1.4 MB)\n",
      "   ---------------------------------------- 0.0/1.4 MB ? eta -:--:--\n",
      "   --- ------------------------------------ 0.1/1.4 MB 6.4 MB/s eta 0:00:01\n",
      "   ----- ---------------------------------- 0.2/1.4 MB 2.4 MB/s eta 0:00:01\n",
      "   ------ --------------------------------- 0.2/1.4 MB 1.7 MB/s eta 0:00:01\n",
      "   ------- -------------------------------- 0.3/1.4 MB 1.4 MB/s eta 0:00:01\n",
      "   --------- ------------------------------ 0.3/1.4 MB 1.5 MB/s eta 0:00:01\n",
      "   ---------- ----------------------------- 0.4/1.4 MB 1.5 MB/s eta 0:00:01\n",
      "   ------------ --------------------------- 0.4/1.4 MB 1.4 MB/s eta 0:00:01\n",
      "   ------------- -------------------------- 0.5/1.4 MB 1.4 MB/s eta 0:00:01\n",
      "   ----------------- ---------------------- 0.6/1.4 MB 1.5 MB/s eta 0:00:01\n",
      "   ------------------- -------------------- 0.7/1.4 MB 1.5 MB/s eta 0:00:01\n",
      "   -------------------- ------------------- 0.7/1.4 MB 1.5 MB/s eta 0:00:01\n",
      "   ----------------------- ---------------- 0.8/1.4 MB 1.5 MB/s eta 0:00:01\n",
      "   ------------------------- -------------- 0.9/1.4 MB 1.6 MB/s eta 0:00:01\n",
      "   --------------------------- ------------ 1.0/1.4 MB 1.5 MB/s eta 0:00:01\n",
      "   ---------------------------- ----------- 1.0/1.4 MB 1.5 MB/s eta 0:00:01\n",
      "   ----------------------------- ---------- 1.0/1.4 MB 1.4 MB/s eta 0:00:01\n",
      "   ----------------------------- ---------- 1.0/1.4 MB 1.4 MB/s eta 0:00:01\n",
      "   ------------------------------- -------- 1.1/1.4 MB 1.3 MB/s eta 0:00:01\n",
      "   ------------------------------- -------- 1.1/1.4 MB 1.3 MB/s eta 0:00:01\n",
      "   -------------------------------- ------- 1.2/1.4 MB 1.3 MB/s eta 0:00:01\n",
      "   ---------------------------------- ----- 1.2/1.4 MB 1.3 MB/s eta 0:00:01\n",
      "   ------------------------------------- -- 1.3/1.4 MB 1.3 MB/s eta 0:00:01\n",
      "   ---------------------------------------  1.4/1.4 MB 1.3 MB/s eta 0:00:01\n",
      "   ---------------------------------------  1.4/1.4 MB 1.3 MB/s eta 0:00:01\n",
      "   ---------------------------------------- 1.4/1.4 MB 1.3 MB/s eta 0:00:00\n",
      "Installing collected packages: shapely, pyproj, cligj, click-plugins, fiona, geopandas\n",
      "Successfully installed click-plugins-1.1.1 cligj-0.7.2 fiona-1.9.5 geopandas-0.14.1 pyproj-3.6.1 shapely-2.0.2\n"
     ]
    },
    {
     "name": "stderr",
     "output_type": "stream",
     "text": [
      "\n",
      "[notice] A new release of pip is available: 23.2.1 -> 23.3.1\n",
      "[notice] To update, run: python.exe -m pip install --upgrade pip\n"
     ]
    }
   ],
   "source": [
    "!pip install geopandas matplotlib"
   ]
  },
  {
   "cell_type": "code",
   "execution_count": 187,
   "id": "3845ff82",
   "metadata": {},
   "outputs": [
    {
     "name": "stderr",
     "output_type": "stream",
     "text": [
      "No artists with labels found to put in legend.  Note that artists whose label start with an underscore are ignored when legend() is called with no argument.\n",
      "C:\\Users\\91830\\AppData\\Local\\Temp\\ipykernel_14408\\2029290116.py:18: UserWarning: Geometry is in a geographic CRS. Results from 'centroid' are likely incorrect. Use 'GeoSeries.to_crs()' to re-project geometries to a projected CRS before this operation.\n",
      "\n",
      "  for x, y, label in zip(merged.geometry.centroid.x, merged.geometry.centroid.y, merged['product_category']):\n"
     ]
    },
    {
     "data": {
      "image/png": "[encoded data removed]",
      "text/plain": [
       "<Figure size 1200x1200 with 2 Axes>"
      ]
     },
     "metadata": {},
     "output_type": "display_data"
    }
   ],
   "source": [
    "import geopandas as gpd\n",
    "\n",
    "# Read the GeoJSON file\n",
    "gdf = gpd.read_file(\"ne_10m_admin_1_states_provinces/ne_10m_admin_1_states_provinces.shp\")\n",
    "\n",
    "# Merge GeoDataFrame with DataFrame on state\n",
    "merged = gdf.merge(top_products, left_on='name', right_on='state', how='left')\n",
    "\n",
    "# Plot the map\n",
    "fig, ax = plt.subplots(1, 1, figsize=(12, 12))\n",
    "merged.plot(column='order_quantity', cmap='YlGnBu', linewidth=0.8, ax=ax, edgecolor='0.8', legend=True)\n",
    "\n",
    "# Add legend and title\n",
    "ax.set_title('Top Products in Indian States', fontdict={'fontsize': '15', 'fontweight': '3'})\n",
    "ax.legend(title='Quantity', bbox_to_anchor=(1.05, 1), loc='best')\n",
    "\n",
    "# Add text labels for each state\n",
    "for x, y, label in zip(merged.geometry.centroid.x, merged.geometry.centroid.y, merged['product_category']):\n",
    "    if pd.notna(label):\n",
    "        ax.annotate(label, xy=(x, y), xytext=(3, 3), textcoords=\"offset points\", fontsize=8)\n",
    "\n",
    "\n",
    "# Display the plot\n",
    "plt.show()"
   ]
  },
  {
   "cell_type": "markdown",
   "id": "b79ebc36",
   "metadata": {},
   "source": [
    "#### Average Order Amount by Bussiness vs Customer"
   ]
  },
  {
   "cell_type": "code",
   "execution_count": 190,
   "id": "63a167fb",
   "metadata": {},
   "outputs": [
    {
     "name": "stdout",
     "output_type": "stream",
     "text": [
      "Average order amount by customer type:\n",
      "customer_type\n",
      "business    678.78\n",
      "customer    610.42\n",
      "Name: order_amount, dtype: object\n"
     ]
    }
   ],
   "source": [
    "avg_order_amount_by_customer_type = amazon.groupby('customer_type')['order_amount'].mean()\n",
    "print(\"Average order amount by customer type:\")\n",
    "print(avg_order_amount_by_customer_type.apply(lambda x: \"{:,.2f}\".format(x)))"
   ]
  },
  {
   "cell_type": "markdown",
   "id": "2df9ef7a",
   "metadata": {},
   "source": [
    "## Sale Visuals"
   ]
  },
  {
   "cell_type": "code",
   "execution_count": 198,
   "id": "f80a1c28",
   "metadata": {},
   "outputs": [
    {
     "name": "stderr",
     "output_type": "stream",
     "text": [
      "C:\\Users\\91830\\AppData\\Local\\Temp\\ipykernel_14408\\331815717.py:44: UserWarning: FixedFormatter should only be used together with FixedLocator\n",
      "  ax.set_yticklabels(list(range(0,41,5)))\n"
     ]
    },
    {
     "data": {
      "image/png": "[encoded data removed]",
      "text/plain": [
       "<Figure size 1000x600 with 1 Axes>"
      ]
     },
     "metadata": {},
     "output_type": "display_data"
    }
   ],
   "source": [
    "import matplotlib.ticker as ticker\n",
    "sns.set_style('whitegrid')\n",
    "\n",
    "# Group the data by month and calculate the total sales revenue\n",
    "monthly_sales = amazon.groupby(pd.Grouper(key='date', freq='M')).agg({'order_amount': 'sum'})\n",
    "\n",
    "# Get latest month revenue and average quarterly revenue\n",
    "latest_month_revenue = monthly_sales.tail(1).iloc[0][0]\n",
    "avg_quarterly_revenue = monthly_sales.tail(3).head(3).mean()[0]\n",
    "\n",
    "# Compute percentage below average revenue for quarter\n",
    "pct_below_avg = round((1 - (latest_month_revenue / avg_quarterly_revenue)) * 100, 1)\n",
    "\n",
    "# Plot the monthly sales revenue\n",
    "fig, ax = plt.subplots(figsize=(10, 6))\n",
    "bars = ax.bar(monthly_sales.index.strftime('%b'), monthly_sales['order_amount'], color='#878787')\n",
    "\n",
    "# Add label above each bar with the percentage below the average revenue for the quarter\n",
    "for i, bar in enumerate(bars):\n",
    "    if i == len(bars) - 1 or i < len(bars) - 2:\n",
    "        continue\n",
    "    month_sales = monthly_sales.iloc[i]['order_amount']\n",
    "    pct_below_avg = round((1 - (month_sales / avg_quarterly_revenue)) * 100, 1)\n",
    "    ax.annotate(f'{pct_below_avg}% below avg.', \n",
    "                xy=(bar.get_x() + bar.get_width()/2, bar.get_height()-7000), \n",
    "                xytext=(0, 5), textcoords='offset points',  fontweight='bold', \n",
    "                ha='center', va='bottom', fontsize=14)\n",
    "\n",
    "# Add label above the latest bar with the percentage below the average revenue for the quarter\n",
    "latest_bar = bars[-1]\n",
    "latest_month_sales = latest_bar.get_height()\n",
    "pct_below_avg = round((1 - (latest_month_sales / avg_quarterly_revenue)) * 100, 1)\n",
    "ax.annotate(f'{pct_below_avg}% below avg.', \n",
    "            xy=(latest_bar.get_x() + latest_bar.get_width()/2, latest_bar.get_height()-7000), \n",
    "            xytext=(0, 5), textcoords='offset points',  fontweight='bold',\n",
    "            ha='center', va='bottom', fontsize=14)\n",
    "\n",
    "# Add horizontal line at the average quarterly revenue\n",
    "plt.axhline(avg_quarterly_revenue, linestyle='--', color='orange',linewidth=2, label='Q2 Average Revenue')\n",
    "\n",
    "ax.set_title('Amazon India Net Revenue', fontsize=20, x=.19, y=1.05)\n",
    "ax.text(-.08, 1.02, 'Q2 FY22', fontsize=15, color='#878787', transform=ax.transAxes)\n",
    "ax.set_xlabel(None)\n",
    "ax.set_yticklabels(list(range(0,41,5)))\n",
    "ax.set_ylabel('Net Revenue in 10,000 Rupees', fontsize=12, labelpad=3)\n",
    "\n",
    "ax.yaxis.grid(linestyle='--', color='gray', linewidth=0.5, dashes=(8, 5))\n",
    "ax.xaxis.grid(False)\n",
    "\n",
    "\n",
    "plt.legend(bbox_to_anchor=(1,1.05), fontsize=12, fancybox=True)\n",
    "\n",
    "ax.tick_params(axis='both', labelsize=12)\n",
    "# Remove top and right spines\n",
    "ax.spines['top'].set_visible(False)\n",
    "ax.spines['right'].set_visible(False)\n",
    "ax.spines['left'].set_visible(False)\n",
    "ax.spines['bottom'].set_linewidth(2)\n",
    "ax.spines['bottom'].set_color('black')\n",
    "plt.show()"
   ]
  },
  {
   "cell_type": "markdown",
   "id": "c3d18588",
   "metadata": {},
   "source": [
    "### Top Product Revenues By Months"
   ]
  },
  {
   "cell_type": "code",
   "execution_count": 208,
   "id": "e92442cd",
   "metadata": {},
   "outputs": [
    {
     "data": {
      "image/png": "[encoded data removed]",
      "text/plain": [
       "<Figure size 800x600 with 1 Axes>"
      ]
     },
     "metadata": {},
     "output_type": "display_data"
    }
   ],
   "source": [
    "import warnings\n",
    "warnings.filterwarnings('ignore')\n",
    "\n",
    "fig, ax = plt.subplots(figsize=(8,6))\n",
    "\n",
    "# Define the desired order of months\n",
    "month_order = ['April', 'May', 'June']\n",
    "\n",
    "# Filter the data to only include the four product categories of interest\n",
    "sales_data = amazon[amazon['product_category'].isin(['Western Dress', 'Top', 'kurta', 'Set'])]\n",
    "\n",
    "# Convert the date column to a datetime object\n",
    "sales_data['date'] = pd.to_datetime(sales_data['date'])\n",
    "\n",
    "# Extract the month from the date column and set it as a new column\n",
    "sales_data['month'] = sales_data['date'].dt.month_name()\n",
    "\n",
    "# Aggregate the sales data by month and product category\n",
    "sales_by_month = sales_data.groupby(['month', 'product_category'])['order_amount'].sum().reset_index()\n",
    "\n",
    "# Convert the month column to a categorical data type with the desired order\n",
    "sales_by_month['month'] = pd.Categorical(sales_by_month['month'], categories=month_order, ordered=True)\n",
    "\n",
    "# Plot the sales data using seaborn\n",
    "ax = sns.barplot(x='month', y='order_amount', hue='product_category', data=sales_by_month,\n",
    "                 palette=['#969696', '#bdbdbd', 'orange', '#d9d9d9'])\n",
    "\n",
    "# Extract the sales data for Western Dress\n",
    "sales_wd = sales_by_month[sales_by_month['product_category'] == 'Western Dress'].reset_index(drop=True)\n",
    "sales_wd['month'] = pd.Categorical(sales_wd['month'], categories=month_order, ordered=True)\n",
    "sales_wd.sort_values(by='month',inplace=True)\n",
    "# Add line plot for total monthly revenue of Western Dress\n",
    "ax.plot([0.1,1.1,2.1], sales_wd['order_amount'], color='black', linestyle='--', linewidth=2, marker='o')\n",
    "\n",
    "\n",
    "# Add annotation for percent increase from April to June for Western Dress\n",
    "pct_increase = (sales_wd.loc[1, 'order_amount'] - sales_wd.loc[0, 'order_amount']) / sales_wd.loc[0, 'order_amount'] * 100\n",
    "ax.annotate(\n",
    "            f'{pct_increase:.0f}% increase\\n April to June',\n",
    "            fontweight='bold', \n",
    "            xy=(2.1, sales_wd.loc[2, 'order_amount']),\n",
    "           )\n",
    "\n",
    "\n",
    "# Set the number of y ticks you want\n",
    "num_y_ticks = 10\n",
    "\n",
    "# Calculate the y tick values\n",
    "y_tick_values = np.linspace(ax.get_yticks()[0], ax.get_yticks()[-1], num_y_ticks)\n",
    "\n",
    "# Set the y ticks\n",
    "ax.set_yticks(y_tick_values)\n",
    "\n",
    "\n",
    "# Add title and axis labels\n",
    "ax.set_title('Top Product Revenue by Month', fontsize=20, x=.22, y=1.07)\n",
    "ax.text(-0.09, 1.04, 'Q2 FY22', fontsize=15, color='#878787', transform=ax.transAxes)\n",
    "\n",
    "plt.legend(bbox_to_anchor=(1,1), fontsize=12, framealpha=1)\n",
    "\n",
    "ax.set_xlabel(None)\n",
    "ax.set_ylabel('Net Revenue in 10,000 dollars', fontsize=12, labelpad=3)\n",
    "ax.set_yticklabels(list(range(0,46,5)))\n",
    "ax.yaxis.grid(linestyle='--', color='gray', linewidth=0.5, dashes=(8, 5))\n",
    "\n",
    "ax.tick_params(axis='both', labelsize=12)\n",
    "\n",
    "ax.spines['top'].set_visible(False)\n",
    "ax.spines['right'].set_visible(False)\n",
    "ax.spines['left'].set_visible(False)\n",
    "ax.spines['bottom'].set_linewidth(2)\n",
    "ax.spines['bottom'].set_color('black')\n",
    "\n",
    "\n",
    "# Show the plot\n",
    "plt.show()\n",
    "fig.savefig('Avg_MOV.png', dpi=300)\n",
    "warnings.filterwarnings('default')  # Re-enable the warnings"
   ]
  },
  {
   "cell_type": "markdown",
   "id": "a423e260",
   "metadata": {},
   "source": [
    "## Product Category based on Net Revenue"
   ]
  },
  {
   "cell_type": "code",
   "execution_count": 209,
   "id": "c6112af1",
   "metadata": {},
   "outputs": [
    {
     "data": {
      "image/png": "[encoded data removed]",
      "text/plain": [
       "<Figure size 1200x800 with 1 Axes>"
      ]
     },
     "metadata": {},
     "output_type": "display_data"
    }
   ],
   "source": [
    "# Group the data by product category and calculate the total sales\n",
    "sales_by_category = amazon.groupby('product_category')['order_amount'].sum()\n",
    "\n",
    "# Filter the categories to include\n",
    "included_categories = ['Set', 'kurta', 'Western Dress', 'Top', 'Ethnic Dress', 'Blouse']\n",
    "sales_by_category = sales_by_category.loc[included_categories]\n",
    "\n",
    "# Calculate the total revenue\n",
    "total_revenue = sales_by_category.sum()\n",
    "\n",
    "# Calculate the percentage of total revenue for each category\n",
    "sales_by_category_pct = (sales_by_category / total_revenue) * 100\n",
    "\n",
    "# Sort the categories by total sales\n",
    "sales_by_category_pct = sales_by_category_pct.sort_values(ascending=False)\n",
    "\n",
    "# Create a bar chart to show the sales by product category\n",
    "fig, ax = plt.subplots(figsize=(12,8))\n",
    "palette_colors = ['orange' if cat in ['Set', 'Western Dress'] else '#878787' for cat in sales_by_category_pct.index]\n",
    "sns.barplot(x=sales_by_category_pct.index, y=sales_by_category_pct.values, ax=ax, palette=palette_colors)\n",
    "\n",
    "# Set font sizes for x and y labels, title, and ticks\n",
    "# Set the number of y ticks you want\n",
    "num_y_ticks = 10\n",
    "\n",
    "# Calculate the y tick values\n",
    "y_tick_values = list(range(0,101,10))#np.linspace(ax.get_yticks()[0], ax.get_yticks()[-1], num_y_ticks)\n",
    "\n",
    "# Set the y ticks\n",
    "ax.set_yticks(y_tick_values)\n",
    "\n",
    "ax.set_ylabel('Percentage of Total Revenue', labelpad=1)\n",
    "ax.set_ylim(0, 100)\n",
    "ax.set_xlabel('Product Category', labelpad=5)\n",
    "ax.set_title('Percentage of Product Category for Net Revenue', fontsize=20, x=0.255, y=1.05, pad=10)\n",
    "ax.text(-.07, 1.04, 'Average Cost per Product Displayed', fontsize=15, color='#878787', transform=ax.transAxes)\n",
    "ax.tick_params(axis='both', labelsize=12)\n",
    "#ax.set_yticklabels(list(range(0,101,10)))\n",
    "ax.yaxis.grid(linestyle='--', color='gray', linewidth=0.5, dashes=(8, 5))\n",
    "ax.xaxis.grid(False)\n",
    "\n",
    "# Set font sizes for the bars and add annotations for Set, kurta, and Western Dress\n",
    "for i, category in enumerate(sales_by_category_pct.index):\n",
    "    avg_cost = amazon[amazon['product_category'] == category]['order_amount'].mean()\n",
    "    if category in ['Set', 'Western Dress']:\n",
    "        ax.text(i, sales_by_category_pct.values[i] +.1, f'${avg_cost:.2f}', ha='center', fontsize=18, fontweight='bold')\n",
    "    else:\n",
    "        ax.text(i, sales_by_category_pct.values[i] +.1, f'${avg_cost:.2f}', ha='center', fontsize=13)\n",
    "\n",
    "\n",
    "# Add a callout to emphasize the importance of western dresses for diversifying revenue\n",
    "western_sales = sales_by_category_pct['Western Dress']\n",
    "western_index = sales_by_category_pct.index.get_loc('Western Dress')\n",
    "\n",
    "# Define the callout box properties\n",
    "bbox_props = dict(boxstyle='round', facecolor='white', edgecolor='black', alpha=1)\n",
    "arrow_props = dict(facecolor='black', arrowstyle='wedge', alpha=0.5)\n",
    "\n",
    "# Set the position of the callout box\n",
    "x_pos = western_index\n",
    "y_pos = western_sales + 2\n",
    "x_text = x_pos + 0.5\n",
    "y_text = y_pos - 8\n",
    "\n",
    "# Calculate the percentage of revenue from western dresses\n",
    "western_pct = (western_sales / total_revenue) * 100\n",
    "\n",
    "# Add the callout box to the plot\n",
    "ax.annotate('With their high price point and strong sales performance,\\nwestern dresses are a key driver of our revenue.\\nBy prioritizing the sale of these products,\\nwe can build a more resilient and diversified business.', xy=(x_pos, y_pos+2), xytext=(x_text+1, y_text+35), fontsize=14,\n",
    "arrowprops=arrow_props, bbox=bbox_props, ha='center', va='center')\n",
    "\n",
    "\n",
    "# Remove top and right spines\n",
    "ax.spines['top'].set_visible(False)\n",
    "ax.spines['right'].set_visible(False)\n",
    "ax.spines['left'].set_visible(False)\n",
    "ax.spines['bottom'].set_linewidth(2)\n",
    "ax.spines['bottom'].set_color('black')\n",
    "plt.show()\n",
    "fig.savefig('Percent_Prod_Revenuw.png', dpi=300)"
   ]
  },
  {
   "cell_type": "markdown",
   "id": "1d08325a",
   "metadata": {},
   "source": [
    "## Sales by Product Size"
   ]
  },
  {
   "cell_type": "code",
   "execution_count": 225,
   "id": "7f0f9009",
   "metadata": {},
   "outputs": [
    {
     "data": {
      "text/plain": [
       "['M', 'L', 'XL']"
      ]
     },
     "execution_count": 225,
     "metadata": {},
     "output_type": "execute_result"
    }
   ],
   "source": [
    "list(sales_by_size.nlargest(3).reset_index()[\"size\"])"
   ]
  },
  {
   "cell_type": "code",
   "execution_count": 223,
   "id": "7c91a868",
   "metadata": {},
   "outputs": [
    {
     "data": {
      "text/html": [
       "<div>\n",
       "<style scoped>\n",
       "    .dataframe tbody tr th:only-of-type {\n",
       "        vertical-align: middle;\n",
       "    }\n",
       "\n",
       "    .dataframe tbody tr th {\n",
       "        vertical-align: top;\n",
       "    }\n",
       "\n",
       "    .dataframe thead th {\n",
       "        text-align: right;\n",
       "    }\n",
       "</style>\n",
       "<table border=\"1\" class=\"dataframe\">\n",
       "  <thead>\n",
       "    <tr style=\"text-align: right;\">\n",
       "      <th></th>\n",
       "      <th>size</th>\n",
       "      <th>order_amount</th>\n",
       "    </tr>\n",
       "  </thead>\n",
       "  <tbody>\n",
       "    <tr>\n",
       "      <th>0</th>\n",
       "      <td>3XL</td>\n",
       "      <td>9168692.68</td>\n",
       "    </tr>\n",
       "    <tr>\n",
       "      <th>1</th>\n",
       "      <td>4XL</td>\n",
       "      <td>334451.64</td>\n",
       "    </tr>\n",
       "    <tr>\n",
       "      <th>2</th>\n",
       "      <td>5XL</td>\n",
       "      <td>425701.63</td>\n",
       "    </tr>\n",
       "    <tr>\n",
       "      <th>3</th>\n",
       "      <td>6XL</td>\n",
       "      <td>576627.33</td>\n",
       "    </tr>\n",
       "    <tr>\n",
       "      <th>4</th>\n",
       "      <td>Free</td>\n",
       "      <td>214692.77</td>\n",
       "    </tr>\n",
       "    <tr>\n",
       "      <th>5</th>\n",
       "      <td>L</td>\n",
       "      <td>13252315.29</td>\n",
       "    </tr>\n",
       "    <tr>\n",
       "      <th>6</th>\n",
       "      <td>M</td>\n",
       "      <td>13911649.42</td>\n",
       "    </tr>\n",
       "    <tr>\n",
       "      <th>7</th>\n",
       "      <td>S</td>\n",
       "      <td>10635793.18</td>\n",
       "    </tr>\n",
       "    <tr>\n",
       "      <th>8</th>\n",
       "      <td>XL</td>\n",
       "      <td>12472905.86</td>\n",
       "    </tr>\n",
       "    <tr>\n",
       "      <th>9</th>\n",
       "      <td>XS</td>\n",
       "      <td>7030220.20</td>\n",
       "    </tr>\n",
       "    <tr>\n",
       "      <th>10</th>\n",
       "      <td>XXL</td>\n",
       "      <td>10657022.45</td>\n",
       "    </tr>\n",
       "  </tbody>\n",
       "</table>\n",
       "</div>"
      ],
      "text/plain": [
       "    size  order_amount\n",
       "0    3XL    9168692.68\n",
       "1    4XL     334451.64\n",
       "2    5XL     425701.63\n",
       "3    6XL     576627.33\n",
       "4   Free     214692.77\n",
       "5      L   13252315.29\n",
       "6      M   13911649.42\n",
       "7      S   10635793.18\n",
       "8     XL   12472905.86\n",
       "9     XS    7030220.20\n",
       "10   XXL   10657022.45"
      ]
     },
     "execution_count": 223,
     "metadata": {},
     "output_type": "execute_result"
    }
   ],
   "source": [
    "sales_by_size.reset_index()"
   ]
  },
  {
   "cell_type": "code",
   "execution_count": 226,
   "id": "5bd4abdf",
   "metadata": {},
   "outputs": [
    {
     "name": "stderr",
     "output_type": "stream",
     "text": [
      "C:\\Users\\91830\\AppData\\Local\\Temp\\ipykernel_14408\\4152111677.py:17: UserWarning: FixedFormatter should only be used together with FixedLocator\n",
      "  ax.set_yticklabels(list(range(0,20,2)))\n"
     ]
    },
    {
     "data": {
      "image/png": "[encoded data removed]",
      "text/plain": [
       "<Figure size 1200x600 with 1 Axes>"
      ]
     },
     "metadata": {},
     "output_type": "display_data"
    }
   ],
   "source": [
    "# Group the data by product size and calculate the total sales\n",
    "sales_by_size = amazon.groupby('size')['order_amount'].sum()\n",
    "\n",
    "# Create a horizontal bar chart to show the sales by product size\n",
    "fig, ax = plt.subplots(figsize=(12,6))\n",
    "\n",
    "top_3 = list(sales_by_size.nlargest(3).reset_index()[\"size\"])\n",
    "\n",
    "# Use a color palette to highlight specific sizes\n",
    "palette_colors = ['orange' if size in top_3 else '#878787' for size in sales_by_size.index]\n",
    "sns.barplot(x=sales_by_size.index, y=sales_by_size.values, ax=ax, palette=palette_colors)\n",
    "\n",
    "\n",
    "# Set font sizes for x and y labels, title, and ticks\n",
    "ax.set_xlabel('Product Size', labelpad=3, fontsize=14)\n",
    "ax.set_ylabel('Net Revenue in 10,000 Rupees', labelpad=3, fontsize=14)\n",
    "ax.set_yticklabels(list(range(0,20,2)))\n",
    "ax.set_title('Sales by Product Size', fontsize=20, x=0.085, y=1.05, pad=10)\n",
    "ax.text(-0.06, 1.04, 'Q2 FY22', fontsize=15, color='#878787', transform=ax.transAxes)\n",
    "#ax.set_title('Top Product Revenue by Month', fontsize=20, x=.22, y=1.07)\n",
    "\n",
    "\n",
    "ax.tick_params(axis='both', labelsize=12)\n",
    "ax.yaxis.grid(linestyle='--', color='gray', linewidth=0.5, dashes=(8, 5))\n",
    "ax.xaxis.grid(False)\n",
    "\n",
    "\n",
    "# Set the number of y ticks you want\n",
    "num_y_ticks = 10\n",
    "\n",
    "# Calculate the y tick values\n",
    "y_tick_values = np.linspace(ax.get_yticks()[0], ax.get_yticks()[-1], num_y_ticks)\n",
    "\n",
    "# Set the y ticks\n",
    "ax.set_yticks(y_tick_values)\n",
    "\n",
    "# Set font sizes for the bars and add annotations for S, M, and L sizes\n",
    "for i, size in enumerate(sales_by_size.index):\n",
    "    if size in top_3:\n",
    "        ax.text(i, sales_by_size.values[i], f'{sales_by_size.values[i]/10000:.0f}k', ha='center', fontsize=14, fontweight='bold', color='black')\n",
    "\n",
    "\n",
    "# Remove top and right spines\n",
    "ax.spines['top'].set_visible(False)\n",
    "ax.spines['right'].set_visible(False)\n",
    "ax.spines['left'].set_visible(False)\n",
    "ax.spines['bottom'].set_linewidth(2)\n",
    "ax.spines['bottom'].set_color('black')\n",
    "\n",
    "plt.show()\n",
    "fig.savefig('Sales_Prod_Size.png', dpi=300)"
   ]
  },
  {
   "cell_type": "markdown",
   "id": "8b704865",
   "metadata": {},
   "source": [
    "### Introduction to NumPy:"
   ]
  },
  {
   "cell_type": "markdown",
   "id": "ad8eada9",
   "metadata": {},
   "source": [
    "## NumPy Basics:\n",
    "\n",
    "#### Fundamental Concepts of NumPy Arrays: <br>\n",
    "NumPy provides a powerful array object, <code>numpy.ndarray</code>, which is efficient for numerical operations. Key concepts include:\n",
    "\n",
    "#### Arrays:\n",
    "\n",
    "Arrays are similar to Python lists but more efficient for numerical operations.<br>\n",
    "They can be one-dimensional (vectors), two-dimensional (matrices), or multidimensional.<br>\n",
    "#### Data Types:\n",
    "\n",
    "NumPy arrays have a fixed data type, which allows for efficient memory usage.<br>\n",
    "Common data types include integers (int), floating-point numbers (float), and more.<br>"
   ]
  },
  {
   "cell_type": "code",
   "execution_count": 236,
   "id": "f7b587da",
   "metadata": {},
   "outputs": [
    {
     "name": "stdout",
     "output_type": "stream",
     "text": [
      "1D Array\n",
      "[1 2 3 4 5]\n",
      "2D Array\n",
      "[[1 2 3]\n",
      " [4 5 6]]\n",
      "Reshape Matrix\n",
      "[[1 2]\n",
      " [3 4]\n",
      " [5 6]]\n",
      "Transpose Matrix\n",
      "[[1 3 5]\n",
      " [2 4 6]]\n",
      "sum of Array 15 mean of array 3.0\n"
     ]
    }
   ],
   "source": [
    "# Example in Python using NumPy\n",
    "import numpy as np\n",
    "\n",
    "# Creating a NumPy array\n",
    "arr = np.array([1, 2, 3, 4, 5])\n",
    "print(\"1D Array\")\n",
    "print(arr)\n",
    "\n",
    "# Creating a 2D array\n",
    "matrix = np.array([[1, 2, 3], [4, 5, 6]])\n",
    "print(\"2D Array\")\n",
    "print(matrix)\n",
    "\n",
    "# Array manipulation\n",
    "reshaped_matrix = matrix.reshape((3, 2))\n",
    "print(\"Reshape Matrix\")\n",
    "print(reshaped_matrix)\n",
    "print(\"Transpose Matrix\")\n",
    "print(reshaped_matrix.T)\n",
    "\n",
    "# Basic operations\n",
    "sum_arr = arr.sum()\n",
    "mean_arr = arr.mean()\n",
    "\n",
    "print(\"sum of Array\",sum_arr, \"mean of array\", mean_arr)"
   ]
  },
  {
   "cell_type": "code",
   "execution_count": 237,
   "id": "7e96a73d",
   "metadata": {},
   "outputs": [
    {
     "name": "stdout",
     "output_type": "stream",
     "text": [
      "ADD Two Arrays\n",
      "[5 7 9]\n",
      "Multiply Two Arrays\n",
      "[ 4 10 18]\n"
     ]
    }
   ],
   "source": [
    "# Mathematical operations\n",
    "arr1 = np.array([1, 2, 3])\n",
    "arr2 = np.array([4, 5, 6])\n",
    "\n",
    "# Element-wise addition\n",
    "result_addition = arr1 + arr2\n",
    "print(\"ADD Two Arrays\")\n",
    "print(result_addition)\n",
    "\n",
    "# Element-wise multiplication\n",
    "result_multiplication = arr1 * arr2\n",
    "print(\"Multiply Two Arrays\")\n",
    "print(result_multiplication)"
   ]
  },
  {
   "cell_type": "code",
   "execution_count": 248,
   "id": "c0733bcb",
   "metadata": {},
   "outputs": [
    {
     "name": "stdout",
     "output_type": "stream",
     "text": [
      "Numpy Broadcasting\n",
      "[[ 2  4  6]\n",
      " [ 8 10 90]]\n"
     ]
    }
   ],
   "source": [
    "# Broadcasting\n",
    "arr = np.array([[1, 2, 3], [4, 5, 45]])\n",
    "scalar = 2\n",
    "\n",
    "# Broadcasting the scalar to each element\n",
    "result_broadcasting = arr * scalar\n",
    "print(\"Numpy Broadcasting\")\n",
    "print(result_broadcasting)"
   ]
  },
  {
   "cell_type": "code",
   "execution_count": 258,
   "id": "a92acac3",
   "metadata": {},
   "outputs": [
    {
     "name": "stdout",
     "output_type": "stream",
     "text": [
      "0 degrees: sin = 0.0000, cos = 1.0000, tan = 0.0000\n",
      "30 degrees: sin = 0.5000, cos = 0.8660, tan = 0.5774\n",
      "45 degrees: sin = 0.7071, cos = 0.7071, tan = 1.0000\n",
      "60 degrees: sin = 0.8660, cos = 0.5000, tan = 1.7321\n",
      "90 degrees: sin = 1.0000, cos = 0.0000, tan = 16331239353195370.0000\n"
     ]
    }
   ],
   "source": [
    "# Define angles in degrees\n",
    "angles_degrees = np.array([0, 30, 45, 60, 90])\n",
    "\n",
    "# Convert degrees to radians\n",
    "angles_radians = np.radians(angles_degrees)\n",
    "\n",
    "# Calculate sine and cosine\n",
    "sine_values = np.sin(angles_radians)\n",
    "cosine_values = np.cos(angles_radians)\n",
    "tan_values = np.tan(angles_radians)\n",
    "\n",
    "# Display the results\n",
    "for degree, sine, cosine, tan in zip(angles_degrees, sine_values, cosine_values, tan_values):\n",
    "    print(f\"{degree} degrees: sin = {sine:.4f}, cos = {cosine:.4f}, tan = {tan:.4f}\")"
   ]
  },
  {
   "cell_type": "code",
   "execution_count": null,
   "id": "240f2aa2",
   "metadata": {},
   "outputs": [],
   "source": []
  }
 ],
 "metadata": {
  "kernelspec": {
   "display_name": "Python 3 (ipykernel)",
   "language": "python",
   "name": "python3"
  },
  "language_info": {
   "codemirror_mode": {
    "name": "ipython",
    "version": 3
   },
   "file_extension": ".py",
   "mimetype": "text/x-python",
   "name": "python",
   "nbconvert_exporter": "python",
   "pygments_lexer": "ipython3",
   "version": "3.10.9"
  }
 },
 "nbformat": 4,
 "nbformat_minor": 5
}
