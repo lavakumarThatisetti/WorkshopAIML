{
 "cells": [
  {
   "cell_type": "markdown",
   "id": "8fbdc522",
   "metadata": {},
   "source": [
    "## Introduction to Machine Learning:\n",
    "\n",
    "#### Define Machine Learning and its Applications:\n",
    "\n",
    "**Machine Learning:**\n",
    "Machine learning is a subset of artificial intelligence (AI) that focuses on the development of algorithms and models that enable computers to learn patterns and make predictions or decisions without being explicitly programmed. It involves the use of data to improve the performance of a system over time.\n",
    "\n",
    "**Applications of Machine Learning:**\n",
    "- **Image and Speech Recognition:** Machine learning is used in systems that can recognize and interpret images and speech, such as facial recognition and voice assistants.\n",
    "  \n",
    "- **Recommendation Systems:** Platforms like Netflix and Amazon use machine learning to suggest movies, products, or content based on user preferences.\n",
    "\n",
    "- **Predictive Analytics:** Businesses leverage machine learning for predicting outcomes, such as stock prices, customer behavior, or equipment failure.\n",
    "\n",
    "- **Healthcare Diagnostics:** Machine learning models are employed for medical diagnosis, analyzing medical images, and predicting disease outcomes.\n",
    "\n",
    "- **Autonomous Vehicles:** Machine learning plays a crucial role in developing algorithms for self-driving cars to recognize and respond to various driving conditions."
   ]
  },
  {
   "cell_type": "markdown",
   "id": "68bd68f5",
   "metadata": {},
   "source": [
    "## Types of Machine Learning:\n",
    "\n",
    "### Supervised Learning:\n",
    "\n",
    "**Supervised Learning:**\n",
    "In supervised learning, the algorithm is trained on a labeled dataset, where the input data is paired with corresponding output labels. The goal is for the algorithm to learn the mapping from inputs to outputs, allowing it to make predictions on new, unseen data.\n",
    "\n",
    "**Classification:**\n",
    "Imagine a spam filter for emails. The algorithm is trained on a dataset of emails labeled as either \"spam\" or \"not spam.\" The model learns to classify new, unseen emails into one of these categories.\n",
    "\n",
    "**Regression:**\n",
    "Predicting the price of a house based on features like square footage, number of bedrooms, and location is an example of regression. The algorithm is trained on historical data with house prices.\n",
    "\n",
    "### Supervised Learning:\n",
    "In unsupervised learning, the algorithm is given unlabeled data and tasked with finding patterns or relationships within the data. It doesn't have predefined output labels, and the goal is often to discover the inherent structure or clusters in the data.\n",
    "\n",
    "**Example of Unsupervised Learning - Clustering:**\n",
    "Consider a dataset of customer purchasing behavior. An unsupervised learning algorithm could identify clusters of customers with similar buying patterns, helping businesses target specific market segments.\n",
    "\n",
    "**Example of Unsupervised Learning - Dimensionality Reduction:**\n",
    "Reducing the number of features in a dataset while retaining important information is another unsupervised learning task. This can be beneficial for visualization or simplifying subsequent analyses.\n",
    "\n",
    "Understanding these concepts provides a foundational understanding of the two major types of machine learning and their applications in solving diverse real-world problems."
   ]
  },
  {
   "cell_type": "markdown",
   "id": "7d676fd4",
   "metadata": {},
   "source": [
    "## Core Concepts of Machine Learning:\n",
    "\n",
    "\n",
    "### Training and Testing Data:\n",
    "\n",
    "#### Importance of Splitting Data:\n",
    "\n",
    "**Explanation:**\n",
    "- When building a machine learning model, it's crucial to evaluate its performance on data it has never seen before. \n",
    "- The dataset is typically divided into two subsets: the **training set** and the **testing set**.\n",
    "- The model is trained on the training set and then evaluated on the testing set to assess its generalization to new, unseen data.\n",
    "\n",
    "**Example:**\n",
    "Consider a dataset of housing prices. You split the data into a training set (used to train the model) and a testing set (used to evaluate the model). This ensures that the model doesn't memorize the training data but can make accurate predictions on new houses.\n",
    "\n",
    "#### Overfitting and Underfitting:\n",
    "\n",
    "**Explanation:**\n",
    "- **Overfitting:** Occurs when a model is too complex, capturing noise in the training data rather than the underlying patterns. It performs well on the training set but poorly on new data.\n",
    "  \n",
    "- **Underfitting:** Occurs when a model is too simple to capture the underlying patterns in the data. It performs poorly on both the training and testing sets.\n",
    "\n",
    "**Example:**\n",
    "For a polynomial regression model, if you use an excessively high-degree polynomial, it may fit the training data perfectly but fail to generalize to new data (overfitting). On the other hand, using a linear model for a complex, nonlinear relationship may result in underfitting."
   ]
  },
  {
   "cell_type": "markdown",
   "id": "0bae2374",
   "metadata": {},
   "source": [
    "## Feature Engineering:\n",
    "\n",
    "#### Introducing Feature Selection and Feature Scaling:\n",
    "\n",
    "**Feature Selection:**\n",
    "- **Explanation:** Involves choosing the most relevant features for the model. Irrelevant or redundant features can negatively impact model performance and increase training time.\n",
    "\n",
    "- **Example:** In a dataset predicting housing prices, features like the number of bedrooms and location may be crucial, while features like the house's color might be less informative. Feature selection helps identify and retain important features.\n",
    "\n",
    "**Feature Scaling:**\n",
    "- **Explanation:** Many machine learning algorithms are sensitive to the scale of features. Feature scaling ensures that all features contribute equally to the model by bringing them to a similar scale.\n",
    "\n",
    "- **Example:** In a dataset with features like age (ranging from 0 to 100) and income (ranging from 20,000 to 200,000), feature scaling, such as standardization or normalization, helps balance the impact of each feature on the model.\n",
    "\n",
    "#### Impact of Feature Engineering on Model Performance:\n",
    "\n",
    "**Explanation:**\n",
    "- Well-selected and scaled features can lead to better model performance, faster training times, and improved interpretability.\n",
    "\n",
    "**Example:**\n",
    "In a classification task predicting whether an email is spam or not, feature engineering might involve analyzing the length of the email, the frequency of certain words, and whether it contains attachments. Properly engineered features enhance the model's ability to discern between spam and non-spam emails.\n",
    "\n",
    "Understanding these core concepts is essential for building effective machine learning models that generalize well to new, unseen data.   "
   ]
  },
  {
   "cell_type": "code",
   "execution_count": 66,
   "id": "1dbb70e2",
   "metadata": {},
   "outputs": [],
   "source": [
    "import warnings\n",
    "\n",
    "# Disable all warnings\n",
    "warnings.filterwarnings(\"ignore\")\n"
   ]
  },
  {
   "cell_type": "markdown",
   "id": "f3d32d58",
   "metadata": {},
   "source": [
    "### Logistic Regression:\n",
    "\n",
    "5. **Introduction to Logistic Regression:**\n",
    "   - Explain the logistic regression algorithm.\n",
    "   - Showcase its application in binary classification problems.\n",
    "\n",
    "6. **Logistic Regression in Python:**\n",
    "   - Provide a hands-on demonstration of implementing logistic regression using a dataset.\n",
    "   - Discuss model evaluation metrics (accuracy, precision, recall, F1 score)."
   ]
  },
  {
   "cell_type": "markdown",
   "id": "dbb95212",
   "metadata": {},
   "source": [
    "#### Algorithm Explanation:\n",
    "\n",
    "1. Logistic Regression is a supervised learning algorithm used for binary classification problems.\n",
    "2. It models the probability that an instance belongs to a particular class.\n",
    "3. The logistic function (sigmoid function) is used to map predicted values to probabilities between 0 and 1."
   ]
  },
  {
   "cell_type": "markdown",
   "id": "13eb67de",
   "metadata": {},
   "source": [
    "**Mathematical Formula:**<br> <br>\n",
    "The logistic function is defined as:\n",
    "$$ f{(x)} = \\frac{1}{1+e^{-x}}\\ $$"
   ]
  },
  {
   "cell_type": "markdown",
   "id": "7a18f50d",
   "metadata": {},
   "source": [
    "In logistic regression, the model is represented as:\n",
    "$$ P{(Y=1∣X)} = \\frac{1}{1+e^{-(b_0 + b_1X_1 + ... + b_nX_n)}}\\ $$"
   ]
  },
  {
   "cell_type": "markdown",
   "id": "21abdeab",
   "metadata": {},
   "source": [
    "Here:<br>\n",
    "$P{(Y=1∣X)}$ is the probability of the positive class<br>\n",
    "${X_1, X_2, ..., X_n} $ are the features.<br>\n",
    "${b_0, b_1, ..., b_n}$ are the coefficients to be learned.<br>\n"
   ]
  },
  {
   "cell_type": "code",
   "execution_count": null,
   "id": "6c5d93f8",
   "metadata": {},
   "outputs": [],
   "source": [
    "## Install Pakcages\n",
    "!pip install sklearn"
   ]
  },
  {
   "cell_type": "code",
   "execution_count": 19,
   "id": "fc1f211a",
   "metadata": {},
   "outputs": [],
   "source": [
    "import numpy as np\n",
    "import matplotlib.pyplot as plt\n",
    "import pandas as pd\n",
    "import seaborn as sns\n",
    "from sklearn.model_selection import train_test_split\n",
    "from sklearn.preprocessing import LabelEncoder\n",
    "from sklearn.linear_model import LogisticRegression\n",
    "from sklearn.metrics import accuracy_score, precision_score, recall_score, f1_score, confusion_matrix"
   ]
  },
  {
   "cell_type": "code",
   "execution_count": 2,
   "id": "46c5d314",
   "metadata": {},
   "outputs": [],
   "source": [
    "# Load the Iris dataset\n",
    "iris = pd.read_csv(\"Iris.csv\") #load the dataset"
   ]
  },
  {
   "cell_type": "code",
   "execution_count": 5,
   "id": "f721017a",
   "metadata": {},
   "outputs": [
    {
     "data": {
      "text/html": [
       "<div>\n",
       "<style scoped>\n",
       "    .dataframe tbody tr th:only-of-type {\n",
       "        vertical-align: middle;\n",
       "    }\n",
       "\n",
       "    .dataframe tbody tr th {\n",
       "        vertical-align: top;\n",
       "    }\n",
       "\n",
       "    .dataframe thead th {\n",
       "        text-align: right;\n",
       "    }\n",
       "</style>\n",
       "<table border=\"1\" class=\"dataframe\">\n",
       "  <thead>\n",
       "    <tr style=\"text-align: right;\">\n",
       "      <th></th>\n",
       "      <th>Id</th>\n",
       "      <th>SepalLengthCm</th>\n",
       "      <th>SepalWidthCm</th>\n",
       "      <th>PetalLengthCm</th>\n",
       "      <th>PetalWidthCm</th>\n",
       "      <th>Species</th>\n",
       "    </tr>\n",
       "  </thead>\n",
       "  <tbody>\n",
       "    <tr>\n",
       "      <th>130</th>\n",
       "      <td>131</td>\n",
       "      <td>7.4</td>\n",
       "      <td>2.8</td>\n",
       "      <td>6.1</td>\n",
       "      <td>1.9</td>\n",
       "      <td>Iris-virginica</td>\n",
       "    </tr>\n",
       "    <tr>\n",
       "      <th>131</th>\n",
       "      <td>132</td>\n",
       "      <td>7.9</td>\n",
       "      <td>3.8</td>\n",
       "      <td>6.4</td>\n",
       "      <td>2.0</td>\n",
       "      <td>Iris-virginica</td>\n",
       "    </tr>\n",
       "    <tr>\n",
       "      <th>132</th>\n",
       "      <td>133</td>\n",
       "      <td>6.4</td>\n",
       "      <td>2.8</td>\n",
       "      <td>5.6</td>\n",
       "      <td>2.2</td>\n",
       "      <td>Iris-virginica</td>\n",
       "    </tr>\n",
       "    <tr>\n",
       "      <th>133</th>\n",
       "      <td>134</td>\n",
       "      <td>6.3</td>\n",
       "      <td>2.8</td>\n",
       "      <td>5.1</td>\n",
       "      <td>1.5</td>\n",
       "      <td>Iris-virginica</td>\n",
       "    </tr>\n",
       "    <tr>\n",
       "      <th>134</th>\n",
       "      <td>135</td>\n",
       "      <td>6.1</td>\n",
       "      <td>2.6</td>\n",
       "      <td>5.6</td>\n",
       "      <td>1.4</td>\n",
       "      <td>Iris-virginica</td>\n",
       "    </tr>\n",
       "    <tr>\n",
       "      <th>135</th>\n",
       "      <td>136</td>\n",
       "      <td>7.7</td>\n",
       "      <td>3.0</td>\n",
       "      <td>6.1</td>\n",
       "      <td>2.3</td>\n",
       "      <td>Iris-virginica</td>\n",
       "    </tr>\n",
       "    <tr>\n",
       "      <th>136</th>\n",
       "      <td>137</td>\n",
       "      <td>6.3</td>\n",
       "      <td>3.4</td>\n",
       "      <td>5.6</td>\n",
       "      <td>2.4</td>\n",
       "      <td>Iris-virginica</td>\n",
       "    </tr>\n",
       "    <tr>\n",
       "      <th>137</th>\n",
       "      <td>138</td>\n",
       "      <td>6.4</td>\n",
       "      <td>3.1</td>\n",
       "      <td>5.5</td>\n",
       "      <td>1.8</td>\n",
       "      <td>Iris-virginica</td>\n",
       "    </tr>\n",
       "    <tr>\n",
       "      <th>138</th>\n",
       "      <td>139</td>\n",
       "      <td>6.0</td>\n",
       "      <td>3.0</td>\n",
       "      <td>4.8</td>\n",
       "      <td>1.8</td>\n",
       "      <td>Iris-virginica</td>\n",
       "    </tr>\n",
       "    <tr>\n",
       "      <th>139</th>\n",
       "      <td>140</td>\n",
       "      <td>6.9</td>\n",
       "      <td>3.1</td>\n",
       "      <td>5.4</td>\n",
       "      <td>2.1</td>\n",
       "      <td>Iris-virginica</td>\n",
       "    </tr>\n",
       "    <tr>\n",
       "      <th>140</th>\n",
       "      <td>141</td>\n",
       "      <td>6.7</td>\n",
       "      <td>3.1</td>\n",
       "      <td>5.6</td>\n",
       "      <td>2.4</td>\n",
       "      <td>Iris-virginica</td>\n",
       "    </tr>\n",
       "    <tr>\n",
       "      <th>141</th>\n",
       "      <td>142</td>\n",
       "      <td>6.9</td>\n",
       "      <td>3.1</td>\n",
       "      <td>5.1</td>\n",
       "      <td>2.3</td>\n",
       "      <td>Iris-virginica</td>\n",
       "    </tr>\n",
       "    <tr>\n",
       "      <th>142</th>\n",
       "      <td>143</td>\n",
       "      <td>5.8</td>\n",
       "      <td>2.7</td>\n",
       "      <td>5.1</td>\n",
       "      <td>1.9</td>\n",
       "      <td>Iris-virginica</td>\n",
       "    </tr>\n",
       "    <tr>\n",
       "      <th>143</th>\n",
       "      <td>144</td>\n",
       "      <td>6.8</td>\n",
       "      <td>3.2</td>\n",
       "      <td>5.9</td>\n",
       "      <td>2.3</td>\n",
       "      <td>Iris-virginica</td>\n",
       "    </tr>\n",
       "    <tr>\n",
       "      <th>144</th>\n",
       "      <td>145</td>\n",
       "      <td>6.7</td>\n",
       "      <td>3.3</td>\n",
       "      <td>5.7</td>\n",
       "      <td>2.5</td>\n",
       "      <td>Iris-virginica</td>\n",
       "    </tr>\n",
       "    <tr>\n",
       "      <th>145</th>\n",
       "      <td>146</td>\n",
       "      <td>6.7</td>\n",
       "      <td>3.0</td>\n",
       "      <td>5.2</td>\n",
       "      <td>2.3</td>\n",
       "      <td>Iris-virginica</td>\n",
       "    </tr>\n",
       "    <tr>\n",
       "      <th>146</th>\n",
       "      <td>147</td>\n",
       "      <td>6.3</td>\n",
       "      <td>2.5</td>\n",
       "      <td>5.0</td>\n",
       "      <td>1.9</td>\n",
       "      <td>Iris-virginica</td>\n",
       "    </tr>\n",
       "    <tr>\n",
       "      <th>147</th>\n",
       "      <td>148</td>\n",
       "      <td>6.5</td>\n",
       "      <td>3.0</td>\n",
       "      <td>5.2</td>\n",
       "      <td>2.0</td>\n",
       "      <td>Iris-virginica</td>\n",
       "    </tr>\n",
       "    <tr>\n",
       "      <th>148</th>\n",
       "      <td>149</td>\n",
       "      <td>6.2</td>\n",
       "      <td>3.4</td>\n",
       "      <td>5.4</td>\n",
       "      <td>2.3</td>\n",
       "      <td>Iris-virginica</td>\n",
       "    </tr>\n",
       "    <tr>\n",
       "      <th>149</th>\n",
       "      <td>150</td>\n",
       "      <td>5.9</td>\n",
       "      <td>3.0</td>\n",
       "      <td>5.1</td>\n",
       "      <td>1.8</td>\n",
       "      <td>Iris-virginica</td>\n",
       "    </tr>\n",
       "  </tbody>\n",
       "</table>\n",
       "</div>"
      ],
      "text/plain": [
       "      Id  SepalLengthCm  SepalWidthCm  PetalLengthCm  PetalWidthCm  \\\n",
       "130  131            7.4           2.8            6.1           1.9   \n",
       "131  132            7.9           3.8            6.4           2.0   \n",
       "132  133            6.4           2.8            5.6           2.2   \n",
       "133  134            6.3           2.8            5.1           1.5   \n",
       "134  135            6.1           2.6            5.6           1.4   \n",
       "135  136            7.7           3.0            6.1           2.3   \n",
       "136  137            6.3           3.4            5.6           2.4   \n",
       "137  138            6.4           3.1            5.5           1.8   \n",
       "138  139            6.0           3.0            4.8           1.8   \n",
       "139  140            6.9           3.1            5.4           2.1   \n",
       "140  141            6.7           3.1            5.6           2.4   \n",
       "141  142            6.9           3.1            5.1           2.3   \n",
       "142  143            5.8           2.7            5.1           1.9   \n",
       "143  144            6.8           3.2            5.9           2.3   \n",
       "144  145            6.7           3.3            5.7           2.5   \n",
       "145  146            6.7           3.0            5.2           2.3   \n",
       "146  147            6.3           2.5            5.0           1.9   \n",
       "147  148            6.5           3.0            5.2           2.0   \n",
       "148  149            6.2           3.4            5.4           2.3   \n",
       "149  150            5.9           3.0            5.1           1.8   \n",
       "\n",
       "            Species  \n",
       "130  Iris-virginica  \n",
       "131  Iris-virginica  \n",
       "132  Iris-virginica  \n",
       "133  Iris-virginica  \n",
       "134  Iris-virginica  \n",
       "135  Iris-virginica  \n",
       "136  Iris-virginica  \n",
       "137  Iris-virginica  \n",
       "138  Iris-virginica  \n",
       "139  Iris-virginica  \n",
       "140  Iris-virginica  \n",
       "141  Iris-virginica  \n",
       "142  Iris-virginica  \n",
       "143  Iris-virginica  \n",
       "144  Iris-virginica  \n",
       "145  Iris-virginica  \n",
       "146  Iris-virginica  \n",
       "147  Iris-virginica  \n",
       "148  Iris-virginica  \n",
       "149  Iris-virginica  "
      ]
     },
     "execution_count": 5,
     "metadata": {},
     "output_type": "execute_result"
    }
   ],
   "source": [
    "iris.tail(20)"
   ]
  },
  {
   "cell_type": "code",
   "execution_count": 11,
   "id": "5214a07d",
   "metadata": {},
   "outputs": [
    {
     "name": "stdout",
     "output_type": "stream",
     "text": [
      "<class 'pandas.core.frame.DataFrame'>\n",
      "RangeIndex: 150 entries, 0 to 149\n",
      "Data columns (total 6 columns):\n",
      " #   Column         Non-Null Count  Dtype  \n",
      "---  ------         --------------  -----  \n",
      " 0   Id             150 non-null    int64  \n",
      " 1   SepalLengthCm  150 non-null    float64\n",
      " 2   SepalWidthCm   150 non-null    float64\n",
      " 3   PetalLengthCm  150 non-null    float64\n",
      " 4   PetalWidthCm   150 non-null    float64\n",
      " 5   Species        150 non-null    object \n",
      "dtypes: float64(4), int64(1), object(1)\n",
      "memory usage: 7.2+ KB\n"
     ]
    }
   ],
   "source": [
    "iris.info()"
   ]
  },
  {
   "cell_type": "code",
   "execution_count": 12,
   "id": "7122e342",
   "metadata": {},
   "outputs": [],
   "source": [
    "iris.drop('Id',axis=1,inplace=True)  #Dropping ID Not Required"
   ]
  },
  {
   "cell_type": "markdown",
   "id": "e2a3aafc",
   "metadata": {},
   "source": [
    "### Understand Data"
   ]
  },
  {
   "cell_type": "code",
   "execution_count": 13,
   "id": "0c97e60d",
   "metadata": {},
   "outputs": [
    {
     "data": {
      "text/plain": [
       "array(['Iris-setosa', 'Iris-versicolor', 'Iris-virginica'], dtype=object)"
      ]
     },
     "execution_count": 13,
     "metadata": {},
     "output_type": "execute_result"
    }
   ],
   "source": [
    "iris[\"Species\"].unique()"
   ]
  },
  {
   "cell_type": "code",
   "execution_count": 14,
   "id": "3f6439d3",
   "metadata": {},
   "outputs": [
    {
     "data": {
      "image/png": "[encoded data removed]",
      "text/plain": [
       "<Figure size 1000x600 with 1 Axes>"
      ]
     },
     "metadata": {},
     "output_type": "display_data"
    }
   ],
   "source": [
    "fig = iris[iris.Species=='Iris-setosa'].plot(kind='scatter',x='SepalLengthCm',y='SepalWidthCm',color='orange', label='Setosa')\n",
    "iris[iris.Species=='Iris-versicolor'].plot(kind='scatter',x='SepalLengthCm',y='SepalWidthCm',color='blue', label='versicolor',ax=fig)\n",
    "iris[iris.Species=='Iris-virginica'].plot(kind='scatter',x='SepalLengthCm',y='SepalWidthCm',color='green', label='virginica', ax=fig)\n",
    "fig.set_xlabel(\"Sepal Length\")\n",
    "fig.set_ylabel(\"Sepal Width\")\n",
    "fig.set_title(\"Sepal Length VS Width\")\n",
    "fig=plt.gcf()\n",
    "fig.set_size_inches(10,6)\n",
    "plt.show()"
   ]
  },
  {
   "cell_type": "markdown",
   "id": "827d5657",
   "metadata": {},
   "source": [
    "The above graph shows relationship between the sepal length and width"
   ]
  },
  {
   "cell_type": "code",
   "execution_count": 15,
   "id": "21ae822e",
   "metadata": {},
   "outputs": [
    {
     "data": {
      "image/png": "[encoded data removed]",
      "text/plain": [
       "<Figure size 1000x600 with 1 Axes>"
      ]
     },
     "metadata": {},
     "output_type": "display_data"
    }
   ],
   "source": [
    "fig = iris[iris.Species=='Iris-setosa'].plot.scatter(x='PetalLengthCm',y='PetalWidthCm',color='orange', label='Setosa')\n",
    "iris[iris.Species=='Iris-versicolor'].plot.scatter(x='PetalLengthCm',y='PetalWidthCm',color='blue', label='versicolor',ax=fig)\n",
    "iris[iris.Species=='Iris-virginica'].plot.scatter(x='PetalLengthCm',y='PetalWidthCm',color='green', label='virginica', ax=fig)\n",
    "fig.set_xlabel(\"Petal Length\")\n",
    "fig.set_ylabel(\"Petal Width\")\n",
    "fig.set_title(\" Petal Length VS Width\")\n",
    "fig=plt.gcf()\n",
    "fig.set_size_inches(10,6)\n",
    "plt.show()"
   ]
  },
  {
   "cell_type": "markdown",
   "id": "7265b9ea",
   "metadata": {},
   "source": [
    "relationship between the petal length and width."
   ]
  },
  {
   "cell_type": "markdown",
   "id": "9d67de8d",
   "metadata": {},
   "source": [
    "##### Petal Features are giving a better cluster division compared to the Sepal features. This is an indication that the Petals can help in better and accurate Predictions over the Sepal."
   ]
  },
  {
   "cell_type": "markdown",
   "id": "38d0103a",
   "metadata": {},
   "source": [
    "## Heatmap"
   ]
  },
  {
   "cell_type": "markdown",
   "id": "339f40b6",
   "metadata": {},
   "source": [
    "#### correlation\n",
    "\n",
    "measures the degree to which two variables change together. The correlation coefficient ranges from -1 to 1:"
   ]
  },
  {
   "cell_type": "code",
   "execution_count": 67,
   "id": "bd29760b",
   "metadata": {},
   "outputs": [
    {
     "data": {
      "image/png": "[encoded data removed]",
      "text/plain": [
       "<Figure size 800x700 with 2 Axes>"
      ]
     },
     "metadata": {},
     "output_type": "display_data"
    }
   ],
   "source": [
    "plt.figure(figsize=(8,7)) \n",
    "sns.heatmap(iris.corr(),annot=True,cmap='cubehelix_r') #draws\n",
    "plt.show()"
   ]
  },
  {
   "cell_type": "markdown",
   "id": "50197fd8",
   "metadata": {},
   "source": [
    "- **High Correlation (Close to 1):**\n",
    "  - A correlation close to 1 indicates a strong positive correlation. It means that as one variable increases, the other variable tends to increase as well.\n",
    "  - For example, in your data, the correlation between `SepalLengthCm` and `PetalLengthCm` is 0.871754, which is close to 1. This suggests a strong positive correlation between the sepal length and petal length.\n",
    "\n",
    "- **Low Correlation (Close to 0):**\n",
    "  - A correlation close to 0 indicates a weak or no linear relationship between the variables.\n",
    "  - For example, in your data, the correlation between `SepalLengthCm` and `SepalWidthCm` is -0.109369, which is close to 0. This suggests a weak or no linear correlation between sepal length and sepal width.\n",
    "\n",
    "- **Negative Correlation (Close to -1):**\n",
    "  - A correlation close to -1 indicates a strong negative correlation. It means that as one variable increases, the other variable tends to decrease.\n",
    "  - For example, in your data, the correlation between `SepalWidthCm` and `PetalLengthCm` is -0.420516, which is closer to -1. This suggests a strong negative correlation between sepal width and petal length.\n",
    "\n",
    "In summary:\n",
    "- A correlation close to 1 or -1 indicates a strong linear relationship (positive or negative).\n",
    "- A correlation close to 0 indicates a weak or no linear relationship."
   ]
  },
  {
   "cell_type": "markdown",
   "id": "2cd413d8",
   "metadata": {},
   "source": [
    "### Why Correlation Important in Feature Selection ?\n",
    "Correlation is useful in feature selection because it helps identify relationships between variables, and this information can guide the selection of features for a machine learning model. Here's why correlation is valuable in the context of feature selection:\n",
    "\n",
    "1. **Identifying Redundant Features:**\n",
    "   - Highly correlated features may provide redundant information to the model. Including such features might not significantly contribute to improving the model's performance, and it can even introduce multicollinearity issues.\n",
    "   - By examining the correlation matrix, you can identify and remove one of the highly correlated features, reducing redundancy and simplifying the model.\n",
    "\n",
    "2. **Understanding Feature Importance:**\n",
    "   - Correlation can provide insights into the relationships between each feature and the target variable. Features with higher correlation with the target variable are generally more informative and may have a greater impact on the model's predictions.\n",
    "   - This understanding helps prioritize features based on their relevance to the prediction task.\n",
    "\n",
    "3. **Avoiding Overfitting:**\n",
    "   - Including too many features in a model may lead to overfitting, especially when those features are highly correlated. Overfit models may perform well on the training data but poorly on new, unseen data.\n",
    "   - Correlation analysis helps in selecting a subset of features that capture the essential information, reducing the risk of overfitting.\n",
    "\n",
    "4. **Enhancing Model Interpretability:**\n",
    "   - Simplifying the feature set by removing irrelevant or highly correlated features makes the model more interpretable. It becomes easier to understand and communicate the factors influencing the model's predictions.\n",
    "\n",
    "5. **Improving Model Training Time:**\n",
    "   - Reducing the number of features through correlation-based feature selection can lead to faster model training times. This is particularly important when working with large datasets.\n",
    "\n",
    "Here's a step-by-step process for using correlation in feature selection:\n",
    "\n",
    "- **Compute the Correlation Matrix:** Calculate the correlation matrix for all features in the dataset.\n",
    "- **Identify Correlated Features:** Identify pairs of features with high correlation coefficients (either positive or negative).\n",
    "- **Select Features:** Choose features based on correlation analysis. You might prioritize features that have higher correlation with the target variable and lower correlation with each other.\n",
    "\n",
    "Keep in mind that correlation-based feature selection is just one approach, and the choice of features also depends on the specific characteristics of the dataset and the machine learning task at hand."
   ]
  },
  {
   "cell_type": "markdown",
   "id": "aec7e6fb",
   "metadata": {},
   "source": [
    "### From the above heatmap\n",
    "\n",
    "The Sepal Width and Length are not correlated The Petal Width and Length are highly correlated\n",
    "\n",
    "We will use all the features for training the algorithm and check the accuracy.\n",
    "\n",
    "Then we will use 1 Petal Feature and 1 Sepal Feature to check the accuracy of the algorithm as we are using only 2 features that are not correlated. Thus we can have a variance in the dataset which may help in better accuracy."
   ]
  },
  {
   "cell_type": "markdown",
   "id": "651278a9",
   "metadata": {},
   "source": [
    "## Alglorthim Steps"
   ]
  },
  {
   "cell_type": "code",
   "execution_count": 34,
   "id": "2ec4868c",
   "metadata": {},
   "outputs": [
    {
     "name": "stdout",
     "output_type": "stream",
     "text": [
      "(105, 4)\n",
      "(105,)\n"
     ]
    }
   ],
   "source": [
    "X = iris[['SepalLengthCm','SepalWidthCm','PetalLengthCm','PetalWidthCm']]\n",
    "y = iris.Species   \n",
    "train_X ,test_X, train_y, test_y = train_test_split(X, y, test_size = 0.3) # in this our main data is split into train and test\n",
    "# the attribute test_size=0.3 splits the data into 70% and 30% ratio. train=70% and test=30%\n",
    "print(train_X.shape)\n",
    "print(train_y.shape)"
   ]
  },
  {
   "cell_type": "markdown",
   "id": "20a68a28",
   "metadata": {},
   "source": [
    "#### Run Model"
   ]
  },
  {
   "cell_type": "code",
   "execution_count": 20,
   "id": "8d649ded",
   "metadata": {},
   "outputs": [],
   "source": [
    "# Convert string labels to numeric labels\n",
    "label_encoder = LabelEncoder()"
   ]
  },
  {
   "cell_type": "code",
   "execution_count": 55,
   "id": "a516804a",
   "metadata": {},
   "outputs": [
    {
     "name": "stdout",
     "output_type": "stream",
     "text": [
      "Confusion Matrix: [[11  0  0]\n",
      " [ 0 17  1]\n",
      " [ 0  0 16]]\n",
      "Accuracy: 0.98\n",
      "Precision: 0.98\n",
      "Recall: 0.98\n",
      "F1 Score: 0.98\n"
     ]
    }
   ],
   "source": [
    "model = LogisticRegression()\n",
    "model.fit(train_X,train_y)\n",
    "y_pred=model.predict(test_X)\n",
    "\n",
    "test_y = label_encoder.fit_transform(test_y)\n",
    "y_pred = label_encoder.fit_transform(y_pred)\n",
    "\n",
    "# Evaluate the model\n",
    "accuracy = accuracy_score(test_y, y_pred)\n",
    "precision = precision_score(test_y, y_pred, average='weighted')\n",
    "recall = recall_score(test_y, y_pred, average='weighted')\n",
    "f1 = f1_score(test_y, y_pred, average='weighted')\n",
    "c_matrix = confusion_matrix(test_y, y_pred)\n",
    "\n",
    "# Display the results\n",
    "print(f\"Confusion Matrix:\",c_matrix)\n",
    "print(f\"Accuracy: {accuracy:.2f}\")\n",
    "print(f\"Precision: {precision:.2f}\")\n",
    "print(f\"Recall: {recall:.2f}\")\n",
    "print(f\"F1 Score: {f1:.2f}\")"
   ]
  },
  {
   "cell_type": "markdown",
   "id": "c4539037",
   "metadata": {},
   "source": [
    "We used all the features of iris in above models. Now we will use Petals and Sepals Seperately"
   ]
  },
  {
   "cell_type": "code",
   "execution_count": 56,
   "id": "33d5c78e",
   "metadata": {},
   "outputs": [],
   "source": [
    "petal=iris[['PetalLengthCm','PetalWidthCm','Species']]\n",
    "sepal=iris[['SepalLengthCm','SepalWidthCm','Species']]"
   ]
  },
  {
   "cell_type": "code",
   "execution_count": 57,
   "id": "8646fad6",
   "metadata": {},
   "outputs": [],
   "source": [
    "train_p,test_p=train_test_split(petal,test_size=0.3,random_state=0)  #petals\n",
    "train_x_p=train_p[['PetalWidthCm','PetalLengthCm']]\n",
    "train_y_p=train_p.Species\n",
    "test_x_p=test_p[['PetalWidthCm','PetalLengthCm']]\n",
    "test_y_p=test_p.Species\n",
    "\n",
    "\n",
    "train_s,test_s=train_test_split(sepal,test_size=0.3,random_state=0)  #Sepal\n",
    "train_x_s=train_s[['SepalWidthCm','SepalLengthCm']]\n",
    "train_y_s=train_s.Species\n",
    "test_x_s=test_s[['SepalWidthCm','SepalLengthCm']]\n",
    "test_y_s=test_s.Species"
   ]
  },
  {
   "cell_type": "code",
   "execution_count": 59,
   "id": "b66d1acd",
   "metadata": {},
   "outputs": [
    {
     "name": "stdout",
     "output_type": "stream",
     "text": [
      "The accuracy of the Logistic Regression using Petals is: 0.9777777777777777\n",
      "The accuracy of the Logistic Regression using Sepals is: 0.8222222222222222\n"
     ]
    }
   ],
   "source": [
    "model = LogisticRegression()\n",
    "model.fit(train_x_p,train_y_p) \n",
    "prediction=model.predict(test_x_p) \n",
    "print('The accuracy of the Logistic Regression using Petals is:',accuracy_score(prediction,test_y_p))\n",
    "\n",
    "model.fit(train_x_s,train_y_s) \n",
    "prediction=model.predict(test_x_s) \n",
    "print('The accuracy of the Logistic Regression using Sepals is:',accuracy_score(prediction,test_y_s))"
   ]
  },
  {
   "cell_type": "markdown",
   "id": "efaaf545",
   "metadata": {},
   "source": [
    "### K-Nearest Neighbors (KNN):\n",
    "\n",
    "9. **Introduction to K-Nearest Neighbors:**\n",
    "   - Explain the KNN algorithm for classification and regression.\n",
    "   - Discuss the concept of proximity and how KNN works.\n",
    "\n",
    "10. **KNN in Python:**\n",
    "    - Implement KNN for a classification problem using a sample dataset.\n",
    "    - Discuss the choice of K and the impact on the model."
   ]
  },
  {
   "cell_type": "markdown",
   "id": "e08549e3",
   "metadata": {},
   "source": [
    "**KNN for Classification:**\n",
    "- K-Nearest Neighbors (KNN) is a supervised machine learning algorithm used for classification and regression tasks.\n",
    "- For classification, given a new data point, KNN identifies the K training samples that are closest to the new point.\n",
    "- The class of the majority of the K neighbors is assigned to the new data point.\n",
    "\n",
    "**KNN for Regression:**\n",
    "- For regression, KNN computes the average (or another aggregate function) of the target values of the K neighbors.\n",
    "- The average is assigned as the predicted value for the new data point."
   ]
  },
  {
   "cell_type": "markdown",
   "id": "6c8668ea",
   "metadata": {},
   "source": [
    "#### Discuss the Concept of Proximity and How KNN Works:\n",
    "\n",
    "- **Proximity Measure:** KNN relies on a proximity measure, typically Euclidean distance, to determine the similarity between data points. Other distance measures like Manhattan distance or Minkowski distance can also be used.\n",
    "  \n",
    "- **Decision Boundary:** In classification, the decision boundary is not explicitly defined. Instead, it's determined by the distribution of the training data. For a given data point, the algorithm considers the class of its nearest neighbors.\n",
    "\n",
    "- **Hyperparameter K:** The number of neighbors (K) is a crucial hyperparameter in KNN. Choosing an appropriate K is important because a small K can lead to noise sensitivity, while a large K may make the algorithm less sensitive to local patterns.\n",
    "\n"
   ]
  },
  {
   "cell_type": "code",
   "execution_count": 61,
   "id": "bdf49cef",
   "metadata": {},
   "outputs": [],
   "source": [
    "from sklearn.neighbors import KNeighborsClassifier"
   ]
  },
  {
   "cell_type": "code",
   "execution_count": 85,
   "id": "9588e4b5",
   "metadata": {},
   "outputs": [
    {
     "data": {
      "image/png": "[encoded data removed]",
      "text/plain": [
       "<Figure size 640x480 with 1 Axes>"
      ]
     },
     "metadata": {},
     "output_type": "display_data"
    }
   ],
   "source": [
    "train_X ,test_X, train_y, test_y = train_test_split(X, y, test_size = 0.3) \n",
    "a_index=list(range(1,11))\n",
    "a=pd.Series()\n",
    "x=[1,2,3,4,5,6,7,8,9,10]\n",
    "for i in list(range(1,11)):\n",
    "    model=KNeighborsClassifier(n_neighbors=i) \n",
    "    model.fit(train_X,train_y)\n",
    "    y_pred=model.predict(test_X)\n",
    "    a=a.append(pd.Series(accuracy_score(y_pred,test_y)))\n",
    "plt.plot(a_index, a)\n",
    "plt.xticks(x)\n",
    "plt.show()"
   ]
  },
  {
   "cell_type": "markdown",
   "id": "2f70473b",
   "metadata": {},
   "source": [
    "For Petals and Sepals"
   ]
  },
  {
   "cell_type": "code",
   "execution_count": 87,
   "id": "845f284c",
   "metadata": {},
   "outputs": [
    {
     "name": "stdout",
     "output_type": "stream",
     "text": [
      "The accuracy of the KNN using Petals is: 0.9777777777777777\n",
      "The accuracy of the KNN using Sepals is: 0.7333333333333333\n"
     ]
    }
   ],
   "source": [
    "model=KNeighborsClassifier(n_neighbors=3) \n",
    "model.fit(train_x_p,train_y_p) \n",
    "prediction=model.predict(test_x_p) \n",
    "print('The accuracy of the KNN using Petals is:',accuracy_score(prediction,test_y_p))\n",
    "\n",
    "model.fit(train_x_s,train_y_s) \n",
    "prediction=model.predict(test_x_s) \n",
    "print('The accuracy of the KNN using Sepals is:',accuracy_score(prediction,test_y_s))"
   ]
  },
  {
   "cell_type": "markdown",
   "id": "9d84a2b9",
   "metadata": {},
   "source": [
    "### Linear Regression:\n",
    "\n",
    "7. **Introduction to Linear Regression:**\n",
    "   - Explain the linear regression algorithm.\n",
    "   - Discuss its application in predicting continuous values.\n",
    "\n",
    "8. **Linear Regression in Python:**\n",
    "   - Demonstrate linear regression using a real-world dataset.\n",
    "   - Cover evaluation metrics (mean squared error, R-squared)."
   ]
  },
  {
   "cell_type": "markdown",
   "id": "070a84ad",
   "metadata": {},
   "source": [
    "**Linear Regression:**\n",
    "- Linear Regression is a supervised machine learning algorithm used for predicting a continuous outcome (dependent variable) based on one or more predictor variables (independent variables).\n",
    "  "
   ]
  },
  {
   "cell_type": "markdown",
   "id": "034b3197",
   "metadata": {},
   "source": [
    "![alternatvie text](https://miro.medium.com/v2/resize:fit:1100/format:webp/1*GSAcN9G7stUJQbuOhu0HEg.png)"
   ]
  },
  {
   "cell_type": "markdown",
   "id": "ca918f35",
   "metadata": {},
   "source": [
    "#### Discuss its Application in Predicting Continuous Values:\n",
    "\n",
    "- **Use Cases:**\n",
    "  - Predicting house prices based on features like square footage, number of bedrooms, etc.\n",
    "  - Forecasting sales based on advertising spending, time of the year, etc.\n",
    "\n",
    "- **Assumptions:**\n",
    "  - Assumes a linear relationship between the independent and dependent variables.\n",
    "  - Assumes the residuals (errors) are normally distributed."
   ]
  },
  {
   "cell_type": "code",
   "execution_count": 31,
   "id": "860982d0",
   "metadata": {},
   "outputs": [],
   "source": [
    "from sklearn.linear_model import LinearRegression\n",
    "from sklearn.metrics import mean_squared_error, r2_score"
   ]
  },
  {
   "cell_type": "code",
   "execution_count": 32,
   "id": "2f074395",
   "metadata": {},
   "outputs": [
    {
     "data": {
      "text/html": [
       "<div>\n",
       "<style scoped>\n",
       "    .dataframe tbody tr th:only-of-type {\n",
       "        vertical-align: middle;\n",
       "    }\n",
       "\n",
       "    .dataframe tbody tr th {\n",
       "        vertical-align: top;\n",
       "    }\n",
       "\n",
       "    .dataframe thead th {\n",
       "        text-align: right;\n",
       "    }\n",
       "</style>\n",
       "<table border=\"1\" class=\"dataframe\">\n",
       "  <thead>\n",
       "    <tr style=\"text-align: right;\">\n",
       "      <th></th>\n",
       "      <th>price</th>\n",
       "      <th>area</th>\n",
       "      <th>bedrooms</th>\n",
       "      <th>bathrooms</th>\n",
       "      <th>stories</th>\n",
       "      <th>mainroad</th>\n",
       "      <th>guestroom</th>\n",
       "      <th>basement</th>\n",
       "      <th>hotwaterheating</th>\n",
       "      <th>airconditioning</th>\n",
       "      <th>parking</th>\n",
       "      <th>prefarea</th>\n",
       "      <th>furnishingstatus</th>\n",
       "    </tr>\n",
       "  </thead>\n",
       "  <tbody>\n",
       "    <tr>\n",
       "      <th>0</th>\n",
       "      <td>13300000</td>\n",
       "      <td>7420</td>\n",
       "      <td>4</td>\n",
       "      <td>2</td>\n",
       "      <td>3</td>\n",
       "      <td>yes</td>\n",
       "      <td>no</td>\n",
       "      <td>no</td>\n",
       "      <td>no</td>\n",
       "      <td>yes</td>\n",
       "      <td>2</td>\n",
       "      <td>yes</td>\n",
       "      <td>furnished</td>\n",
       "    </tr>\n",
       "    <tr>\n",
       "      <th>1</th>\n",
       "      <td>12250000</td>\n",
       "      <td>8960</td>\n",
       "      <td>4</td>\n",
       "      <td>4</td>\n",
       "      <td>4</td>\n",
       "      <td>yes</td>\n",
       "      <td>no</td>\n",
       "      <td>no</td>\n",
       "      <td>no</td>\n",
       "      <td>yes</td>\n",
       "      <td>3</td>\n",
       "      <td>no</td>\n",
       "      <td>furnished</td>\n",
       "    </tr>\n",
       "    <tr>\n",
       "      <th>2</th>\n",
       "      <td>12250000</td>\n",
       "      <td>9960</td>\n",
       "      <td>3</td>\n",
       "      <td>2</td>\n",
       "      <td>2</td>\n",
       "      <td>yes</td>\n",
       "      <td>no</td>\n",
       "      <td>yes</td>\n",
       "      <td>no</td>\n",
       "      <td>no</td>\n",
       "      <td>2</td>\n",
       "      <td>yes</td>\n",
       "      <td>semi-furnished</td>\n",
       "    </tr>\n",
       "    <tr>\n",
       "      <th>3</th>\n",
       "      <td>12215000</td>\n",
       "      <td>7500</td>\n",
       "      <td>4</td>\n",
       "      <td>2</td>\n",
       "      <td>2</td>\n",
       "      <td>yes</td>\n",
       "      <td>no</td>\n",
       "      <td>yes</td>\n",
       "      <td>no</td>\n",
       "      <td>yes</td>\n",
       "      <td>3</td>\n",
       "      <td>yes</td>\n",
       "      <td>furnished</td>\n",
       "    </tr>\n",
       "    <tr>\n",
       "      <th>4</th>\n",
       "      <td>11410000</td>\n",
       "      <td>7420</td>\n",
       "      <td>4</td>\n",
       "      <td>1</td>\n",
       "      <td>2</td>\n",
       "      <td>yes</td>\n",
       "      <td>yes</td>\n",
       "      <td>yes</td>\n",
       "      <td>no</td>\n",
       "      <td>yes</td>\n",
       "      <td>2</td>\n",
       "      <td>no</td>\n",
       "      <td>furnished</td>\n",
       "    </tr>\n",
       "  </tbody>\n",
       "</table>\n",
       "</div>"
      ],
      "text/plain": [
       "      price  area  bedrooms  bathrooms  stories mainroad guestroom basement  \\\n",
       "0  13300000  7420         4          2        3      yes        no       no   \n",
       "1  12250000  8960         4          4        4      yes        no       no   \n",
       "2  12250000  9960         3          2        2      yes        no      yes   \n",
       "3  12215000  7500         4          2        2      yes        no      yes   \n",
       "4  11410000  7420         4          1        2      yes       yes      yes   \n",
       "\n",
       "  hotwaterheating airconditioning  parking prefarea furnishingstatus  \n",
       "0              no             yes        2      yes        furnished  \n",
       "1              no             yes        3       no        furnished  \n",
       "2              no              no        2      yes   semi-furnished  \n",
       "3              no             yes        3      yes        furnished  \n",
       "4              no             yes        2       no        furnished  "
      ]
     },
     "execution_count": 32,
     "metadata": {},
     "output_type": "execute_result"
    }
   ],
   "source": [
    "housing = pd.read_csv(\"Housing.csv\") #load the dataset\n",
    "housing.head()"
   ]
  },
  {
   "cell_type": "code",
   "execution_count": 33,
   "id": "cfdc1f48",
   "metadata": {},
   "outputs": [
    {
     "name": "stdout",
     "output_type": "stream",
     "text": [
      "<class 'pandas.core.frame.DataFrame'>\n",
      "RangeIndex: 545 entries, 0 to 544\n",
      "Data columns (total 13 columns):\n",
      " #   Column            Non-Null Count  Dtype \n",
      "---  ------            --------------  ----- \n",
      " 0   price             545 non-null    int64 \n",
      " 1   area              545 non-null    int64 \n",
      " 2   bedrooms          545 non-null    int64 \n",
      " 3   bathrooms         545 non-null    int64 \n",
      " 4   stories           545 non-null    int64 \n",
      " 5   mainroad          545 non-null    object\n",
      " 6   guestroom         545 non-null    object\n",
      " 7   basement          545 non-null    object\n",
      " 8   hotwaterheating   545 non-null    object\n",
      " 9   airconditioning   545 non-null    object\n",
      " 10  parking           545 non-null    int64 \n",
      " 11  prefarea          545 non-null    object\n",
      " 12  furnishingstatus  545 non-null    object\n",
      "dtypes: int64(6), object(7)\n",
      "memory usage: 55.5+ KB\n"
     ]
    }
   ],
   "source": [
    "housing.info()"
   ]
  },
  {
   "cell_type": "code",
   "execution_count": 34,
   "id": "baf1f449",
   "metadata": {},
   "outputs": [
    {
     "data": {
      "image/png": "[encoded data removed]",
      "text/plain": [
       "<Figure size 1000x500 with 6 Axes>"
      ]
     },
     "metadata": {},
     "output_type": "display_data"
    }
   ],
   "source": [
    "# Outlier Analysis\n",
    "fig, axs = plt.subplots(2,3, figsize = (10,5))\n",
    "plt1 = sns.boxplot(housing['price'], ax = axs[0,0])\n",
    "plt2 = sns.boxplot(housing['area'], ax = axs[0,1])\n",
    "plt3 = sns.boxplot(housing['bedrooms'], ax = axs[0,2])\n",
    "plt1 = sns.boxplot(housing['bathrooms'], ax = axs[1,0])\n",
    "plt2 = sns.boxplot(housing['stories'], ax = axs[1,1])\n",
    "plt3 = sns.boxplot(housing['parking'], ax = axs[1,2])\n",
    "\n",
    "plt.tight_layout()"
   ]
  },
  {
   "cell_type": "code",
   "execution_count": 35,
   "id": "87fcf981",
   "metadata": {},
   "outputs": [
    {
     "data": {
      "image/png": "[encoded data removed]",
      "text/plain": [
       "<Figure size 1000x500 with 1 Axes>"
      ]
     },
     "metadata": {},
     "output_type": "display_data"
    }
   ],
   "source": [
    "plt.figure(figsize = (10, 5))\n",
    "sns.boxplot(x = 'furnishingstatus', y = 'price', hue = 'airconditioning', data = housing)\n",
    "plt.show()"
   ]
  },
  {
   "cell_type": "code",
   "execution_count": 36,
   "id": "e4901187",
   "metadata": {},
   "outputs": [],
   "source": [
    "## Convert Categorical To numerical \n",
    "\n",
    "cat_list =  ['mainroad', 'guestroom', 'basement', 'hotwaterheating', 'airconditioning', 'prefarea']\n",
    "\n",
    "# Defining the map function\n",
    "def binary_map(x):\n",
    "    return x.map({'yes': 1, \"no\": 0})\n",
    "\n",
    "# Applying the function to the housing list\n",
    "housing[cat_list] = housing[cat_list].apply(binary_map)"
   ]
  },
  {
   "cell_type": "code",
   "execution_count": 37,
   "id": "d8479021",
   "metadata": {},
   "outputs": [
    {
     "data": {
      "text/html": [
       "<div>\n",
       "<style scoped>\n",
       "    .dataframe tbody tr th:only-of-type {\n",
       "        vertical-align: middle;\n",
       "    }\n",
       "\n",
       "    .dataframe tbody tr th {\n",
       "        vertical-align: top;\n",
       "    }\n",
       "\n",
       "    .dataframe thead th {\n",
       "        text-align: right;\n",
       "    }\n",
       "</style>\n",
       "<table border=\"1\" class=\"dataframe\">\n",
       "  <thead>\n",
       "    <tr style=\"text-align: right;\">\n",
       "      <th></th>\n",
       "      <th>price</th>\n",
       "      <th>area</th>\n",
       "      <th>bedrooms</th>\n",
       "      <th>bathrooms</th>\n",
       "      <th>stories</th>\n",
       "      <th>mainroad</th>\n",
       "      <th>guestroom</th>\n",
       "      <th>basement</th>\n",
       "      <th>hotwaterheating</th>\n",
       "      <th>airconditioning</th>\n",
       "      <th>parking</th>\n",
       "      <th>prefarea</th>\n",
       "      <th>furnishingstatus</th>\n",
       "    </tr>\n",
       "  </thead>\n",
       "  <tbody>\n",
       "    <tr>\n",
       "      <th>0</th>\n",
       "      <td>13300000</td>\n",
       "      <td>7420</td>\n",
       "      <td>4</td>\n",
       "      <td>2</td>\n",
       "      <td>3</td>\n",
       "      <td>1</td>\n",
       "      <td>0</td>\n",
       "      <td>0</td>\n",
       "      <td>0</td>\n",
       "      <td>1</td>\n",
       "      <td>2</td>\n",
       "      <td>1</td>\n",
       "      <td>furnished</td>\n",
       "    </tr>\n",
       "    <tr>\n",
       "      <th>1</th>\n",
       "      <td>12250000</td>\n",
       "      <td>8960</td>\n",
       "      <td>4</td>\n",
       "      <td>4</td>\n",
       "      <td>4</td>\n",
       "      <td>1</td>\n",
       "      <td>0</td>\n",
       "      <td>0</td>\n",
       "      <td>0</td>\n",
       "      <td>1</td>\n",
       "      <td>3</td>\n",
       "      <td>0</td>\n",
       "      <td>furnished</td>\n",
       "    </tr>\n",
       "    <tr>\n",
       "      <th>2</th>\n",
       "      <td>12250000</td>\n",
       "      <td>9960</td>\n",
       "      <td>3</td>\n",
       "      <td>2</td>\n",
       "      <td>2</td>\n",
       "      <td>1</td>\n",
       "      <td>0</td>\n",
       "      <td>1</td>\n",
       "      <td>0</td>\n",
       "      <td>0</td>\n",
       "      <td>2</td>\n",
       "      <td>1</td>\n",
       "      <td>semi-furnished</td>\n",
       "    </tr>\n",
       "    <tr>\n",
       "      <th>3</th>\n",
       "      <td>12215000</td>\n",
       "      <td>7500</td>\n",
       "      <td>4</td>\n",
       "      <td>2</td>\n",
       "      <td>2</td>\n",
       "      <td>1</td>\n",
       "      <td>0</td>\n",
       "      <td>1</td>\n",
       "      <td>0</td>\n",
       "      <td>1</td>\n",
       "      <td>3</td>\n",
       "      <td>1</td>\n",
       "      <td>furnished</td>\n",
       "    </tr>\n",
       "    <tr>\n",
       "      <th>4</th>\n",
       "      <td>11410000</td>\n",
       "      <td>7420</td>\n",
       "      <td>4</td>\n",
       "      <td>1</td>\n",
       "      <td>2</td>\n",
       "      <td>1</td>\n",
       "      <td>1</td>\n",
       "      <td>1</td>\n",
       "      <td>0</td>\n",
       "      <td>1</td>\n",
       "      <td>2</td>\n",
       "      <td>0</td>\n",
       "      <td>furnished</td>\n",
       "    </tr>\n",
       "  </tbody>\n",
       "</table>\n",
       "</div>"
      ],
      "text/plain": [
       "      price  area  bedrooms  bathrooms  stories  mainroad  guestroom  \\\n",
       "0  13300000  7420         4          2        3         1          0   \n",
       "1  12250000  8960         4          4        4         1          0   \n",
       "2  12250000  9960         3          2        2         1          0   \n",
       "3  12215000  7500         4          2        2         1          0   \n",
       "4  11410000  7420         4          1        2         1          1   \n",
       "\n",
       "   basement  hotwaterheating  airconditioning  parking  prefarea  \\\n",
       "0         0                0                1        2         1   \n",
       "1         0                0                1        3         0   \n",
       "2         1                0                0        2         1   \n",
       "3         1                0                1        3         1   \n",
       "4         1                0                1        2         0   \n",
       "\n",
       "  furnishingstatus  \n",
       "0        furnished  \n",
       "1        furnished  \n",
       "2   semi-furnished  \n",
       "3        furnished  \n",
       "4        furnished  "
      ]
     },
     "execution_count": 37,
     "metadata": {},
     "output_type": "execute_result"
    }
   ],
   "source": [
    "housing.head()"
   ]
  },
  {
   "cell_type": "code",
   "execution_count": 38,
   "id": "02343e8e",
   "metadata": {},
   "outputs": [
    {
     "data": {
      "text/plain": [
       "0           furnished\n",
       "1           furnished\n",
       "2      semi-furnished\n",
       "3           furnished\n",
       "4           furnished\n",
       "            ...      \n",
       "540       unfurnished\n",
       "541    semi-furnished\n",
       "542       unfurnished\n",
       "543         furnished\n",
       "544       unfurnished\n",
       "Name: furnishingstatus, Length: 545, dtype: object"
      ]
     },
     "execution_count": 38,
     "metadata": {},
     "output_type": "execute_result"
    }
   ],
   "source": [
    "housing[\"furnishingstatus\"]"
   ]
  },
  {
   "cell_type": "code",
   "execution_count": 39,
   "id": "967e05fe",
   "metadata": {},
   "outputs": [],
   "source": [
    "def furnish_map(x):\n",
    "    return x.map({'furnished': 1, \"semi-furnished\": 2,  \"unfurnished\": 3})\n",
    "\n",
    "housing[\"furnishingstatus\"] = label_encoder.fit_transform(housing[\"furnishingstatus\"])"
   ]
  },
  {
   "cell_type": "code",
   "execution_count": 40,
   "id": "637b9db1",
   "metadata": {},
   "outputs": [
    {
     "data": {
      "text/html": [
       "<div>\n",
       "<style scoped>\n",
       "    .dataframe tbody tr th:only-of-type {\n",
       "        vertical-align: middle;\n",
       "    }\n",
       "\n",
       "    .dataframe tbody tr th {\n",
       "        vertical-align: top;\n",
       "    }\n",
       "\n",
       "    .dataframe thead th {\n",
       "        text-align: right;\n",
       "    }\n",
       "</style>\n",
       "<table border=\"1\" class=\"dataframe\">\n",
       "  <thead>\n",
       "    <tr style=\"text-align: right;\">\n",
       "      <th></th>\n",
       "      <th>price</th>\n",
       "      <th>area</th>\n",
       "      <th>bedrooms</th>\n",
       "      <th>bathrooms</th>\n",
       "      <th>stories</th>\n",
       "      <th>mainroad</th>\n",
       "      <th>guestroom</th>\n",
       "      <th>basement</th>\n",
       "      <th>hotwaterheating</th>\n",
       "      <th>airconditioning</th>\n",
       "      <th>parking</th>\n",
       "      <th>prefarea</th>\n",
       "      <th>furnishingstatus</th>\n",
       "    </tr>\n",
       "  </thead>\n",
       "  <tbody>\n",
       "    <tr>\n",
       "      <th>0</th>\n",
       "      <td>13300000</td>\n",
       "      <td>7420</td>\n",
       "      <td>4</td>\n",
       "      <td>2</td>\n",
       "      <td>3</td>\n",
       "      <td>1</td>\n",
       "      <td>0</td>\n",
       "      <td>0</td>\n",
       "      <td>0</td>\n",
       "      <td>1</td>\n",
       "      <td>2</td>\n",
       "      <td>1</td>\n",
       "      <td>0</td>\n",
       "    </tr>\n",
       "    <tr>\n",
       "      <th>1</th>\n",
       "      <td>12250000</td>\n",
       "      <td>8960</td>\n",
       "      <td>4</td>\n",
       "      <td>4</td>\n",
       "      <td>4</td>\n",
       "      <td>1</td>\n",
       "      <td>0</td>\n",
       "      <td>0</td>\n",
       "      <td>0</td>\n",
       "      <td>1</td>\n",
       "      <td>3</td>\n",
       "      <td>0</td>\n",
       "      <td>0</td>\n",
       "    </tr>\n",
       "    <tr>\n",
       "      <th>2</th>\n",
       "      <td>12250000</td>\n",
       "      <td>9960</td>\n",
       "      <td>3</td>\n",
       "      <td>2</td>\n",
       "      <td>2</td>\n",
       "      <td>1</td>\n",
       "      <td>0</td>\n",
       "      <td>1</td>\n",
       "      <td>0</td>\n",
       "      <td>0</td>\n",
       "      <td>2</td>\n",
       "      <td>1</td>\n",
       "      <td>1</td>\n",
       "    </tr>\n",
       "    <tr>\n",
       "      <th>3</th>\n",
       "      <td>12215000</td>\n",
       "      <td>7500</td>\n",
       "      <td>4</td>\n",
       "      <td>2</td>\n",
       "      <td>2</td>\n",
       "      <td>1</td>\n",
       "      <td>0</td>\n",
       "      <td>1</td>\n",
       "      <td>0</td>\n",
       "      <td>1</td>\n",
       "      <td>3</td>\n",
       "      <td>1</td>\n",
       "      <td>0</td>\n",
       "    </tr>\n",
       "    <tr>\n",
       "      <th>4</th>\n",
       "      <td>11410000</td>\n",
       "      <td>7420</td>\n",
       "      <td>4</td>\n",
       "      <td>1</td>\n",
       "      <td>2</td>\n",
       "      <td>1</td>\n",
       "      <td>1</td>\n",
       "      <td>1</td>\n",
       "      <td>0</td>\n",
       "      <td>1</td>\n",
       "      <td>2</td>\n",
       "      <td>0</td>\n",
       "      <td>0</td>\n",
       "    </tr>\n",
       "  </tbody>\n",
       "</table>\n",
       "</div>"
      ],
      "text/plain": [
       "      price  area  bedrooms  bathrooms  stories  mainroad  guestroom  \\\n",
       "0  13300000  7420         4          2        3         1          0   \n",
       "1  12250000  8960         4          4        4         1          0   \n",
       "2  12250000  9960         3          2        2         1          0   \n",
       "3  12215000  7500         4          2        2         1          0   \n",
       "4  11410000  7420         4          1        2         1          1   \n",
       "\n",
       "   basement  hotwaterheating  airconditioning  parking  prefarea  \\\n",
       "0         0                0                1        2         1   \n",
       "1         0                0                1        3         0   \n",
       "2         1                0                0        2         1   \n",
       "3         1                0                1        3         1   \n",
       "4         1                0                1        2         0   \n",
       "\n",
       "   furnishingstatus  \n",
       "0                 0  \n",
       "1                 0  \n",
       "2                 1  \n",
       "3                 0  \n",
       "4                 0  "
      ]
     },
     "execution_count": 40,
     "metadata": {},
     "output_type": "execute_result"
    }
   ],
   "source": [
    "housing.head()"
   ]
  },
  {
   "cell_type": "code",
   "execution_count": 41,
   "id": "b2337238",
   "metadata": {},
   "outputs": [],
   "source": [
    "from sklearn.preprocessing import MinMaxScaler\n",
    "scaler = MinMaxScaler()"
   ]
  },
  {
   "cell_type": "code",
   "execution_count": 42,
   "id": "df50288f",
   "metadata": {},
   "outputs": [],
   "source": [
    "# Apply scaler() to all the columns except the 'yes-no' and 'dummy' variables\n",
    "num_vars = ['area', 'price']\n",
    "before_scaled = housing[num_vars]\n",
    "scaled = housing[num_vars] = scaler.fit_transform(housing[num_vars])"
   ]
  },
  {
   "cell_type": "code",
   "execution_count": 43,
   "id": "fc3e2733",
   "metadata": {},
   "outputs": [],
   "source": [
    "y = housing.pop('price')\n",
    "X = housing"
   ]
  },
  {
   "cell_type": "code",
   "execution_count": 44,
   "id": "aa73f1ce",
   "metadata": {},
   "outputs": [
    {
     "data": {
      "text/plain": [
       "0      1.000000\n",
       "1      0.909091\n",
       "2      0.909091\n",
       "3      0.906061\n",
       "4      0.836364\n",
       "         ...   \n",
       "540    0.006061\n",
       "541    0.001485\n",
       "542    0.000000\n",
       "543    0.000000\n",
       "544    0.000000\n",
       "Name: price, Length: 545, dtype: float64"
      ]
     },
     "execution_count": 44,
     "metadata": {},
     "output_type": "execute_result"
    }
   ],
   "source": [
    "y"
   ]
  },
  {
   "cell_type": "code",
   "execution_count": 45,
   "id": "0216b437",
   "metadata": {},
   "outputs": [],
   "source": [
    "X_train, X_test, y_train, y_test = train_test_split(X, y, test_size=0.2, random_state=42)\n",
    "\n",
    "# Initialize the Linear Regression model\n",
    "model = LinearRegression()\n",
    "\n",
    "# Train the model on the training data\n",
    "model.fit(X_train, y_train)\n",
    "\n",
    "# Make predictions on the test set\n",
    "y_pred = model.predict(X_test)"
   ]
  },
  {
   "cell_type": "code",
   "execution_count": 46,
   "id": "89186983",
   "metadata": {},
   "outputs": [
    {
     "name": "stdout",
     "output_type": "stream",
     "text": [
      "Mean Squared Error: 0.01\n",
      "R-squared: 0.65\n"
     ]
    }
   ],
   "source": [
    "# Evaluate the model using metrics\n",
    "mse = mean_squared_error(y_test, y_pred)\n",
    "r2 = r2_score(y_test, y_pred)\n",
    "\n",
    "print(f'Mean Squared Error: {mse:.2f}')\n",
    "print(f'R-squared: {r2:.2f}')"
   ]
  },
  {
   "cell_type": "markdown",
   "id": "5e33c704",
   "metadata": {},
   "source": [
    "Interpretation: R-squared measures the proportion of the variance in the target variable that is explained by the model. An R-squared of 0.65 means that approximately 65% of the variability in the target variable is captured by your model."
   ]
  },
  {
   "cell_type": "code",
   "execution_count": 47,
   "id": "181b1951",
   "metadata": {},
   "outputs": [
    {
     "data": {
      "text/html": [
       "<div>\n",
       "<style scoped>\n",
       "    .dataframe tbody tr th:only-of-type {\n",
       "        vertical-align: middle;\n",
       "    }\n",
       "\n",
       "    .dataframe tbody tr th {\n",
       "        vertical-align: top;\n",
       "    }\n",
       "\n",
       "    .dataframe thead th {\n",
       "        text-align: right;\n",
       "    }\n",
       "</style>\n",
       "<table border=\"1\" class=\"dataframe\">\n",
       "  <thead>\n",
       "    <tr style=\"text-align: right;\">\n",
       "      <th></th>\n",
       "      <th>area</th>\n",
       "      <th>bedrooms</th>\n",
       "      <th>bathrooms</th>\n",
       "      <th>stories</th>\n",
       "      <th>mainroad</th>\n",
       "      <th>guestroom</th>\n",
       "      <th>basement</th>\n",
       "      <th>hotwaterheating</th>\n",
       "      <th>airconditioning</th>\n",
       "      <th>parking</th>\n",
       "      <th>prefarea</th>\n",
       "      <th>furnishingstatus</th>\n",
       "    </tr>\n",
       "  </thead>\n",
       "  <tbody>\n",
       "    <tr>\n",
       "      <th>316</th>\n",
       "      <td>0.292096</td>\n",
       "      <td>4</td>\n",
       "      <td>2</td>\n",
       "      <td>2</td>\n",
       "      <td>0</td>\n",
       "      <td>0</td>\n",
       "      <td>1</td>\n",
       "      <td>0</td>\n",
       "      <td>0</td>\n",
       "      <td>1</td>\n",
       "      <td>0</td>\n",
       "      <td>2</td>\n",
       "    </tr>\n",
       "    <tr>\n",
       "      <th>77</th>\n",
       "      <td>0.333333</td>\n",
       "      <td>3</td>\n",
       "      <td>2</td>\n",
       "      <td>3</td>\n",
       "      <td>1</td>\n",
       "      <td>0</td>\n",
       "      <td>0</td>\n",
       "      <td>0</td>\n",
       "      <td>1</td>\n",
       "      <td>0</td>\n",
       "      <td>1</td>\n",
       "      <td>0</td>\n",
       "    </tr>\n",
       "    <tr>\n",
       "      <th>360</th>\n",
       "      <td>0.164261</td>\n",
       "      <td>2</td>\n",
       "      <td>1</td>\n",
       "      <td>1</td>\n",
       "      <td>1</td>\n",
       "      <td>0</td>\n",
       "      <td>0</td>\n",
       "      <td>0</td>\n",
       "      <td>0</td>\n",
       "      <td>0</td>\n",
       "      <td>0</td>\n",
       "      <td>1</td>\n",
       "    </tr>\n",
       "    <tr>\n",
       "      <th>90</th>\n",
       "      <td>0.230241</td>\n",
       "      <td>3</td>\n",
       "      <td>1</td>\n",
       "      <td>2</td>\n",
       "      <td>1</td>\n",
       "      <td>0</td>\n",
       "      <td>0</td>\n",
       "      <td>0</td>\n",
       "      <td>1</td>\n",
       "      <td>0</td>\n",
       "      <td>0</td>\n",
       "      <td>1</td>\n",
       "    </tr>\n",
       "    <tr>\n",
       "      <th>493</th>\n",
       "      <td>0.158763</td>\n",
       "      <td>3</td>\n",
       "      <td>1</td>\n",
       "      <td>1</td>\n",
       "      <td>1</td>\n",
       "      <td>0</td>\n",
       "      <td>0</td>\n",
       "      <td>0</td>\n",
       "      <td>0</td>\n",
       "      <td>0</td>\n",
       "      <td>0</td>\n",
       "      <td>0</td>\n",
       "    </tr>\n",
       "    <tr>\n",
       "      <th>...</th>\n",
       "      <td>...</td>\n",
       "      <td>...</td>\n",
       "      <td>...</td>\n",
       "      <td>...</td>\n",
       "      <td>...</td>\n",
       "      <td>...</td>\n",
       "      <td>...</td>\n",
       "      <td>...</td>\n",
       "      <td>...</td>\n",
       "      <td>...</td>\n",
       "      <td>...</td>\n",
       "      <td>...</td>\n",
       "    </tr>\n",
       "    <tr>\n",
       "      <th>15</th>\n",
       "      <td>0.298969</td>\n",
       "      <td>4</td>\n",
       "      <td>1</td>\n",
       "      <td>2</td>\n",
       "      <td>1</td>\n",
       "      <td>0</td>\n",
       "      <td>1</td>\n",
       "      <td>0</td>\n",
       "      <td>0</td>\n",
       "      <td>2</td>\n",
       "      <td>0</td>\n",
       "      <td>1</td>\n",
       "    </tr>\n",
       "    <tr>\n",
       "      <th>357</th>\n",
       "      <td>0.362887</td>\n",
       "      <td>4</td>\n",
       "      <td>1</td>\n",
       "      <td>2</td>\n",
       "      <td>0</td>\n",
       "      <td>0</td>\n",
       "      <td>0</td>\n",
       "      <td>0</td>\n",
       "      <td>0</td>\n",
       "      <td>1</td>\n",
       "      <td>0</td>\n",
       "      <td>0</td>\n",
       "    </tr>\n",
       "    <tr>\n",
       "      <th>39</th>\n",
       "      <td>0.298969</td>\n",
       "      <td>4</td>\n",
       "      <td>2</td>\n",
       "      <td>4</td>\n",
       "      <td>1</td>\n",
       "      <td>0</td>\n",
       "      <td>0</td>\n",
       "      <td>0</td>\n",
       "      <td>1</td>\n",
       "      <td>1</td>\n",
       "      <td>0</td>\n",
       "      <td>1</td>\n",
       "    </tr>\n",
       "    <tr>\n",
       "      <th>54</th>\n",
       "      <td>0.298969</td>\n",
       "      <td>3</td>\n",
       "      <td>2</td>\n",
       "      <td>2</td>\n",
       "      <td>1</td>\n",
       "      <td>1</td>\n",
       "      <td>0</td>\n",
       "      <td>0</td>\n",
       "      <td>1</td>\n",
       "      <td>1</td>\n",
       "      <td>0</td>\n",
       "      <td>1</td>\n",
       "    </tr>\n",
       "    <tr>\n",
       "      <th>155</th>\n",
       "      <td>0.305842</td>\n",
       "      <td>3</td>\n",
       "      <td>2</td>\n",
       "      <td>1</td>\n",
       "      <td>1</td>\n",
       "      <td>0</td>\n",
       "      <td>1</td>\n",
       "      <td>0</td>\n",
       "      <td>0</td>\n",
       "      <td>2</td>\n",
       "      <td>1</td>\n",
       "      <td>0</td>\n",
       "    </tr>\n",
       "  </tbody>\n",
       "</table>\n",
       "<p>109 rows × 12 columns</p>\n",
       "</div>"
      ],
      "text/plain": [
       "         area  bedrooms  bathrooms  stories  mainroad  guestroom  basement  \\\n",
       "316  0.292096         4          2        2         0          0         1   \n",
       "77   0.333333         3          2        3         1          0         0   \n",
       "360  0.164261         2          1        1         1          0         0   \n",
       "90   0.230241         3          1        2         1          0         0   \n",
       "493  0.158763         3          1        1         1          0         0   \n",
       "..        ...       ...        ...      ...       ...        ...       ...   \n",
       "15   0.298969         4          1        2         1          0         1   \n",
       "357  0.362887         4          1        2         0          0         0   \n",
       "39   0.298969         4          2        4         1          0         0   \n",
       "54   0.298969         3          2        2         1          1         0   \n",
       "155  0.305842         3          2        1         1          0         1   \n",
       "\n",
       "     hotwaterheating  airconditioning  parking  prefarea  furnishingstatus  \n",
       "316                0                0        1         0                 2  \n",
       "77                 0                1        0         1                 0  \n",
       "360                0                0        0         0                 1  \n",
       "90                 0                1        0         0                 1  \n",
       "493                0                0        0         0                 0  \n",
       "..               ...              ...      ...       ...               ...  \n",
       "15                 0                0        2         0                 1  \n",
       "357                0                0        1         0                 0  \n",
       "39                 0                1        1         0                 1  \n",
       "54                 0                1        1         0                 1  \n",
       "155                0                0        2         1                 0  \n",
       "\n",
       "[109 rows x 12 columns]"
      ]
     },
     "execution_count": 47,
     "metadata": {},
     "output_type": "execute_result"
    }
   ],
   "source": [
    "X_test"
   ]
  },
  {
   "cell_type": "code",
   "execution_count": 48,
   "id": "dcf14b55",
   "metadata": {},
   "outputs": [
    {
     "data": {
      "text/plain": [
       "array([[7.420e+03, 1.330e+07],\n",
       "       [8.960e+03, 1.225e+07],\n",
       "       [9.960e+03, 1.225e+07],\n",
       "       ...,\n",
       "       [3.620e+03, 1.750e+06],\n",
       "       [2.910e+03, 1.750e+06],\n",
       "       [3.850e+03, 1.750e+06]])"
      ]
     },
     "execution_count": 48,
     "metadata": {},
     "output_type": "execute_result"
    }
   ],
   "source": [
    "scaler.fit(before_scaled)\n",
    "y_original = scaler.inverse_transform(scaled)\n",
    "y_original"
   ]
  },
  {
   "cell_type": "code",
   "execution_count": 61,
   "id": "9198cf27",
   "metadata": {},
   "outputs": [],
   "source": [
    "def get_price_for_house(area,bedrooms,bathrooms,stories,mainroad,guestroom,basement,hotwaterheating,airconditioning,parking,prefarea,furnishingstatus):\n",
    "    price = model.predict(np.array([[area,bedrooms,bathrooms,stories,mainroad,guestroom,basement,hotwaterheating,airconditioning,parking,prefarea,furnishingstatus]]))\n",
    "    print(price)\n",
    "    original_data = scaler.inverse_transform([[area, price]])\n",
    "    return y_original[0][1]"
   ]
  },
  {
   "cell_type": "code",
   "execution_count": 64,
   "id": "077b4baf",
   "metadata": {},
   "outputs": [
    {
     "name": "stdout",
     "output_type": "stream",
     "text": [
      "[0.73442954]\n"
     ]
    },
    {
     "name": "stderr",
     "output_type": "stream",
     "text": [
      "C:\\Users\\91830\\anaconda3\\lib\\site-packages\\sklearn\\base.py:420: UserWarning: X does not have valid feature names, but LinearRegression was fitted with feature names\n",
      "  warnings.warn(\n",
      "<__array_function__ internals>:180: VisibleDeprecationWarning: Creating an ndarray from ragged nested sequences (which is a list-or-tuple of lists-or-tuples-or ndarrays with different lengths or shapes) is deprecated. If you meant to do this, you must specify 'dtype=object' when creating the ndarray.\n"
     ]
    },
    {
     "data": {
      "text/plain": [
       "7257002.924500001"
      ]
     },
     "execution_count": 64,
     "metadata": {},
     "output_type": "execute_result"
    }
   ],
   "source": [
    "get_price_for_house(0.133333,1,4,7,1,0,0,0,1,0,1,0)"
   ]
  },
  {
   "cell_type": "code",
   "execution_count": 54,
   "id": "acfef422",
   "metadata": {},
   "outputs": [
    {
     "data": {
      "text/plain": [
       "array([[6.49999515e+03, 7.25700292e+06]])"
      ]
     },
     "execution_count": 54,
     "metadata": {},
     "output_type": "execute_result"
    }
   ],
   "source": [
    "y_original = scaler.inverse_transform([[0.333333, 0.47679679]])\n",
    "y_original"
   ]
  },
  {
   "cell_type": "code",
   "execution_count": null,
   "id": "99262b12",
   "metadata": {},
   "outputs": [],
   "source": []
  }
 ],
 "metadata": {
  "kernelspec": {
   "display_name": "Python 3 (ipykernel)",
   "language": "python",
   "name": "python3"
  },
  "language_info": {
   "codemirror_mode": {
    "name": "ipython",
    "version": 3
   },
   "file_extension": ".py",
   "mimetype": "text/x-python",
   "name": "python",
   "nbconvert_exporter": "python",
   "pygments_lexer": "ipython3",
   "version": "3.10.9"
  }
 },
 "nbformat": 4,
 "nbformat_minor": 5
}
